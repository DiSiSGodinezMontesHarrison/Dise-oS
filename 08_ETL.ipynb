{
  "nbformat": 4,
  "nbformat_minor": 0,
  "metadata": {
    "colab": {
      "name": "08_ETL.ipynb",
      "provenance": []
    },
    "kernelspec": {
      "name": "python3",
      "display_name": "Python 3"
    }
  },
  "cells": [
    {
      "cell_type": "code",
      "metadata": {
        "id": "C1YW_BCSjfyr",
        "colab_type": "code",
        "colab": {
          "base_uri": "https://localhost:8080/",
          "height": 74
        },
        "outputId": "37c01d61-218d-4061-9514-6dff96068bf0"
      },
      "source": [
        "import pandas as pd\n",
        "import numpy as np\n",
        "import matplotlib.pyplot as plt\n",
        "%matplotlib inline\n",
        "import seaborn as sns\n",
        "sns.set_style('darkgrid')"
      ],
      "execution_count": 2,
      "outputs": [
        {
          "output_type": "stream",
          "text": [
            "/usr/local/lib/python3.6/dist-packages/statsmodels/tools/_testing.py:19: FutureWarning: pandas.util.testing is deprecated. Use the functions in the public API at pandas.testing instead.\n",
            "  import pandas.util.testing as tm\n"
          ],
          "name": "stderr"
        }
      ]
    },
    {
      "cell_type": "markdown",
      "metadata": {
        "id": "B3Z_ubQEJG1A",
        "colab_type": "text"
      },
      "source": [
        "Glimpse Df"
      ]
    },
    {
      "cell_type": "markdown",
      "metadata": {
        "id": "LnQ_HErVKqrg",
        "colab_type": "text"
      },
      "source": [
        "La siguiente funcion se llama glimpse_df. Nos ayuda a darnos una idea basica  de como vienen los datos."
      ]
    },
    {
      "cell_type": "code",
      "metadata": {
        "id": "kpko65lbJJau",
        "colab_type": "code",
        "colab": {}
      },
      "source": [
        "def glimpse_df(df):\n",
        "  print('               Head              \\n')\n",
        "  print(df.head())\n",
        "  print(\"\\n  --------------------------- \\n\")\n",
        "  print('               Info              \\n')\n",
        "  print(df.info())\n",
        "  print(\"\\n  --------------------------- \\n\")\n",
        "  print(\"              Describe           \\n\")\n",
        "  print(df.describe())\n",
        "  print(\"\\n  --------------------------- \\n\")\n",
        "  print(\"                NaN              \\n\")\n",
        "  df_ = df[df.isna().any(axis=1)]\n",
        "  print(df_)"
      ],
      "execution_count": 3,
      "outputs": []
    },
    {
      "cell_type": "markdown",
      "metadata": {
        "id": "6TFbhfgPYJpj",
        "colab_type": "text"
      },
      "source": [
        "Misma funcion, pero mas modular:"
      ]
    },
    {
      "cell_type": "code",
      "metadata": {
        "id": "3Ku_4R5vPN5W",
        "colab_type": "code",
        "colab": {}
      },
      "source": [
        "# Podemos separarla en funciones mas modulares\n",
        "def print_s():\n",
        "    print(\"\\n  --------------------------- \\n\")\n",
        "\n",
        "def glimpse_df(df):\n",
        "  print('               Head              \\n')\n",
        "  print(df.head())\n",
        "  print_s()  \n",
        "  print('               Info              \\n')\n",
        "  print(df.info())\n",
        "  print_s()\n",
        "  print(\"              Describe           \\n\")\n",
        "  print(df.describe())\n",
        "  print_s()\n",
        "  print(\"                NaN              \\n\")\n",
        "  df_ = df[df.isna().any(axis=1)]\n",
        "  print(df_)"
      ],
      "execution_count": 4,
      "outputs": []
    },
    {
      "cell_type": "markdown",
      "metadata": {
        "id": "_auYJnwDOyJC",
        "colab_type": "text"
      },
      "source": [
        "Glimpse Column  "
      ]
    },
    {
      "cell_type": "markdown",
      "metadata": {
        "id": "sj9-AH99YQKw",
        "colab_type": "text"
      },
      "source": [
        "Version 1.0"
      ]
    },
    {
      "cell_type": "code",
      "metadata": {
        "id": "M-76rEsYO7m4",
        "colab_type": "code",
        "colab": {}
      },
      "source": [
        "\n",
        "\n",
        "def glimpse_columns(df=pd.DataFrame()):\n",
        "  for c in df.columns:\n",
        "    print_s()\n",
        "    print(c)\n",
        "    print(df[c].unique())"
      ],
      "execution_count": 5,
      "outputs": []
    },
    {
      "cell_type": "markdown",
      "metadata": {
        "id": "BZHr3b7aYNDJ",
        "colab_type": "text"
      },
      "source": [
        "Version 2.0"
      ]
    },
    {
      "cell_type": "code",
      "metadata": {
        "id": "KqdSEAi-YSOk",
        "colab_type": "code",
        "colab": {}
      },
      "source": [
        "# Valores unicos en un subset de columnas\n",
        "def glimpse_pair_columns(df=pd.DataFrame, x=[]):\n",
        "  print(df[x].drop_duplicates())"
      ],
      "execution_count": 6,
      "outputs": []
    },
    {
      "cell_type": "markdown",
      "metadata": {
        "id": "xkLS6bYyI9Zs",
        "colab_type": "text"
      },
      "source": [
        "# Pinguinos"
      ]
    },
    {
      "cell_type": "code",
      "metadata": {
        "id": "y2r0iVFxkSd2",
        "colab_type": "code",
        "colab": {
          "base_uri": "https://localhost:8080/",
          "height": 1000
        },
        "outputId": "798eed40-79cb-4ac7-e42c-71587166d0ad"
      },
      "source": [
        "penguins = sns.load_dataset('penguins')\n",
        "glimpse_df(penguins)"
      ],
      "execution_count": 7,
      "outputs": [
        {
          "output_type": "stream",
          "text": [
            "               Head              \n",
            "\n",
            "  species     island  culmen_length_mm  ...  flipper_length_mm  body_mass_g     sex\n",
            "0  Adelie  Torgersen              39.1  ...              181.0       3750.0    MALE\n",
            "1  Adelie  Torgersen              39.5  ...              186.0       3800.0  FEMALE\n",
            "2  Adelie  Torgersen              40.3  ...              195.0       3250.0  FEMALE\n",
            "3  Adelie  Torgersen               NaN  ...                NaN          NaN     NaN\n",
            "4  Adelie  Torgersen              36.7  ...              193.0       3450.0  FEMALE\n",
            "\n",
            "[5 rows x 7 columns]\n",
            "\n",
            "  --------------------------- \n",
            "\n",
            "               Info              \n",
            "\n",
            "<class 'pandas.core.frame.DataFrame'>\n",
            "RangeIndex: 344 entries, 0 to 343\n",
            "Data columns (total 7 columns):\n",
            " #   Column             Non-Null Count  Dtype  \n",
            "---  ------             --------------  -----  \n",
            " 0   species            344 non-null    object \n",
            " 1   island             344 non-null    object \n",
            " 2   culmen_length_mm   342 non-null    float64\n",
            " 3   culmen_depth_mm    342 non-null    float64\n",
            " 4   flipper_length_mm  342 non-null    float64\n",
            " 5   body_mass_g        342 non-null    float64\n",
            " 6   sex                333 non-null    object \n",
            "dtypes: float64(4), object(3)\n",
            "memory usage: 18.9+ KB\n",
            "None\n",
            "\n",
            "  --------------------------- \n",
            "\n",
            "              Describe           \n",
            "\n",
            "       culmen_length_mm  culmen_depth_mm  flipper_length_mm  body_mass_g\n",
            "count        342.000000       342.000000         342.000000   342.000000\n",
            "mean          43.921930        17.151170         200.915205  4201.754386\n",
            "std            5.459584         1.974793          14.061714   801.954536\n",
            "min           32.100000        13.100000         172.000000  2700.000000\n",
            "25%           39.225000        15.600000         190.000000  3550.000000\n",
            "50%           44.450000        17.300000         197.000000  4050.000000\n",
            "75%           48.500000        18.700000         213.000000  4750.000000\n",
            "max           59.600000        21.500000         231.000000  6300.000000\n",
            "\n",
            "  --------------------------- \n",
            "\n",
            "                NaN              \n",
            "\n",
            "    species     island  culmen_length_mm  ...  flipper_length_mm  body_mass_g  sex\n",
            "3    Adelie  Torgersen               NaN  ...                NaN          NaN  NaN\n",
            "8    Adelie  Torgersen              34.1  ...              193.0       3475.0  NaN\n",
            "9    Adelie  Torgersen              42.0  ...              190.0       4250.0  NaN\n",
            "10   Adelie  Torgersen              37.8  ...              186.0       3300.0  NaN\n",
            "11   Adelie  Torgersen              37.8  ...              180.0       3700.0  NaN\n",
            "47   Adelie      Dream              37.5  ...              179.0       2975.0  NaN\n",
            "246  Gentoo     Biscoe              44.5  ...              216.0       4100.0  NaN\n",
            "286  Gentoo     Biscoe              46.2  ...              214.0       4650.0  NaN\n",
            "324  Gentoo     Biscoe              47.3  ...              216.0       4725.0  NaN\n",
            "336  Gentoo     Biscoe              44.5  ...              217.0       4875.0  NaN\n",
            "339  Gentoo     Biscoe               NaN  ...                NaN          NaN  NaN\n",
            "\n",
            "[11 rows x 7 columns]\n"
          ],
          "name": "stdout"
        }
      ]
    },
    {
      "cell_type": "code",
      "metadata": {
        "id": "0blE7USKP5Ny",
        "colab_type": "code",
        "colab": {
          "base_uri": "https://localhost:8080/",
          "height": 1000
        },
        "outputId": "169241c3-4201-424c-d49f-a62a24b1bdf1"
      },
      "source": [
        "glimpse_columns(penguins)"
      ],
      "execution_count": 8,
      "outputs": [
        {
          "output_type": "stream",
          "text": [
            "\n",
            "  --------------------------- \n",
            "\n",
            "species\n",
            "['Adelie' 'Chinstrap' 'Gentoo']\n",
            "\n",
            "  --------------------------- \n",
            "\n",
            "island\n",
            "['Torgersen' 'Biscoe' 'Dream']\n",
            "\n",
            "  --------------------------- \n",
            "\n",
            "culmen_length_mm\n",
            "[39.1 39.5 40.3  nan 36.7 39.3 38.9 39.2 34.1 42.  37.8 41.1 38.6 34.6\n",
            " 36.6 38.7 42.5 34.4 46.  37.7 35.9 38.2 38.8 35.3 40.6 40.5 37.9 37.2\n",
            " 40.9 36.4 42.2 37.6 39.8 36.5 40.8 36.  44.1 37.  39.6 37.5 42.3 40.1\n",
            " 35.  34.5 41.4 39.  35.7 41.3 41.6 35.5 41.8 33.5 39.7 45.8 42.8 36.2\n",
            " 42.1 42.9 35.1 37.3 36.3 36.9 38.3 34.  38.1 33.1 43.2 41.  45.6 42.7\n",
            " 40.2 35.2 41.5 38.5 43.1 36.8 35.6 32.1 40.7 46.5 50.  51.3 45.4 52.7\n",
            " 45.2 46.1 46.6 51.7 47.  52.  45.9 50.5 50.3 58.  46.4 49.2 42.4 48.5\n",
            " 50.6 46.7 49.5 52.8 54.2 51.  49.7 47.5 47.6 46.9 53.5 49.  46.2 50.9\n",
            " 45.5 50.8 50.1 51.5 49.8 48.1 51.4 45.7 50.7 52.2 49.3 50.2 51.9 46.8\n",
            " 55.8 43.5 49.6 48.7 43.3 48.4 45.1 46.3 44.5 47.8 48.2 47.3 59.6 49.1\n",
            " 42.6 44.4 44.  45.3 43.6 44.9 45.  43.8 50.4 54.3 47.7 48.6 51.1 52.5\n",
            " 47.4 43.4 52.1 49.4 55.9 47.2 41.7 53.4 55.1 48.8 49.9]\n",
            "\n",
            "  --------------------------- \n",
            "\n",
            "culmen_depth_mm\n",
            "[18.7 17.4 18.   nan 19.3 20.6 17.8 19.6 18.1 20.2 17.1 17.3 17.6 21.2\n",
            " 21.1 19.  20.7 18.4 21.5 18.3 19.2 17.2 18.9 18.6 17.9 16.7 17.  20.\n",
            " 18.5 19.1 19.7 16.9 18.8 17.7 19.5 17.5 16.6 18.2 16.2 19.4 16.8 16.1\n",
            " 20.3 16.  16.5 20.5 19.8 15.9 20.1 15.5 19.9 20.8 16.4 13.2 16.3 14.1\n",
            " 15.2 14.5 13.5 14.6 15.3 13.4 15.4 13.7 15.7 15.1 14.3 15.8 13.1 15.\n",
            " 14.2 14.8 13.6 13.9 13.3 14.4 13.8 14.9 15.6 14.  14.7]\n",
            "\n",
            "  --------------------------- \n",
            "\n",
            "flipper_length_mm\n",
            "[181. 186. 195.  nan 193. 190. 180. 182. 191. 198. 185. 197. 184. 194.\n",
            " 174. 189. 187. 183. 172. 178. 188. 196. 179. 200. 192. 202. 205. 208.\n",
            " 203. 199. 176. 210. 201. 212. 206. 207. 211. 230. 218. 215. 219. 209.\n",
            " 214. 216. 213. 217. 221. 222. 220. 225. 224. 231. 229. 223. 228. 226.]\n",
            "\n",
            "  --------------------------- \n",
            "\n",
            "body_mass_g\n",
            "[3750. 3800. 3250.   nan 3450. 3650. 3625. 4675. 3475. 4250. 3300. 3700.\n",
            " 3200. 4400. 4500. 3325. 4200. 3400. 3600. 3950. 3550. 3150. 3900. 4150.\n",
            " 4650. 3100. 3000. 4600. 3425. 2975. 3500. 4300. 4050. 2900. 2850. 3350.\n",
            " 4100. 3050. 4450. 4000. 4700. 4350. 3725. 4725. 3075. 2925. 3175. 4775.\n",
            " 3825. 4275. 4075. 3775. 3875. 3275. 4475. 3975. 3525. 3575. 4550. 3850.\n",
            " 4800. 2700. 3675. 5700. 5400. 5200. 5150. 5550. 5850. 6300. 5350. 5000.\n",
            " 5050. 5100. 5650. 5250. 6050. 4950. 4750. 4900. 5300. 4850. 5800. 6000.\n",
            " 5950. 4625. 5450. 5600. 4875. 4925. 4975. 5500. 4575. 4375. 5750.]\n",
            "\n",
            "  --------------------------- \n",
            "\n",
            "sex\n",
            "['MALE' 'FEMALE' nan]\n"
          ],
          "name": "stdout"
        }
      ]
    },
    {
      "cell_type": "markdown",
      "metadata": {
        "id": "CCgl1BfWaDGY",
        "colab_type": "text"
      },
      "source": [
        "### Todas las islas tendran 'nans' en la solumna de sexo?  \n",
        "Hagamos uso de la funcion glimpse_pair_columns"
      ]
    },
    {
      "cell_type": "code",
      "metadata": {
        "id": "OL4cyoCPY11t",
        "colab_type": "code",
        "colab": {
          "base_uri": "https://localhost:8080/",
          "height": 201
        },
        "outputId": "93caa74e-53cd-474b-859a-036cf938c401"
      },
      "source": [
        "glimpse_pair_columns(penguins, ['sex', 'island'])"
      ],
      "execution_count": 9,
      "outputs": [
        {
          "output_type": "stream",
          "text": [
            "        sex     island\n",
            "0      MALE  Torgersen\n",
            "1    FEMALE  Torgersen\n",
            "3       NaN  Torgersen\n",
            "20   FEMALE     Biscoe\n",
            "21     MALE     Biscoe\n",
            "30   FEMALE      Dream\n",
            "31     MALE      Dream\n",
            "47      NaN      Dream\n",
            "246     NaN     Biscoe\n"
          ],
          "name": "stdout"
        }
      ]
    },
    {
      "cell_type": "markdown",
      "metadata": {
        "id": "FvKS7CxwaOle",
        "colab_type": "text"
      },
      "source": [
        "Al parecer todas las islas tienen pinguinos sin sexo detecatado.\n"
      ]
    },
    {
      "cell_type": "markdown",
      "metadata": {
        "id": "mgNc2jRja9OH",
        "colab_type": "text"
      },
      "source": [
        "# TAREA:  \n",
        "### 1. Cada isla contendra los 3 tipos de especies?  \n",
        "### 2. Cada columna tiene el tipo correcto (object, float, etc...)  \n",
        "### 3. Los datos estan en formato Tidy?"
      ]
    },
    {
      "cell_type": "code",
      "metadata": {
        "id": "9HhXJpFzbVyQ",
        "colab_type": "code",
        "colab": {}
      },
      "source": [
        ""
      ],
      "execution_count": 9,
      "outputs": []
    },
    {
      "cell_type": "code",
      "metadata": {
        "id": "hBa7TGndbW_Q",
        "colab_type": "code",
        "colab": {}
      },
      "source": [
        ""
      ],
      "execution_count": 9,
      "outputs": []
    },
    {
      "cell_type": "code",
      "metadata": {
        "id": "5gMljRIabXJB",
        "colab_type": "code",
        "colab": {}
      },
      "source": [
        ""
      ],
      "execution_count": 9,
      "outputs": []
    },
    {
      "cell_type": "markdown",
      "metadata": {
        "id": "ac1v7HU5aXgb",
        "colab_type": "text"
      },
      "source": [
        "# UFO"
      ]
    },
    {
      "cell_type": "markdown",
      "metadata": {
        "id": "517rVHphcnDb",
        "colab_type": "text"
      },
      "source": [
        "A continuacion analisaremos el set de datos UFO. Lo puedes buscar en Kaggle (Tip: Usa Goolge)"
      ]
    },
    {
      "cell_type": "code",
      "metadata": {
        "id": "mnh6XDb1bZZC",
        "colab_type": "code",
        "colab": {
          "base_uri": "https://localhost:8080/",
          "height": 1000
        },
        "outputId": "a96866cd-5e2c-4692-deb8-6eac4e8e25a7"
      },
      "source": [
        "ufo = pd.read_csv('https://raw.githubusercontent.com/IEXE-Tec/analisis-descriptivo/master/ufo.csv')\n",
        "glimpse_df(ufo)"
      ],
      "execution_count": 10,
      "outputs": [
        {
          "output_type": "stream",
          "text": [
            "               Head              \n",
            "\n",
            "           datetime                  city  ...    latitude  longitude \n",
            "0  10/10/1949 20:30            san marcos  ...  29.8830556  -97.941111\n",
            "1  10/10/1949 21:00          lackland afb  ...    29.38421  -98.581082\n",
            "2  10/10/1955 17:00  chester (uk/england)  ...        53.2   -2.916667\n",
            "3  10/10/1956 21:00                  edna  ...  28.9783333  -96.645833\n",
            "4  10/10/1960 20:00               kaneohe  ...  21.4180556 -157.803611\n",
            "\n",
            "[5 rows x 11 columns]\n",
            "\n",
            "  --------------------------- \n",
            "\n",
            "               Info              \n",
            "\n",
            "<class 'pandas.core.frame.DataFrame'>\n",
            "RangeIndex: 80332 entries, 0 to 80331\n",
            "Data columns (total 11 columns):\n",
            " #   Column                Non-Null Count  Dtype  \n",
            "---  ------                --------------  -----  \n",
            " 0   datetime              80332 non-null  object \n",
            " 1   city                  80332 non-null  object \n",
            " 2   state                 74535 non-null  object \n",
            " 3   country               70662 non-null  object \n",
            " 4   shape                 78400 non-null  object \n",
            " 5   duration (seconds)    80332 non-null  object \n",
            " 6   duration (hours/min)  80332 non-null  object \n",
            " 7   comments              80317 non-null  object \n",
            " 8   date posted           80332 non-null  object \n",
            " 9   latitude              80332 non-null  object \n",
            " 10  longitude             80332 non-null  float64\n",
            "dtypes: float64(1), object(10)\n",
            "memory usage: 6.7+ MB\n",
            "None\n",
            "\n",
            "  --------------------------- \n",
            "\n",
            "              Describe           \n",
            "\n",
            "         longitude \n",
            "count  80332.000000\n",
            "mean     -86.772885\n",
            "std       39.697205\n",
            "min     -176.658056\n",
            "25%     -112.073333\n",
            "50%      -87.903611\n",
            "75%      -78.755000\n",
            "max      178.441900\n",
            "\n",
            "  --------------------------- \n",
            "\n",
            "                NaN              \n",
            "\n",
            "               datetime                          city  ...   latitude longitude \n",
            "1      10/10/1949 21:00                  lackland afb  ...   29.38421 -98.581082\n",
            "2      10/10/1955 17:00          chester (uk/england)  ...       53.2  -2.916667\n",
            "6      10/10/1965 21:00            penarth (uk/wales)  ...  51.434722  -3.180000\n",
            "18     10/10/1973 23:00                   bermuda nas  ...  32.364167 -64.678611\n",
            "20     10/10/1974 21:30            cardiff (uk/wales)  ...       51.5  -3.200000\n",
            "...                 ...                           ...  ...        ...        ...\n",
            "80254    9/9/2009 21:15  nottinghamshire (uk/england)  ...    53.1667  -1.000000\n",
            "80255    9/9/2009 21:38       kaiserlautern (germany)  ...      49.45   7.750000\n",
            "80319    9/9/2013 20:15                       clifton  ...    40.8584 -74.163755\n",
            "80322    9/9/2013 21:00          aleksandrow (poland)  ...    50.4658  22.891814\n",
            "80324    9/9/2013 21:00         hamstead (hollyridge)  ...    34.3676 -77.710548\n",
            "\n",
            "[13816 rows x 11 columns]\n"
          ],
          "name": "stdout"
        },
        {
          "output_type": "stream",
          "text": [
            "/usr/local/lib/python3.6/dist-packages/IPython/core/interactiveshell.py:2718: DtypeWarning: Columns (5,9) have mixed types.Specify dtype option on import or set low_memory=False.\n",
            "  interactivity=interactivity, compiler=compiler, result=result)\n"
          ],
          "name": "stderr"
        }
      ]
    },
    {
      "cell_type": "markdown",
      "metadata": {
        "id": "D4SFiVDOcXGF",
        "colab_type": "text"
      },
      "source": [
        "# Tarea\n",
        "### Verifica que cada columna tenga el tipo de dato que le corresponda  \n",
        "### La base esta en formato tidy?\n",
        "### Que interpretacion tiene la media de la longitud?"
      ]
    },
    {
      "cell_type": "markdown",
      "metadata": {
        "id": "asY-sTBMcyNK",
        "colab_type": "text"
      },
      "source": [
        "# Yogurt"
      ]
    },
    {
      "cell_type": "markdown",
      "metadata": {
        "id": "XJXVTnDXdazA",
        "colab_type": "text"
      },
      "source": [
        "Con la finalidad de entender un poco mejor el proceso, generemos una serie de datos dummy. En este caso representaran las ventas de yogurt a nivel nacional."
      ]
    },
    {
      "cell_type": "code",
      "metadata": {
        "id": "v2EeCaZVdmTH",
        "colab_type": "code",
        "colab": {
          "base_uri": "https://localhost:8080/",
          "height": 1000
        },
        "outputId": "d508caf9-a450-4e40-bc42-0e55e55b7a03"
      },
      "source": [
        "np.random.seed(64673)\n",
        "n = 1000\n",
        "\n",
        "# Productos\n",
        "from random import choices\n",
        "producto = ['Bajo en Calorias', 'Alto en Calorias']\n",
        "producto = random.choices(producto, k=n)\n",
        "\n",
        "# Generemos las Ventas\n",
        "yogurt = np.random.multivariate_normal([100,9], \n",
        "          cov = [[5, -10], [-10, 1]], size=(n))\n",
        "\n",
        "yogurt = pd.DataFrame(yogurt, columns=['ventas', 'precio'])\n",
        "yogurt['producto'] = producto\n",
        "\n",
        "# Glimpse\n",
        "glimpse_df(yogurt)\n",
        "sns.scatterplot(data=yogurt, x='ventas', y ='precio')\n"
      ],
      "execution_count": 39,
      "outputs": [
        {
          "output_type": "stream",
          "text": [
            "               Head              \n",
            "\n",
            "       ventas     precio          producto\n",
            "0   97.113823  10.809959  Alto en Calorias\n",
            "1  105.420701  13.491615  Alto en Calorias\n",
            "2   98.600275   9.300384  Alto en Calorias\n",
            "3  100.083864   5.718565  Alto en Calorias\n",
            "4  103.461710   5.142385  Alto en Calorias\n",
            "\n",
            "  --------------------------- \n",
            "\n",
            "               Info              \n",
            "\n",
            "<class 'pandas.core.frame.DataFrame'>\n",
            "RangeIndex: 1000 entries, 0 to 999\n",
            "Data columns (total 3 columns):\n",
            " #   Column    Non-Null Count  Dtype  \n",
            "---  ------    --------------  -----  \n",
            " 0   ventas    1000 non-null   float64\n",
            " 1   precio    1000 non-null   float64\n",
            " 2   producto  1000 non-null   object \n",
            "dtypes: float64(2), object(1)\n",
            "memory usage: 23.6+ KB\n",
            "None\n",
            "\n",
            "  --------------------------- \n",
            "\n",
            "              Describe           \n",
            "\n",
            "            ventas       precio\n",
            "count  1000.000000  1000.000000\n",
            "mean    100.037989     8.948582\n",
            "std       3.173521     3.179653\n",
            "min      87.149883    -1.574783\n",
            "25%      98.006461     6.632991\n",
            "50%     100.022477     8.934719\n",
            "75%     102.036153    10.904762\n",
            "max     110.193901    19.007446\n",
            "\n",
            "  --------------------------- \n",
            "\n",
            "                NaN              \n",
            "\n",
            "Empty DataFrame\n",
            "Columns: [ventas, precio, producto]\n",
            "Index: []\n"
          ],
          "name": "stdout"
        },
        {
          "output_type": "stream",
          "text": [
            "/usr/local/lib/python3.6/dist-packages/ipykernel_launcher.py:11: RuntimeWarning: covariance is not positive-semidefinite.\n",
            "  # This is added back by InteractiveShellApp.init_path()\n"
          ],
          "name": "stderr"
        },
        {
          "output_type": "execute_result",
          "data": {
            "text/plain": [
              "<matplotlib.axes._subplots.AxesSubplot at 0x7f3700e39ef0>"
            ]
          },
          "metadata": {
            "tags": []
          },
          "execution_count": 39
        },
        {
          "output_type": "display_data",
          "data": {
            "image/png": "[encoded data removed]",
            "text/plain": [
              "<Figure size 432x288 with 1 Axes>"
            ]
          },
          "metadata": {
            "tags": []
          }
        }
      ]
    },
    {
      "cell_type": "markdown",
      "metadata": {
        "id": "eMCIar7WgIZe",
        "colab_type": "text"
      },
      "source": [
        "# Tarea\n"
      ]
    }
  ]
}