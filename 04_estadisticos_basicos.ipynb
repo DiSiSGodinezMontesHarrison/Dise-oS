{
  "nbformat": 4,
  "nbformat_minor": 0,
  "metadata": {
    "colab": {
      "name": "04_estadisticos_basicos.ipynb",
      "provenance": [],
      "collapsed_sections": [],
      "authorship_tag": "ABX9TyO+tpF21MjhJN3T6Yy4MLE9",
      "include_colab_link": true
    },
    "kernelspec": {
      "name": "python3",
      "display_name": "Python 3"
    }
  },
  "cells": [
    {
      "cell_type": "markdown",
      "metadata": {
        "id": "view-in-github",
        "colab_type": "text"
      },
      "source": [
        "<a href=\"https://colab.research.google.com/github/IEXE-Tec/analisis-descriptivo/blob/master/04_estadisticos_basicos.ipynb\" target=\"_parent\"><img src=\"https://colab.research.google.com/assets/colab-badge.svg\" alt=\"Open In Colab\"/></a>"
      ]
    },
    {
      "cell_type": "code",
      "metadata": {
        "id": "1wN8XgS_KcPi",
        "colab_type": "code",
        "colab": {}
      },
      "source": [
        "# Importo las librerias que usare en este notebook\n",
        "import pandas as pd\n",
        "import numpy as np\n",
        "import datetime\n",
        "\n",
        "import matplotlib.pyplot as plt\n",
        "plt.style.use('classic')\n",
        "%matplotlib inline\n",
        "import seaborn as sns\n",
        "sns.set()\n"
      ],
      "execution_count": null,
      "outputs": []
    },
    {
      "cell_type": "markdown",
      "metadata": {
        "id": "3lME-p4ZLNhb",
        "colab_type": "text"
      },
      "source": [
        "A lo largo de estos ejercicios utilizaremos la base de datos \"penguins\" que nos otorga nuestra libreria seaborn. \n",
        "\n",
        "La base contiene observaciones sobre el tamano de las aletas, y picos de varias especies de Pinguinos. Cada observacion corresponde a un pinguino en particular.\n",
        "\n",
        "Las variables son:  \n",
        "  a) **species**:= el tipo de especie a la que pertence el pinguino  \n",
        "  b) **island**:= la isla que habita  \n",
        "  c) **culmen_length_mm**:= longitud de su pico en milimetros  \n",
        "  d) **culmen_depth_mm**:= ancho de su pico en milimetros  \n",
        "  e) **flipper_length_mm**:= longitud de su pico en milimetros  \n",
        "  f) **body_mass_g**:= peso en gramos  \n",
        "  g) **sex**:= sexo del pinguino  \n",
        "\n",
        "  Fuente: https://github.com/allisonhorst/palmerpenguins"
      ]
    },
    {
      "cell_type": "code",
      "metadata": {
        "id": "uiL13um-MEar",
        "colab_type": "code",
        "colab": {
          "base_uri": "https://localhost:8080/",
          "height": 594
        },
        "outputId": "9d43d198-7cf2-4d97-ee0e-02b1ef7131e6"
      },
      "source": [
        "penguins = sns.load_dataset('penguins')\n",
        "print(' Variables o columnas: ')\n",
        "print(penguins.columns)\n",
        "print('Types')\n",
        "print(penguins.info())\n",
        "penguins.head(5)"
      ],
      "execution_count": null,
      "outputs": [
        {
          "output_type": "stream",
          "text": [
            " Variables o columnas: \n",
            "Index(['species', 'island', 'culmen_length_mm', 'culmen_depth_mm',\n",
            "       'flipper_length_mm', 'body_mass_g', 'sex'],\n",
            "      dtype='object')\n",
            "Types\n",
            "<class 'pandas.core.frame.DataFrame'>\n",
            "RangeIndex: 344 entries, 0 to 343\n",
            "Data columns (total 7 columns):\n",
            " #   Column             Non-Null Count  Dtype  \n",
            "---  ------             --------------  -----  \n",
            " 0   species            344 non-null    object \n",
            " 1   island             344 non-null    object \n",
            " 2   culmen_length_mm   342 non-null    float64\n",
            " 3   culmen_depth_mm    342 non-null    float64\n",
            " 4   flipper_length_mm  342 non-null    float64\n",
            " 5   body_mass_g        342 non-null    float64\n",
            " 6   sex                333 non-null    object \n",
            "dtypes: float64(4), object(3)\n",
            "memory usage: 18.9+ KB\n",
            "None\n"
          ],
          "name": "stdout"
        },
        {
          "output_type": "execute_result",
          "data": {
            "text/html": [
              "<div>\n",
              "<style scoped>\n",
              "    .dataframe tbody tr th:only-of-type {\n",
              "        vertical-align: middle;\n",
              "    }\n",
              "\n",
              "    .dataframe tbody tr th {\n",
              "        vertical-align: top;\n",
              "    }\n",
              "\n",
              "    .dataframe thead th {\n",
              "        text-align: right;\n",
              "    }\n",
              "</style>\n",
              "<table border=\"1\" class=\"dataframe\">\n",
              "  <thead>\n",
              "    <tr style=\"text-align: right;\">\n",
              "      <th></th>\n",
              "      <th>species</th>\n",
              "      <th>island</th>\n",
              "      <th>culmen_length_mm</th>\n",
              "      <th>culmen_depth_mm</th>\n",
              "      <th>flipper_length_mm</th>\n",
              "      <th>body_mass_g</th>\n",
              "      <th>sex</th>\n",
              "    </tr>\n",
              "  </thead>\n",
              "  <tbody>\n",
              "    <tr>\n",
              "      <th>0</th>\n",
              "      <td>Adelie</td>\n",
              "      <td>Torgersen</td>\n",
              "      <td>39.1</td>\n",
              "      <td>18.7</td>\n",
              "      <td>181.0</td>\n",
              "      <td>3750.0</td>\n",
              "      <td>MALE</td>\n",
              "    </tr>\n",
              "    <tr>\n",
              "      <th>1</th>\n",
              "      <td>Adelie</td>\n",
              "      <td>Torgersen</td>\n",
              "      <td>39.5</td>\n",
              "      <td>17.4</td>\n",
              "      <td>186.0</td>\n",
              "      <td>3800.0</td>\n",
              "      <td>FEMALE</td>\n",
              "    </tr>\n",
              "    <tr>\n",
              "      <th>2</th>\n",
              "      <td>Adelie</td>\n",
              "      <td>Torgersen</td>\n",
              "      <td>40.3</td>\n",
              "      <td>18.0</td>\n",
              "      <td>195.0</td>\n",
              "      <td>3250.0</td>\n",
              "      <td>FEMALE</td>\n",
              "    </tr>\n",
              "    <tr>\n",
              "      <th>3</th>\n",
              "      <td>Adelie</td>\n",
              "      <td>Torgersen</td>\n",
              "      <td>NaN</td>\n",
              "      <td>NaN</td>\n",
              "      <td>NaN</td>\n",
              "      <td>NaN</td>\n",
              "      <td>NaN</td>\n",
              "    </tr>\n",
              "    <tr>\n",
              "      <th>4</th>\n",
              "      <td>Adelie</td>\n",
              "      <td>Torgersen</td>\n",
              "      <td>36.7</td>\n",
              "      <td>19.3</td>\n",
              "      <td>193.0</td>\n",
              "      <td>3450.0</td>\n",
              "      <td>FEMALE</td>\n",
              "    </tr>\n",
              "  </tbody>\n",
              "</table>\n",
              "</div>"
            ],
            "text/plain": [
              "  species     island  culmen_length_mm  ...  flipper_length_mm  body_mass_g     sex\n",
              "0  Adelie  Torgersen              39.1  ...              181.0       3750.0    MALE\n",
              "1  Adelie  Torgersen              39.5  ...              186.0       3800.0  FEMALE\n",
              "2  Adelie  Torgersen              40.3  ...              195.0       3250.0  FEMALE\n",
              "3  Adelie  Torgersen               NaN  ...                NaN          NaN     NaN\n",
              "4  Adelie  Torgersen              36.7  ...              193.0       3450.0  FEMALE\n",
              "\n",
              "[5 rows x 7 columns]"
            ]
          },
          "metadata": {
            "tags": []
          },
          "execution_count": 35
        }
      ]
    },
    {
      "cell_type": "markdown",
      "metadata": {
        "id": "3F9593d_KtFX",
        "colab_type": "text"
      },
      "source": [
        "# Medidas de Tendencia central, y estadisticos basicos\n"
      ]
    },
    {
      "cell_type": "markdown",
      "metadata": {
        "id": "xyct8y67KxyK",
        "colab_type": "text"
      },
      "source": [
        "Nos ayudan a responder si alguna observación tiene un valor alto o bajo respecto a otras observaciones, para alguna variable en particular.\n"
      ]
    },
    {
      "cell_type": "markdown",
      "metadata": {
        "id": "OtCIoCZ8OaZ3",
        "colab_type": "text"
      },
      "source": [
        "### El metodo .describe() nos ayuda a obtener las medidas de tendencia central (y mas) de las variables. Recuerda que algunas medidas solo pueden ser calculadas cuando el tipo de dato en la columna o variable esta expresado en numero. En nuestro ejemplo seria imposible obtener la media de \"species\" o \"sex\" pues es un \"string\". Si quisieramos obtener medidas de tendencia central sobre estros valores tendriamos que codificarlos de manera que sean numeros.  \n",
        "\n",
        "Si tines dudas sobre el metodo te invito a revisar la documentacion: https://pandas.pydata.org/pandas-docs/stable/reference/api/pandas.DataFrame.describe.html"
      ]
    },
    {
      "cell_type": "code",
      "metadata": {
        "id": "u9HPrvh2OY_5",
        "colab_type": "code",
        "colab": {
          "base_uri": "https://localhost:8080/",
          "height": 300
        },
        "outputId": "b4429b59-ae73-4f26-fef0-9c20c55da522"
      },
      "source": [
        "# Describe sin codificacion\n",
        "penguins.describe()"
      ],
      "execution_count": null,
      "outputs": [
        {
          "output_type": "execute_result",
          "data": {
            "text/html": [
              "<div>\n",
              "<style scoped>\n",
              "    .dataframe tbody tr th:only-of-type {\n",
              "        vertical-align: middle;\n",
              "    }\n",
              "\n",
              "    .dataframe tbody tr th {\n",
              "        vertical-align: top;\n",
              "    }\n",
              "\n",
              "    .dataframe thead th {\n",
              "        text-align: right;\n",
              "    }\n",
              "</style>\n",
              "<table border=\"1\" class=\"dataframe\">\n",
              "  <thead>\n",
              "    <tr style=\"text-align: right;\">\n",
              "      <th></th>\n",
              "      <th>culmen_length_mm</th>\n",
              "      <th>culmen_depth_mm</th>\n",
              "      <th>flipper_length_mm</th>\n",
              "      <th>body_mass_g</th>\n",
              "    </tr>\n",
              "  </thead>\n",
              "  <tbody>\n",
              "    <tr>\n",
              "      <th>count</th>\n",
              "      <td>342.000000</td>\n",
              "      <td>342.000000</td>\n",
              "      <td>342.000000</td>\n",
              "      <td>342.000000</td>\n",
              "    </tr>\n",
              "    <tr>\n",
              "      <th>mean</th>\n",
              "      <td>43.921930</td>\n",
              "      <td>17.151170</td>\n",
              "      <td>200.915205</td>\n",
              "      <td>4201.754386</td>\n",
              "    </tr>\n",
              "    <tr>\n",
              "      <th>std</th>\n",
              "      <td>5.459584</td>\n",
              "      <td>1.974793</td>\n",
              "      <td>14.061714</td>\n",
              "      <td>801.954536</td>\n",
              "    </tr>\n",
              "    <tr>\n",
              "      <th>min</th>\n",
              "      <td>32.100000</td>\n",
              "      <td>13.100000</td>\n",
              "      <td>172.000000</td>\n",
              "      <td>2700.000000</td>\n",
              "    </tr>\n",
              "    <tr>\n",
              "      <th>25%</th>\n",
              "      <td>39.225000</td>\n",
              "      <td>15.600000</td>\n",
              "      <td>190.000000</td>\n",
              "      <td>3550.000000</td>\n",
              "    </tr>\n",
              "    <tr>\n",
              "      <th>50%</th>\n",
              "      <td>44.450000</td>\n",
              "      <td>17.300000</td>\n",
              "      <td>197.000000</td>\n",
              "      <td>4050.000000</td>\n",
              "    </tr>\n",
              "    <tr>\n",
              "      <th>75%</th>\n",
              "      <td>48.500000</td>\n",
              "      <td>18.700000</td>\n",
              "      <td>213.000000</td>\n",
              "      <td>4750.000000</td>\n",
              "    </tr>\n",
              "    <tr>\n",
              "      <th>max</th>\n",
              "      <td>59.600000</td>\n",
              "      <td>21.500000</td>\n",
              "      <td>231.000000</td>\n",
              "      <td>6300.000000</td>\n",
              "    </tr>\n",
              "  </tbody>\n",
              "</table>\n",
              "</div>"
            ],
            "text/plain": [
              "       culmen_length_mm  culmen_depth_mm  flipper_length_mm  body_mass_g\n",
              "count        342.000000       342.000000         342.000000   342.000000\n",
              "mean          43.921930        17.151170         200.915205  4201.754386\n",
              "std            5.459584         1.974793          14.061714   801.954536\n",
              "min           32.100000        13.100000         172.000000  2700.000000\n",
              "25%           39.225000        15.600000         190.000000  3550.000000\n",
              "50%           44.450000        17.300000         197.000000  4050.000000\n",
              "75%           48.500000        18.700000         213.000000  4750.000000\n",
              "max           59.600000        21.500000         231.000000  6300.000000"
            ]
          },
          "metadata": {
            "tags": []
          },
          "execution_count": 36
        }
      ]
    },
    {
      "cell_type": "markdown",
      "metadata": {
        "id": "NbONTR58ZUPS",
        "colab_type": "text"
      },
      "source": [
        "### Repaso de codificacion\n"
      ]
    },
    {
      "cell_type": "code",
      "metadata": {
        "id": "2ena8fO7UG3g",
        "colab_type": "code",
        "colab": {}
      },
      "source": [
        "# Creamos una funcion auxiliar para revisar los datos y elegir una codificacion\n",
        "def print_uniqueness(data=pd.DataFrame(), x = None):\n",
        "  '''\n",
        "  This function prints the unique values of the column specified in x\n",
        "  for the data, and the number of unique values.\n",
        "  data:= [pandas data frame], data\n",
        "  x:= [string] column of the data to analize\n",
        "  '''\n",
        "  v = data[x].unique()\n",
        "  print('Unique values of', x, ':')\n",
        "  print(v)\n",
        "  print('Number of unique values: ', len(v))\n",
        "  print('%%%%%%%%%%%%%%%%%%%%%%%%%%%%%%%%%%%%%%%%%%%%%%%%%')\n",
        "  print()\n",
        "  return 0"
      ],
      "execution_count": null,
      "outputs": []
    },
    {
      "cell_type": "code",
      "metadata": {
        "id": "vn7mK4Y2XUKa",
        "colab_type": "code",
        "colab": {
          "base_uri": "https://localhost:8080/",
          "height": 293
        },
        "outputId": "3f1437d4-553c-48d4-b31c-2459632f7d8e"
      },
      "source": [
        "# Iteramos sobre las variables categoricas\n",
        "for c in ['species', 'island', 'sex']:\n",
        "  print_uniqueness(penguins, c)"
      ],
      "execution_count": null,
      "outputs": [
        {
          "output_type": "stream",
          "text": [
            "Unique values of species :\n",
            "['Adelie' 'Chinstrap' 'Gentoo']\n",
            "Number of unique values:  3\n",
            "%%%%%%%%%%%%%%%%%%%%%%%%%%%%%%%%%%%%%%%%%%%%%%%%%\n",
            "\n",
            "Unique values of island :\n",
            "['Torgersen' 'Biscoe' 'Dream']\n",
            "Number of unique values:  3\n",
            "%%%%%%%%%%%%%%%%%%%%%%%%%%%%%%%%%%%%%%%%%%%%%%%%%\n",
            "\n",
            "Unique values of sex :\n",
            "['MALE' 'FEMALE' nan]\n",
            "Number of unique values:  3\n",
            "%%%%%%%%%%%%%%%%%%%%%%%%%%%%%%%%%%%%%%%%%%%%%%%%%\n",
            "\n"
          ],
          "name": "stdout"
        }
      ]
    },
    {
      "cell_type": "markdown",
      "metadata": {
        "id": "SyCc8LeaYY1n",
        "colab_type": "text"
      },
      "source": [
        "Para codificar te recomiendo usar el metodo .replace() de pandas. Se crea un diccionario, donde cada llave representa una columna a codificar. A su vez cada llave apunta a otro diccionarion donde cada llave representa un valor posible de la variable y apunta a su viena codificacion.\n",
        "\n",
        "Documentacion: https://pandas.pydata.org/pandas-docs/stable/reference/api/pandas.DataFrame.replace.html"
      ]
    },
    {
      "cell_type": "code",
      "metadata": {
        "id": "3zmxcCNYPo2o",
        "colab_type": "code",
        "colab": {
          "base_uri": "https://localhost:8080/",
          "height": 444
        },
        "outputId": "4ff5c419-9000-4574-a9ed-9c6808dcdf41"
      },
      "source": [
        "# Codifiquemos\n",
        "penguins_cod = {\n",
        "    'species':{'Adelie':1, 'Chinstrap':2, 'Gentoo':3},\n",
        "    'island':{'Torgersen':1, 'Biscoe':2, 'Dream':3},\n",
        "    'sex':{'MALE':1, 'FEMALE':0, np.nan:2}\n",
        "}\n",
        "penguins.replace(penguins_cod)"
      ],
      "execution_count": null,
      "outputs": [
        {
          "output_type": "execute_result",
          "data": {
            "text/html": [
              "<div>\n",
              "<style scoped>\n",
              "    .dataframe tbody tr th:only-of-type {\n",
              "        vertical-align: middle;\n",
              "    }\n",
              "\n",
              "    .dataframe tbody tr th {\n",
              "        vertical-align: top;\n",
              "    }\n",
              "\n",
              "    .dataframe thead th {\n",
              "        text-align: right;\n",
              "    }\n",
              "</style>\n",
              "<table border=\"1\" class=\"dataframe\">\n",
              "  <thead>\n",
              "    <tr style=\"text-align: right;\">\n",
              "      <th></th>\n",
              "      <th>species</th>\n",
              "      <th>island</th>\n",
              "      <th>culmen_length_mm</th>\n",
              "      <th>culmen_depth_mm</th>\n",
              "      <th>flipper_length_mm</th>\n",
              "      <th>body_mass_g</th>\n",
              "      <th>sex</th>\n",
              "    </tr>\n",
              "  </thead>\n",
              "  <tbody>\n",
              "    <tr>\n",
              "      <th>0</th>\n",
              "      <td>1</td>\n",
              "      <td>1</td>\n",
              "      <td>39.1</td>\n",
              "      <td>18.7</td>\n",
              "      <td>181.0</td>\n",
              "      <td>3750.0</td>\n",
              "      <td>1</td>\n",
              "    </tr>\n",
              "    <tr>\n",
              "      <th>1</th>\n",
              "      <td>1</td>\n",
              "      <td>1</td>\n",
              "      <td>39.5</td>\n",
              "      <td>17.4</td>\n",
              "      <td>186.0</td>\n",
              "      <td>3800.0</td>\n",
              "      <td>0</td>\n",
              "    </tr>\n",
              "    <tr>\n",
              "      <th>2</th>\n",
              "      <td>1</td>\n",
              "      <td>1</td>\n",
              "      <td>40.3</td>\n",
              "      <td>18.0</td>\n",
              "      <td>195.0</td>\n",
              "      <td>3250.0</td>\n",
              "      <td>0</td>\n",
              "    </tr>\n",
              "    <tr>\n",
              "      <th>3</th>\n",
              "      <td>1</td>\n",
              "      <td>1</td>\n",
              "      <td>NaN</td>\n",
              "      <td>NaN</td>\n",
              "      <td>NaN</td>\n",
              "      <td>NaN</td>\n",
              "      <td>2</td>\n",
              "    </tr>\n",
              "    <tr>\n",
              "      <th>4</th>\n",
              "      <td>1</td>\n",
              "      <td>1</td>\n",
              "      <td>36.7</td>\n",
              "      <td>19.3</td>\n",
              "      <td>193.0</td>\n",
              "      <td>3450.0</td>\n",
              "      <td>0</td>\n",
              "    </tr>\n",
              "    <tr>\n",
              "      <th>...</th>\n",
              "      <td>...</td>\n",
              "      <td>...</td>\n",
              "      <td>...</td>\n",
              "      <td>...</td>\n",
              "      <td>...</td>\n",
              "      <td>...</td>\n",
              "      <td>...</td>\n",
              "    </tr>\n",
              "    <tr>\n",
              "      <th>339</th>\n",
              "      <td>3</td>\n",
              "      <td>2</td>\n",
              "      <td>NaN</td>\n",
              "      <td>NaN</td>\n",
              "      <td>NaN</td>\n",
              "      <td>NaN</td>\n",
              "      <td>2</td>\n",
              "    </tr>\n",
              "    <tr>\n",
              "      <th>340</th>\n",
              "      <td>3</td>\n",
              "      <td>2</td>\n",
              "      <td>46.8</td>\n",
              "      <td>14.3</td>\n",
              "      <td>215.0</td>\n",
              "      <td>4850.0</td>\n",
              "      <td>0</td>\n",
              "    </tr>\n",
              "    <tr>\n",
              "      <th>341</th>\n",
              "      <td>3</td>\n",
              "      <td>2</td>\n",
              "      <td>50.4</td>\n",
              "      <td>15.7</td>\n",
              "      <td>222.0</td>\n",
              "      <td>5750.0</td>\n",
              "      <td>1</td>\n",
              "    </tr>\n",
              "    <tr>\n",
              "      <th>342</th>\n",
              "      <td>3</td>\n",
              "      <td>2</td>\n",
              "      <td>45.2</td>\n",
              "      <td>14.8</td>\n",
              "      <td>212.0</td>\n",
              "      <td>5200.0</td>\n",
              "      <td>0</td>\n",
              "    </tr>\n",
              "    <tr>\n",
              "      <th>343</th>\n",
              "      <td>3</td>\n",
              "      <td>2</td>\n",
              "      <td>49.9</td>\n",
              "      <td>16.1</td>\n",
              "      <td>213.0</td>\n",
              "      <td>5400.0</td>\n",
              "      <td>1</td>\n",
              "    </tr>\n",
              "  </tbody>\n",
              "</table>\n",
              "<p>344 rows × 7 columns</p>\n",
              "</div>"
            ],
            "text/plain": [
              "     species  island  culmen_length_mm  ...  flipper_length_mm  body_mass_g  sex\n",
              "0          1       1              39.1  ...              181.0       3750.0    1\n",
              "1          1       1              39.5  ...              186.0       3800.0    0\n",
              "2          1       1              40.3  ...              195.0       3250.0    0\n",
              "3          1       1               NaN  ...                NaN          NaN    2\n",
              "4          1       1              36.7  ...              193.0       3450.0    0\n",
              "..       ...     ...               ...  ...                ...          ...  ...\n",
              "339        3       2               NaN  ...                NaN          NaN    2\n",
              "340        3       2              46.8  ...              215.0       4850.0    0\n",
              "341        3       2              50.4  ...              222.0       5750.0    1\n",
              "342        3       2              45.2  ...              212.0       5200.0    0\n",
              "343        3       2              49.9  ...              213.0       5400.0    1\n",
              "\n",
              "[344 rows x 7 columns]"
            ]
          },
          "metadata": {
            "tags": []
          },
          "execution_count": 33
        }
      ]
    },
    {
      "cell_type": "markdown",
      "metadata": {
        "id": "w_fYIzi4ZskD",
        "colab_type": "text"
      },
      "source": [
        "## Tarea:  \n",
        "A) Piensa que tipo de dato es cada variable\\columna?    \n",
        "B) Que estadisticos no son de utilidad en cada caso?"
      ]
    },
    {
      "cell_type": "code",
      "metadata": {
        "id": "Pxlasfv2ZoCu",
        "colab_type": "code",
        "colab": {
          "base_uri": "https://localhost:8080/",
          "height": 300
        },
        "outputId": "726d5777-e3b9-4cd4-b0a2-e00218878224"
      },
      "source": [
        "penguins.replace(penguins_cod).describe()"
      ],
      "execution_count": null,
      "outputs": [
        {
          "output_type": "execute_result",
          "data": {
            "text/html": [
              "<div>\n",
              "<style scoped>\n",
              "    .dataframe tbody tr th:only-of-type {\n",
              "        vertical-align: middle;\n",
              "    }\n",
              "\n",
              "    .dataframe tbody tr th {\n",
              "        vertical-align: top;\n",
              "    }\n",
              "\n",
              "    .dataframe thead th {\n",
              "        text-align: right;\n",
              "    }\n",
              "</style>\n",
              "<table border=\"1\" class=\"dataframe\">\n",
              "  <thead>\n",
              "    <tr style=\"text-align: right;\">\n",
              "      <th></th>\n",
              "      <th>species</th>\n",
              "      <th>island</th>\n",
              "      <th>culmen_length_mm</th>\n",
              "      <th>culmen_depth_mm</th>\n",
              "      <th>flipper_length_mm</th>\n",
              "      <th>body_mass_g</th>\n",
              "      <th>sex</th>\n",
              "    </tr>\n",
              "  </thead>\n",
              "  <tbody>\n",
              "    <tr>\n",
              "      <th>count</th>\n",
              "      <td>344.000000</td>\n",
              "      <td>344.000000</td>\n",
              "      <td>342.000000</td>\n",
              "      <td>342.000000</td>\n",
              "      <td>342.000000</td>\n",
              "      <td>342.000000</td>\n",
              "      <td>344.000000</td>\n",
              "    </tr>\n",
              "    <tr>\n",
              "      <th>mean</th>\n",
              "      <td>1.918605</td>\n",
              "      <td>2.209302</td>\n",
              "      <td>43.921930</td>\n",
              "      <td>17.151170</td>\n",
              "      <td>200.915205</td>\n",
              "      <td>4201.754386</td>\n",
              "      <td>0.552326</td>\n",
              "    </tr>\n",
              "    <tr>\n",
              "      <th>std</th>\n",
              "      <td>0.893320</td>\n",
              "      <td>0.684970</td>\n",
              "      <td>5.459584</td>\n",
              "      <td>1.974793</td>\n",
              "      <td>14.061714</td>\n",
              "      <td>801.954536</td>\n",
              "      <td>0.558680</td>\n",
              "    </tr>\n",
              "    <tr>\n",
              "      <th>min</th>\n",
              "      <td>1.000000</td>\n",
              "      <td>1.000000</td>\n",
              "      <td>32.100000</td>\n",
              "      <td>13.100000</td>\n",
              "      <td>172.000000</td>\n",
              "      <td>2700.000000</td>\n",
              "      <td>0.000000</td>\n",
              "    </tr>\n",
              "    <tr>\n",
              "      <th>25%</th>\n",
              "      <td>1.000000</td>\n",
              "      <td>2.000000</td>\n",
              "      <td>39.225000</td>\n",
              "      <td>15.600000</td>\n",
              "      <td>190.000000</td>\n",
              "      <td>3550.000000</td>\n",
              "      <td>0.000000</td>\n",
              "    </tr>\n",
              "    <tr>\n",
              "      <th>50%</th>\n",
              "      <td>2.000000</td>\n",
              "      <td>2.000000</td>\n",
              "      <td>44.450000</td>\n",
              "      <td>17.300000</td>\n",
              "      <td>197.000000</td>\n",
              "      <td>4050.000000</td>\n",
              "      <td>1.000000</td>\n",
              "    </tr>\n",
              "    <tr>\n",
              "      <th>75%</th>\n",
              "      <td>3.000000</td>\n",
              "      <td>3.000000</td>\n",
              "      <td>48.500000</td>\n",
              "      <td>18.700000</td>\n",
              "      <td>213.000000</td>\n",
              "      <td>4750.000000</td>\n",
              "      <td>1.000000</td>\n",
              "    </tr>\n",
              "    <tr>\n",
              "      <th>max</th>\n",
              "      <td>3.000000</td>\n",
              "      <td>3.000000</td>\n",
              "      <td>59.600000</td>\n",
              "      <td>21.500000</td>\n",
              "      <td>231.000000</td>\n",
              "      <td>6300.000000</td>\n",
              "      <td>2.000000</td>\n",
              "    </tr>\n",
              "  </tbody>\n",
              "</table>\n",
              "</div>"
            ],
            "text/plain": [
              "          species      island  ...  body_mass_g         sex\n",
              "count  344.000000  344.000000  ...   342.000000  344.000000\n",
              "mean     1.918605    2.209302  ...  4201.754386    0.552326\n",
              "std      0.893320    0.684970  ...   801.954536    0.558680\n",
              "min      1.000000    1.000000  ...  2700.000000    0.000000\n",
              "25%      1.000000    2.000000  ...  3550.000000    0.000000\n",
              "50%      2.000000    2.000000  ...  4050.000000    1.000000\n",
              "75%      3.000000    3.000000  ...  4750.000000    1.000000\n",
              "max      3.000000    3.000000  ...  6300.000000    2.000000\n",
              "\n",
              "[8 rows x 7 columns]"
            ]
          },
          "metadata": {
            "tags": []
          },
          "execution_count": 40
        }
      ]
    },
    {
      "cell_type": "markdown",
      "metadata": {
        "id": "wTClAI6PZHJn",
        "colab_type": "text"
      },
      "source": [
        "Por ahora preferimos mantener las variables sin codificar, sin embargo es bueno tener presente que podemos hacerlo en cualquier momento. "
      ]
    },
    {
      "cell_type": "markdown",
      "metadata": {
        "id": "ziiQPouvK3l8",
        "colab_type": "text"
      },
      "source": [
        "## Media\n"
      ]
    },
    {
      "cell_type": "markdown",
      "metadata": {
        "id": "y1rSaCFMa_Ld",
        "colab_type": "text"
      },
      "source": [
        "\n",
        "El metodo .mean() de pandas nos permite visualizar las medias de cada columna."
      ]
    },
    {
      "cell_type": "code",
      "metadata": {
        "id": "WRB7Clzs9KMi",
        "colab_type": "code",
        "colab": {
          "base_uri": "https://localhost:8080/",
          "height": 201
        },
        "outputId": "236ca92e-5fb5-4061-c2d9-802003fd2719"
      },
      "source": [
        "# El metodo .mean() de numpy nos permite calcular la media\n",
        "x1 = [1, 1, 1 ,1]\n",
        "x2 = [1, 1, 1, 15]\n",
        "x3 = [1 , 15, 15, 15]\n",
        "x4 = [3, 6, 6, 6]\n",
        "print(\"Numpy mean\")\n",
        "print(x1, \" , media:\" ,np.array(x1).mean())\n",
        "print(x2, \" , media:\" ,np.array(x2).mean())\n",
        "\n",
        "print()\n",
        "# El metodo .mean() de pandas nos permite calcular la media\n",
        "df = pd.DataFrame.from_dict({\n",
        "    \"x1\":x1, \"x2\":x2, \"x3\":x3, \"x4\":x4\n",
        "})\n",
        "print( \"Pandas mean\")\n",
        "df.mean()"
      ],
      "execution_count": null,
      "outputs": [
        {
          "output_type": "stream",
          "text": [
            "Numpy mean\n",
            "[1, 1, 1, 1]  , media: 1.0\n",
            "[1, 1, 1, 15]  , media: 4.5\n",
            "\n",
            "Pandas mean\n"
          ],
          "name": "stdout"
        },
        {
          "output_type": "execute_result",
          "data": {
            "text/plain": [
              "x1     1.00\n",
              "x2     4.50\n",
              "x3    11.50\n",
              "x4     5.25\n",
              "dtype: float64"
            ]
          },
          "metadata": {
            "tags": []
          },
          "execution_count": 56
        }
      ]
    },
    {
      "cell_type": "code",
      "metadata": {
        "id": "uTmkwQniabUt",
        "colab_type": "code",
        "colab": {
          "base_uri": "https://localhost:8080/",
          "height": 109
        },
        "outputId": "4ff6ddf3-207c-4eb6-a812-e666219793b2"
      },
      "source": [
        "# El metodo .mean() de pandas de pandas nos permite visualizar las medias de cada columna\n",
        "penguins.mean()"
      ],
      "execution_count": null,
      "outputs": [
        {
          "output_type": "execute_result",
          "data": {
            "text/plain": [
              "culmen_length_mm       43.921930\n",
              "culmen_depth_mm        17.151170\n",
              "flipper_length_mm     200.915205\n",
              "body_mass_g          4201.754386\n",
              "dtype: float64"
            ]
          },
          "metadata": {
            "tags": []
          },
          "execution_count": 41
        }
      ]
    },
    {
      "cell_type": "markdown",
      "metadata": {
        "id": "Dq958vfMa1L7",
        "colab_type": "text"
      },
      "source": [
        "## Mediana"
      ]
    },
    {
      "cell_type": "markdown",
      "metadata": {
        "id": "kuu50weSbKMm",
        "colab_type": "text"
      },
      "source": [
        "El metodo .median() nos regresa la mediana de los datos."
      ]
    },
    {
      "cell_type": "code",
      "metadata": {
        "id": "n22zbh6hB3IX",
        "colab_type": "code",
        "colab": {
          "base_uri": "https://localhost:8080/",
          "height": 146
        },
        "outputId": "495595ca-f94e-4a45-94e9-11a380bfbc2b"
      },
      "source": [
        "x1 = [1, 1, 1 ,1]\n",
        "x2 = [1, 1, 1, 15]\n",
        "x3 = [1 , 15, 15, 15]\n",
        "x4 = [3, 6, 6, 6]\n",
        "\n",
        "print()\n",
        "# El metodo .median() de pandas nos permite calcular la mediana\n",
        "df = pd.DataFrame.from_dict({\n",
        "    \"x1\":x1, \"x2\":x2, \"x3\":x3, \"x4\":x4\n",
        "})\n",
        "print( \"Pandas median\")\n",
        "df.median()"
      ],
      "execution_count": null,
      "outputs": [
        {
          "output_type": "stream",
          "text": [
            "\n",
            "Pandas median\n"
          ],
          "name": "stdout"
        },
        {
          "output_type": "execute_result",
          "data": {
            "text/plain": [
              "x1     1.0\n",
              "x2     1.0\n",
              "x3    15.0\n",
              "x4     6.0\n",
              "dtype: float64"
            ]
          },
          "metadata": {
            "tags": []
          },
          "execution_count": 60
        }
      ]
    },
    {
      "cell_type": "code",
      "metadata": {
        "id": "wOIwXGMma1X4",
        "colab_type": "code",
        "colab": {
          "base_uri": "https://localhost:8080/",
          "height": 109
        },
        "outputId": "26010bc9-d058-4922-b762-037d4e1145c8"
      },
      "source": [
        "# El me\n",
        "penguins.median()"
      ],
      "execution_count": null,
      "outputs": [
        {
          "output_type": "execute_result",
          "data": {
            "text/plain": [
              "culmen_length_mm       44.45\n",
              "culmen_depth_mm        17.30\n",
              "flipper_length_mm     197.00\n",
              "body_mass_g          4050.00\n",
              "dtype: float64"
            ]
          },
          "metadata": {
            "tags": []
          },
          "execution_count": 43
        }
      ]
    },
    {
      "cell_type": "markdown",
      "metadata": {
        "id": "AB0umYMVawSW",
        "colab_type": "text"
      },
      "source": [
        "## Moda\n"
      ]
    },
    {
      "cell_type": "markdown",
      "metadata": {
        "id": "NdKHwGXVbR2h",
        "colab_type": "text"
      },
      "source": [
        "El metodo .mode() nos regresa la moda de los datos."
      ]
    },
    {
      "cell_type": "code",
      "metadata": {
        "id": "_sJin6yEF3qs",
        "colab_type": "code",
        "colab": {
          "base_uri": "https://localhost:8080/",
          "height": 149
        },
        "outputId": "8f88339a-30fa-4579-b731-e988fbe4a94b"
      },
      "source": [
        "x1 = [1, 1, 1 ,1]\n",
        "x2 = [1, 1, 1, 15]\n",
        "x3 = [1 , 15, 15, 15]\n",
        "x4 = [3, 3, 6, 6]\n",
        "\n",
        "print()\n",
        "# El metodo .mode() de pandas nos permite calcular la moda\n",
        "df = pd.DataFrame.from_dict({\n",
        "    \"x1\":x1, \"x2\":x2, \"x3\":x3, \"x4\":x4\n",
        "})\n",
        "print( \"Pandas mode\")\n",
        "df.mode()"
      ],
      "execution_count": null,
      "outputs": [
        {
          "output_type": "stream",
          "text": [
            "\n",
            "Pandas median\n"
          ],
          "name": "stdout"
        },
        {
          "output_type": "execute_result",
          "data": {
            "text/html": [
              "<div>\n",
              "<style scoped>\n",
              "    .dataframe tbody tr th:only-of-type {\n",
              "        vertical-align: middle;\n",
              "    }\n",
              "\n",
              "    .dataframe tbody tr th {\n",
              "        vertical-align: top;\n",
              "    }\n",
              "\n",
              "    .dataframe thead th {\n",
              "        text-align: right;\n",
              "    }\n",
              "</style>\n",
              "<table border=\"1\" class=\"dataframe\">\n",
              "  <thead>\n",
              "    <tr style=\"text-align: right;\">\n",
              "      <th></th>\n",
              "      <th>x1</th>\n",
              "      <th>x2</th>\n",
              "      <th>x3</th>\n",
              "      <th>x4</th>\n",
              "    </tr>\n",
              "  </thead>\n",
              "  <tbody>\n",
              "    <tr>\n",
              "      <th>0</th>\n",
              "      <td>1.0</td>\n",
              "      <td>1.0</td>\n",
              "      <td>15.0</td>\n",
              "      <td>3</td>\n",
              "    </tr>\n",
              "    <tr>\n",
              "      <th>1</th>\n",
              "      <td>NaN</td>\n",
              "      <td>NaN</td>\n",
              "      <td>NaN</td>\n",
              "      <td>6</td>\n",
              "    </tr>\n",
              "  </tbody>\n",
              "</table>\n",
              "</div>"
            ],
            "text/plain": [
              "    x1   x2    x3  x4\n",
              "0  1.0  1.0  15.0   3\n",
              "1  NaN  NaN   NaN   6"
            ]
          },
          "metadata": {
            "tags": []
          },
          "execution_count": 63
        }
      ]
    },
    {
      "cell_type": "code",
      "metadata": {
        "id": "rdzTqOSUam3R",
        "colab_type": "code",
        "colab": {
          "base_uri": "https://localhost:8080/",
          "height": 81
        },
        "outputId": "9acf44a2-c83e-42ff-a214-1d257a4e8eec"
      },
      "source": [
        "# El metodo .mode() nos permite obtener la moda de cada variable\n",
        "penguins.mode()"
      ],
      "execution_count": null,
      "outputs": [
        {
          "output_type": "execute_result",
          "data": {
            "text/html": [
              "<div>\n",
              "<style scoped>\n",
              "    .dataframe tbody tr th:only-of-type {\n",
              "        vertical-align: middle;\n",
              "    }\n",
              "\n",
              "    .dataframe tbody tr th {\n",
              "        vertical-align: top;\n",
              "    }\n",
              "\n",
              "    .dataframe thead th {\n",
              "        text-align: right;\n",
              "    }\n",
              "</style>\n",
              "<table border=\"1\" class=\"dataframe\">\n",
              "  <thead>\n",
              "    <tr style=\"text-align: right;\">\n",
              "      <th></th>\n",
              "      <th>species</th>\n",
              "      <th>island</th>\n",
              "      <th>culmen_length_mm</th>\n",
              "      <th>culmen_depth_mm</th>\n",
              "      <th>flipper_length_mm</th>\n",
              "      <th>body_mass_g</th>\n",
              "      <th>sex</th>\n",
              "    </tr>\n",
              "  </thead>\n",
              "  <tbody>\n",
              "    <tr>\n",
              "      <th>0</th>\n",
              "      <td>Adelie</td>\n",
              "      <td>Biscoe</td>\n",
              "      <td>41.1</td>\n",
              "      <td>17.0</td>\n",
              "      <td>190.0</td>\n",
              "      <td>3800.0</td>\n",
              "      <td>MALE</td>\n",
              "    </tr>\n",
              "  </tbody>\n",
              "</table>\n",
              "</div>"
            ],
            "text/plain": [
              "  species  island  culmen_length_mm  ...  flipper_length_mm  body_mass_g   sex\n",
              "0  Adelie  Biscoe              41.1  ...              190.0       3800.0  MALE\n",
              "\n",
              "[1 rows x 7 columns]"
            ]
          },
          "metadata": {
            "tags": []
          },
          "execution_count": 42
        }
      ]
    },
    {
      "cell_type": "markdown",
      "metadata": {
        "id": "b5BygG83bhDC",
        "colab_type": "text"
      },
      "source": [
        "## Para pensar"
      ]
    },
    {
      "cell_type": "markdown",
      "metadata": {
        "id": "s5Ag_uH4bknl",
        "colab_type": "text"
      },
      "source": [
        "Despues de analizar las medidas de tendencia central y algunos estadisticos basicos de los datos, estamos listos para responder algunas preguntas.  \n",
        "A) Tenemos mas hombres o mujeres en la muestra?  \n",
        "B) Cual es el peso promedio de los pinguinos?  \n",
        "C) Si un un investigador regresar a las islas por nuevas observaciones y tuviese que elegir entre una bascula que soporta un peso maximo de 30kg o una de 100kg. Cual recomendarias?  \n",
        "D) Si recibieras nuevos datos de la misma poblacion de pinguinos, donde la longitud propedio de los picos (culmen) es de .44. Cual seria tu opinion?"
      ]
    },
    {
      "cell_type": "markdown",
      "metadata": {
        "id": "qtqdPJoBIpeY",
        "colab_type": "text"
      },
      "source": [
        "# Detente!!\n",
        "Revisa el siguiente Modulo donde hablamos de los quantiles y percentiles."
      ]
    },
    {
      "cell_type": "markdown",
      "metadata": {
        "id": "r2fgzwl5b_7V",
        "colab_type": "text"
      },
      "source": [
        "# Percentiles\n"
      ]
    },
    {
      "cell_type": "markdown",
      "metadata": {
        "id": "NgKAfKcccLFQ",
        "colab_type": "text"
      },
      "source": [
        "El metodo .quantile recibe una lista con los percentiles que desamos calcular en proporciones entre cero y uno.\n",
        "\n",
        "Documentacion: https://pandas.pydata.org/pandas-docs/stable/reference/api/pandas.DataFrame.quantile.html"
      ]
    },
    {
      "cell_type": "code",
      "metadata": {
        "id": "SLgrPqXJLMhD",
        "colab_type": "code",
        "colab": {
          "base_uri": "https://localhost:8080/",
          "height": 394
        },
        "outputId": "fd944465-bbf5-42b3-c279-a0dea445a063"
      },
      "source": [
        "# .quantile\n",
        "q = np.array(range(0, 11))/10\n",
        "penguins.quantile(q)"
      ],
      "execution_count": null,
      "outputs": [
        {
          "output_type": "execute_result",
          "data": {
            "text/html": [
              "<div>\n",
              "<style scoped>\n",
              "    .dataframe tbody tr th:only-of-type {\n",
              "        vertical-align: middle;\n",
              "    }\n",
              "\n",
              "    .dataframe tbody tr th {\n",
              "        vertical-align: top;\n",
              "    }\n",
              "\n",
              "    .dataframe thead th {\n",
              "        text-align: right;\n",
              "    }\n",
              "</style>\n",
              "<table border=\"1\" class=\"dataframe\">\n",
              "  <thead>\n",
              "    <tr style=\"text-align: right;\">\n",
              "      <th></th>\n",
              "      <th>culmen_length_mm</th>\n",
              "      <th>culmen_depth_mm</th>\n",
              "      <th>flipper_length_mm</th>\n",
              "      <th>body_mass_g</th>\n",
              "    </tr>\n",
              "  </thead>\n",
              "  <tbody>\n",
              "    <tr>\n",
              "      <th>0.0</th>\n",
              "      <td>32.10</td>\n",
              "      <td>13.10</td>\n",
              "      <td>172.0</td>\n",
              "      <td>2700.0</td>\n",
              "    </tr>\n",
              "    <tr>\n",
              "      <th>0.1</th>\n",
              "      <td>36.60</td>\n",
              "      <td>14.30</td>\n",
              "      <td>185.0</td>\n",
              "      <td>3300.0</td>\n",
              "    </tr>\n",
              "    <tr>\n",
              "      <th>0.2</th>\n",
              "      <td>38.34</td>\n",
              "      <td>15.00</td>\n",
              "      <td>188.0</td>\n",
              "      <td>3475.0</td>\n",
              "    </tr>\n",
              "    <tr>\n",
              "      <th>0.3</th>\n",
              "      <td>40.20</td>\n",
              "      <td>15.93</td>\n",
              "      <td>191.0</td>\n",
              "      <td>3650.0</td>\n",
              "    </tr>\n",
              "    <tr>\n",
              "      <th>0.4</th>\n",
              "      <td>42.00</td>\n",
              "      <td>16.80</td>\n",
              "      <td>194.0</td>\n",
              "      <td>3800.0</td>\n",
              "    </tr>\n",
              "    <tr>\n",
              "      <th>0.5</th>\n",
              "      <td>44.45</td>\n",
              "      <td>17.30</td>\n",
              "      <td>197.0</td>\n",
              "      <td>4050.0</td>\n",
              "    </tr>\n",
              "    <tr>\n",
              "      <th>0.6</th>\n",
              "      <td>46.00</td>\n",
              "      <td>17.90</td>\n",
              "      <td>203.0</td>\n",
              "      <td>4300.0</td>\n",
              "    </tr>\n",
              "    <tr>\n",
              "      <th>0.7</th>\n",
              "      <td>47.37</td>\n",
              "      <td>18.50</td>\n",
              "      <td>210.0</td>\n",
              "      <td>4650.0</td>\n",
              "    </tr>\n",
              "    <tr>\n",
              "      <th>0.8</th>\n",
              "      <td>49.38</td>\n",
              "      <td>18.90</td>\n",
              "      <td>215.0</td>\n",
              "      <td>4950.0</td>\n",
              "    </tr>\n",
              "    <tr>\n",
              "      <th>0.9</th>\n",
              "      <td>50.80</td>\n",
              "      <td>19.50</td>\n",
              "      <td>220.9</td>\n",
              "      <td>5400.0</td>\n",
              "    </tr>\n",
              "    <tr>\n",
              "      <th>1.0</th>\n",
              "      <td>59.60</td>\n",
              "      <td>21.50</td>\n",
              "      <td>231.0</td>\n",
              "      <td>6300.0</td>\n",
              "    </tr>\n",
              "  </tbody>\n",
              "</table>\n",
              "</div>"
            ],
            "text/plain": [
              "     culmen_length_mm  culmen_depth_mm  flipper_length_mm  body_mass_g\n",
              "0.0             32.10            13.10              172.0       2700.0\n",
              "0.1             36.60            14.30              185.0       3300.0\n",
              "0.2             38.34            15.00              188.0       3475.0\n",
              "0.3             40.20            15.93              191.0       3650.0\n",
              "0.4             42.00            16.80              194.0       3800.0\n",
              "0.5             44.45            17.30              197.0       4050.0\n",
              "0.6             46.00            17.90              203.0       4300.0\n",
              "0.7             47.37            18.50              210.0       4650.0\n",
              "0.8             49.38            18.90              215.0       4950.0\n",
              "0.9             50.80            19.50              220.9       5400.0\n",
              "1.0             59.60            21.50              231.0       6300.0"
            ]
          },
          "metadata": {
            "tags": []
          },
          "execution_count": 71
        }
      ]
    },
    {
      "cell_type": "markdown",
      "metadata": {
        "id": "j9LHuP_vb4Ya",
        "colab_type": "text"
      },
      "source": [
        "# Varianza\n"
      ]
    },
    {
      "cell_type": "markdown",
      "metadata": {
        "id": "WN9WGx2vckng",
        "colab_type": "text"
      },
      "source": [
        "El metodo de .var nos permite calcular la varianza de la muestra, mientras que .std() nos da la desviacion estandar."
      ]
    },
    {
      "cell_type": "code",
      "metadata": {
        "id": "IUy1QKT6cFKI",
        "colab_type": "code",
        "colab": {
          "base_uri": "https://localhost:8080/",
          "height": 256
        },
        "outputId": "3fc9290d-f8dd-4da7-b286-e72ac076ba61"
      },
      "source": [
        "print(\"Var\")\n",
        "print(penguins.var())\n",
        "print(\" \\n Standard Dev: \")\n",
        "print( penguins.std())"
      ],
      "execution_count": null,
      "outputs": [
        {
          "output_type": "stream",
          "text": [
            "Var\n",
            "culmen_length_mm         29.807054\n",
            "culmen_depth_mm           3.899808\n",
            "flipper_length_mm       197.731792\n",
            "body_mass_g          643131.077327\n",
            "dtype: float64\n",
            " \n",
            " Standard Dev: \n",
            "culmen_length_mm       5.459584\n",
            "culmen_depth_mm        1.974793\n",
            "flipper_length_mm     14.061714\n",
            "body_mass_g          801.954536\n",
            "dtype: float64\n"
          ],
          "name": "stdout"
        }
      ]
    },
    {
      "cell_type": "markdown",
      "metadata": {
        "id": "0KR1w7QZkQ_0",
        "colab_type": "text"
      },
      "source": [
        "# Tarea"
      ]
    },
    {
      "cell_type": "markdown",
      "metadata": {
        "id": "DGlkCSFGkT6H",
        "colab_type": "text"
      },
      "source": [
        "Imagina que tienes que evaluar el efecto de una droga en el tratamiento de una persona. La variable que indica si el paciente fue tratado de llama \"tratamiento\" y toma el valor de 0 si el paciente fue tratado y 1 en el caso contrario.\n",
        "\n",
        "### A) Que pasa si tu variable de tratamiento tiene una varianza igual a cero?\n",
        "\n",
        "### B) Que significa que su varianza sea casi cero?\n",
        "\n",
        "\n",
        "En un contexto mas general:\n",
        "### C) Que significa que la desviación estándar de una variable sea cero?\n",
        "### D) Que significa que una variable tenga una desviación estándar pequeña? \n",
        "### E) Que significa que una variable tenga una desviación estándar grande?\n",
        "\n",
        "Te facilitamos una celda para pensar en el problema, con datos generados para que juegues. Si tienes dudas revisa el codigo de arriba. Piensa que significa que la varianza muestral es cero, y que variable varia mas si la altura o el peso."
      ]
    },
    {
      "cell_type": "code",
      "metadata": {
        "id": "FYqrBsMBkTUb",
        "colab_type": "code",
        "colab": {
          "base_uri": "https://localhost:8080/",
          "height": 424
        },
        "outputId": "c58c5d2f-eaf2-4ef8-bf5f-813c85a5b5bd"
      },
      "source": [
        "# Usa esta celda para pensar en el problema cond atos generados. Si tienes dudas\n",
        "# regresa al codigo.\n",
        "np.random.seed(5567)\n",
        "n = 100\n",
        "tratamiento = [0]*n\n",
        "sexo = [0, 1]\n",
        "sexo = np.random.choice(sexo, n, p=[0.05, 0.95])\n",
        "peso = np.random.normal(80, 25,n)\n",
        "altura = np.random.normal(160,20,n)\n",
        "\n",
        "estudio = pd.DataFrame.from_dict({\n",
        "    \"tratamiento\":tratamiento,\n",
        "    \"sexo\":sexo,\n",
        "    \"peso\":peso,\n",
        "    \"altura\":altura\n",
        "})\n",
        "\n",
        "estudio"
      ],
      "execution_count": null,
      "outputs": [
        {
          "output_type": "execute_result",
          "data": {
            "text/html": [
              "<div>\n",
              "<style scoped>\n",
              "    .dataframe tbody tr th:only-of-type {\n",
              "        vertical-align: middle;\n",
              "    }\n",
              "\n",
              "    .dataframe tbody tr th {\n",
              "        vertical-align: top;\n",
              "    }\n",
              "\n",
              "    .dataframe thead th {\n",
              "        text-align: right;\n",
              "    }\n",
              "</style>\n",
              "<table border=\"1\" class=\"dataframe\">\n",
              "  <thead>\n",
              "    <tr style=\"text-align: right;\">\n",
              "      <th></th>\n",
              "      <th>tratamiento</th>\n",
              "      <th>sexo</th>\n",
              "      <th>peso</th>\n",
              "      <th>altura</th>\n",
              "    </tr>\n",
              "  </thead>\n",
              "  <tbody>\n",
              "    <tr>\n",
              "      <th>0</th>\n",
              "      <td>0</td>\n",
              "      <td>1</td>\n",
              "      <td>79.695626</td>\n",
              "      <td>154.169700</td>\n",
              "    </tr>\n",
              "    <tr>\n",
              "      <th>1</th>\n",
              "      <td>0</td>\n",
              "      <td>1</td>\n",
              "      <td>102.309439</td>\n",
              "      <td>155.029077</td>\n",
              "    </tr>\n",
              "    <tr>\n",
              "      <th>2</th>\n",
              "      <td>0</td>\n",
              "      <td>1</td>\n",
              "      <td>71.390102</td>\n",
              "      <td>155.976316</td>\n",
              "    </tr>\n",
              "    <tr>\n",
              "      <th>3</th>\n",
              "      <td>0</td>\n",
              "      <td>1</td>\n",
              "      <td>101.975765</td>\n",
              "      <td>125.039911</td>\n",
              "    </tr>\n",
              "    <tr>\n",
              "      <th>4</th>\n",
              "      <td>0</td>\n",
              "      <td>1</td>\n",
              "      <td>113.689573</td>\n",
              "      <td>168.841866</td>\n",
              "    </tr>\n",
              "    <tr>\n",
              "      <th>...</th>\n",
              "      <td>...</td>\n",
              "      <td>...</td>\n",
              "      <td>...</td>\n",
              "      <td>...</td>\n",
              "    </tr>\n",
              "    <tr>\n",
              "      <th>95</th>\n",
              "      <td>0</td>\n",
              "      <td>1</td>\n",
              "      <td>84.643792</td>\n",
              "      <td>191.858846</td>\n",
              "    </tr>\n",
              "    <tr>\n",
              "      <th>96</th>\n",
              "      <td>0</td>\n",
              "      <td>0</td>\n",
              "      <td>66.953861</td>\n",
              "      <td>167.388539</td>\n",
              "    </tr>\n",
              "    <tr>\n",
              "      <th>97</th>\n",
              "      <td>0</td>\n",
              "      <td>1</td>\n",
              "      <td>41.727851</td>\n",
              "      <td>186.928547</td>\n",
              "    </tr>\n",
              "    <tr>\n",
              "      <th>98</th>\n",
              "      <td>0</td>\n",
              "      <td>1</td>\n",
              "      <td>64.324540</td>\n",
              "      <td>153.375600</td>\n",
              "    </tr>\n",
              "    <tr>\n",
              "      <th>99</th>\n",
              "      <td>0</td>\n",
              "      <td>1</td>\n",
              "      <td>105.700005</td>\n",
              "      <td>166.875891</td>\n",
              "    </tr>\n",
              "  </tbody>\n",
              "</table>\n",
              "<p>100 rows × 4 columns</p>\n",
              "</div>"
            ],
            "text/plain": [
              "    tratamiento  sexo        peso      altura\n",
              "0             0     1   79.695626  154.169700\n",
              "1             0     1  102.309439  155.029077\n",
              "2             0     1   71.390102  155.976316\n",
              "3             0     1  101.975765  125.039911\n",
              "4             0     1  113.689573  168.841866\n",
              "..          ...   ...         ...         ...\n",
              "95            0     1   84.643792  191.858846\n",
              "96            0     0   66.953861  167.388539\n",
              "97            0     1   41.727851  186.928547\n",
              "98            0     1   64.324540  153.375600\n",
              "99            0     1  105.700005  166.875891\n",
              "\n",
              "[100 rows x 4 columns]"
            ]
          },
          "metadata": {
            "tags": []
          },
          "execution_count": 93
        }
      ]
    },
    {
      "cell_type": "markdown",
      "metadata": {
        "id": "9Uce4v7Ms5Af",
        "colab_type": "text"
      },
      "source": [
        "# Para pensar:\n",
        "Que estadisticos bastan para definir a los datos? Que tanta informacion se ve perdida en los estadisticos?"
      ]
    }
  ]
}