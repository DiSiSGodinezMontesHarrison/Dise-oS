{
  "nbformat": 4,
  "nbformat_minor": 0,
  "metadata": {
    "colab": {
      "name": "06_correlaciones_y_uso_de_visualizaciones.ipynb",
      "provenance": [],
      "authorship_tag": "ABX9TyOcAcpj+sxpKE8Jgsk3ypgp",
      "include_colab_link": true
    },
    "kernelspec": {
      "name": "python3",
      "display_name": "Python 3"
    }
  },
  "cells": [
    {
      "cell_type": "markdown",
      "metadata": {
        "id": "view-in-github",
        "colab_type": "text"
      },
      "source": [
        "<a href=\"https://colab.research.google.com/github/IEXE-Tec/analisis-descriptivo/blob/master/06_correlaciones_y_uso_de_visualizaciones.ipynb\" target=\"_parent\"><img src=\"https://colab.research.google.com/assets/colab-badge.svg\" alt=\"Open In Colab\"/></a>"
      ]
    },
    {
      "cell_type": "code",
      "metadata": {
        "id": "ydlY8aMHRT10",
        "colab_type": "code",
        "colab": {
          "base_uri": "https://localhost:8080/",
          "height": 79
        },
        "outputId": "da05598a-0f74-474a-a60e-e3f5e99253d5"
      },
      "source": [
        "# Importo las librerias que usare en este notebook\n",
        "import pandas as pd\n",
        "import numpy as np\n",
        "import datetime\n",
        "\n",
        "import matplotlib.pyplot as plt\n",
        "%matplotlib inline\n",
        "import seaborn as sns\n",
        "sns.set_style('darkgrid')\n"
      ],
      "execution_count": 2,
      "outputs": [
        {
          "output_type": "stream",
          "text": [
            "/usr/local/lib/python3.6/dist-packages/statsmodels/tools/_testing.py:19: FutureWarning: pandas.util.testing is deprecated. Use the functions in the public API at pandas.testing instead.\n",
            "  import pandas.util.testing as tm\n"
          ],
          "name": "stderr"
        }
      ]
    },
    {
      "cell_type": "markdown",
      "metadata": {
        "id": "Fay_eRe3JYoz",
        "colab_type": "text"
      },
      "source": [
        "# Covarianza"
      ]
    },
    {
      "cell_type": "markdown",
      "metadata": {
        "id": "EoNcrI4yKLfb",
        "colab_type": "text"
      },
      "source": [
        "### Cov(x,x)"
      ]
    },
    {
      "cell_type": "code",
      "metadata": {
        "id": "z-7jusYoBCnc",
        "colab_type": "code",
        "colab": {
          "base_uri": "https://localhost:8080/",
          "height": 100
        },
        "outputId": "72004acc-b5f1-4af4-b491-d3e7a10bd904"
      },
      "source": [
        "# X\n",
        "x = np.random.normal(0, 1, 1000)\n",
        "print('Covarianza entre X y X: ')\n",
        "print(np.cov(x,x))\n",
        "print(np.var(x))"
      ],
      "execution_count": 7,
      "outputs": [
        {
          "output_type": "stream",
          "text": [
            "Covarianza entre X y X: \n",
            "[[1.022865 1.022865]\n",
            " [1.022865 1.022865]]\n",
            "1.0218421361018748\n"
          ],
          "name": "stdout"
        }
      ]
    },
    {
      "cell_type": "markdown",
      "metadata": {
        "id": "nmbL2F3fLC3k",
        "colab_type": "text"
      },
      "source": [
        "Nota como existe una pequena diferencia entre el valor calculado por los dos metodos {cov,var}. Cual crees que sea la razon?\n"
      ]
    },
    {
      "cell_type": "code",
      "metadata": {
        "id": "bFkEga6JLLeF",
        "colab_type": "code",
        "colab": {}
      },
      "source": [
        "# X\n",
        "x = np.random.normal(0, 1, 1000)\n",
        "print('Covarianza entre X y X: ')\n",
        "print(np.cov(x,x))\n",
        "print(np.var(x))"
      ],
      "execution_count": null,
      "outputs": []
    },
    {
      "cell_type": "code",
      "metadata": {
        "id": "G_7w0vnZKXa-",
        "colab_type": "code",
        "colab": {
          "base_uri": "https://localhost:8080/",
          "height": 86
        },
        "outputId": "6928974b-55e7-4791-d651-a3c802580ad2"
      },
      "source": [
        "# X\n",
        "x = np.random.normal(100, 10, 1000)\n",
        "print('Covarianza entre X y X: ')\n",
        "print(np.cov(x,x))\n",
        "print(np.var(x))"
      ],
      "execution_count": 8,
      "outputs": [
        {
          "output_type": "stream",
          "text": [
            "Covarianza entre X y X: \n",
            "[[100.89610684 100.89610684]\n",
            " [100.89610684 100.89610684]]\n",
            "100.79521073040864\n"
          ],
          "name": "stdout"
        }
      ]
    },
    {
      "cell_type": "markdown",
      "metadata": {
        "id": "blJWUtJ9Jfma",
        "colab_type": "text"
      },
      "source": [
        "### Cov(x,-x)\n",
        "\n",
        "\n"
      ]
    },
    {
      "cell_type": "code",
      "metadata": {
        "id": "Eo-qVzY3B0Ww",
        "colab_type": "code",
        "colab": {
          "base_uri": "https://localhost:8080/",
          "height": 69
        },
        "outputId": "c5cc0c94-e8e9-46e7-d450-eb6255f34f4b"
      },
      "source": [
        "# X\n",
        "x = np.random.normal(0, 1, 1000)\n",
        "print('Covarianza entre X y X: ')\n",
        "print(np.cov(x,-x))\n"
      ],
      "execution_count": null,
      "outputs": [
        {
          "output_type": "stream",
          "text": [
            "Covarianza entre X y X: \n",
            "[[ 1.03825648 -1.03825648]\n",
            " [-1.03825648  1.03825648]]\n"
          ],
          "name": "stdout"
        }
      ]
    },
    {
      "cell_type": "markdown",
      "metadata": {
        "id": "qxFRjVQfJl9l",
        "colab_type": "text"
      },
      "source": [
        "### Covarianza entre x,y, z"
      ]
    },
    {
      "cell_type": "code",
      "metadata": {
        "id": "RlBjlO4l98Mm",
        "colab_type": "code",
        "colab": {
          "base_uri": "https://localhost:8080/",
          "height": 139
        },
        "outputId": "d24db71b-b906-4eb6-a3ad-d360fde494c1"
      },
      "source": [
        "# Variables que definen a Y\n",
        "x = np.random.normal(0, 1, 1000)\n",
        "z = np.random.normal(100, 10, 1000)\n",
        "\n",
        "# Y\n",
        "y = z**x\n",
        "\n",
        "print('Covarianza entre Y & X: ')\n",
        "print(np.cov(x,y))\n",
        "print('-------------------')\n",
        "print('Covarianza entre Y & Z: ')\n",
        "print(np.cov(x,y))\n",
        "\n"
      ],
      "execution_count": 4,
      "outputs": [
        {
          "output_type": "stream",
          "text": [
            "Covarianza entre Y & X: \n",
            "[[1.07465265e+00 1.34904756e+05]\n",
            " [1.34904756e+05 9.56189129e+11]]\n",
            "-------------------\n",
            "Covarianza entre Y & Z: \n",
            "[[1.07465265e+00 1.34904756e+05]\n",
            " [1.34904756e+05 9.56189129e+11]]\n"
          ],
          "name": "stdout"
        }
      ]
    },
    {
      "cell_type": "code",
      "metadata": {
        "id": "ydfn8mKoKLsK",
        "colab_type": "code",
        "colab": {
          "base_uri": "https://localhost:8080/",
          "height": 131
        },
        "outputId": "1b40feb4-6b35-490d-89f8-4c1b849f3034"
      },
      "source": [
        "# Variables que definen a Y\n",
        "x1 = np.random.normal(0, 1, 1000)\n",
        "x2 = np.random.normal(0, 4, 1000)\n",
        "\n",
        "df = pd.DataFrame.from_dict({\n",
        "    'x1':x1,\n",
        "    'x2':x2\n",
        "})\n",
        "\n",
        "df.cov()\n",
        "df.corr()"
      ],
      "execution_count": null,
      "outputs": [
        {
          "output_type": "execute_result",
          "data": {
            "text/html": [
              "<div>\n",
              "<style scoped>\n",
              "    .dataframe tbody tr th:only-of-type {\n",
              "        vertical-align: middle;\n",
              "    }\n",
              "\n",
              "    .dataframe tbody tr th {\n",
              "        vertical-align: top;\n",
              "    }\n",
              "\n",
              "    .dataframe thead th {\n",
              "        text-align: right;\n",
              "    }\n",
              "</style>\n",
              "<table border=\"1\" class=\"dataframe\">\n",
              "  <thead>\n",
              "    <tr style=\"text-align: right;\">\n",
              "      <th></th>\n",
              "      <th>x1</th>\n",
              "      <th>x2</th>\n",
              "    </tr>\n",
              "  </thead>\n",
              "  <tbody>\n",
              "    <tr>\n",
              "      <th>x1</th>\n",
              "      <td>1.000000</td>\n",
              "      <td>-0.013349</td>\n",
              "    </tr>\n",
              "    <tr>\n",
              "      <th>x2</th>\n",
              "      <td>-0.013349</td>\n",
              "      <td>1.000000</td>\n",
              "    </tr>\n",
              "  </tbody>\n",
              "</table>\n",
              "</div>"
            ],
            "text/plain": [
              "          x1        x2\n",
              "x1  1.000000 -0.013349\n",
              "x2 -0.013349  1.000000"
            ]
          },
          "metadata": {
            "tags": []
          },
          "execution_count": 43
        }
      ]
    },
    {
      "cell_type": "code",
      "metadata": {
        "id": "5_2WSyiYL7GP",
        "colab_type": "code",
        "colab": {
          "base_uri": "https://localhost:8080/",
          "height": 131
        },
        "outputId": "6b6ac505-a5a1-4b6b-d0a1-a59c4831e869"
      },
      "source": [
        "x1 = np.random.normal(0, 1, 1000)\n",
        "x2 = -1.0*x1\n",
        "\n",
        "df = pd.DataFrame.from_dict({\n",
        "    'x1':x1,\n",
        "    'x2':x2,\n",
        "})\n",
        "\n",
        "df.corr()\n"
      ],
      "execution_count": null,
      "outputs": [
        {
          "output_type": "execute_result",
          "data": {
            "text/html": [
              "<div>\n",
              "<style scoped>\n",
              "    .dataframe tbody tr th:only-of-type {\n",
              "        vertical-align: middle;\n",
              "    }\n",
              "\n",
              "    .dataframe tbody tr th {\n",
              "        vertical-align: top;\n",
              "    }\n",
              "\n",
              "    .dataframe thead th {\n",
              "        text-align: right;\n",
              "    }\n",
              "</style>\n",
              "<table border=\"1\" class=\"dataframe\">\n",
              "  <thead>\n",
              "    <tr style=\"text-align: right;\">\n",
              "      <th></th>\n",
              "      <th>x1</th>\n",
              "      <th>x2</th>\n",
              "    </tr>\n",
              "  </thead>\n",
              "  <tbody>\n",
              "    <tr>\n",
              "      <th>x1</th>\n",
              "      <td>1.0</td>\n",
              "      <td>-1.0</td>\n",
              "    </tr>\n",
              "    <tr>\n",
              "      <th>x2</th>\n",
              "      <td>-1.0</td>\n",
              "      <td>1.0</td>\n",
              "    </tr>\n",
              "  </tbody>\n",
              "</table>\n",
              "</div>"
            ],
            "text/plain": [
              "     x1   x2\n",
              "x1  1.0 -1.0\n",
              "x2 -1.0  1.0"
            ]
          },
          "metadata": {
            "tags": []
          },
          "execution_count": 45
        }
      ]
    },
    {
      "cell_type": "code",
      "metadata": {
        "id": "PfzXHB9wWHHn",
        "colab_type": "code",
        "colab": {
          "base_uri": "https://localhost:8080/",
          "height": 169
        },
        "outputId": "b9ef9b4f-9db3-4c11-fefc-df664252ae6f"
      },
      "source": [
        "x1 = np.random.normal(0, 1, 1000)\n",
        "x2 = 3*x1\n",
        "x3 = 1.0/x1\n",
        "\n",
        "df = pd.DataFrame.from_dict({\n",
        "    'x1':x1,\n",
        "    'x2':x2,\n",
        "    'x3':x3\n",
        "})\n",
        "\n",
        "df.corr()"
      ],
      "execution_count": null,
      "outputs": [
        {
          "output_type": "execute_result",
          "data": {
            "text/html": [
              "<div>\n",
              "<style scoped>\n",
              "    .dataframe tbody tr th:only-of-type {\n",
              "        vertical-align: middle;\n",
              "    }\n",
              "\n",
              "    .dataframe tbody tr th {\n",
              "        vertical-align: top;\n",
              "    }\n",
              "\n",
              "    .dataframe thead th {\n",
              "        text-align: right;\n",
              "    }\n",
              "</style>\n",
              "<table border=\"1\" class=\"dataframe\">\n",
              "  <thead>\n",
              "    <tr style=\"text-align: right;\">\n",
              "      <th></th>\n",
              "      <th>x1</th>\n",
              "      <th>x2</th>\n",
              "      <th>x3</th>\n",
              "    </tr>\n",
              "  </thead>\n",
              "  <tbody>\n",
              "    <tr>\n",
              "      <th>x1</th>\n",
              "      <td>1.000000</td>\n",
              "      <td>1.000000</td>\n",
              "      <td>0.054455</td>\n",
              "    </tr>\n",
              "    <tr>\n",
              "      <th>x2</th>\n",
              "      <td>1.000000</td>\n",
              "      <td>1.000000</td>\n",
              "      <td>0.054455</td>\n",
              "    </tr>\n",
              "    <tr>\n",
              "      <th>x3</th>\n",
              "      <td>0.054455</td>\n",
              "      <td>0.054455</td>\n",
              "      <td>1.000000</td>\n",
              "    </tr>\n",
              "  </tbody>\n",
              "</table>\n",
              "</div>"
            ],
            "text/plain": [
              "          x1        x2        x3\n",
              "x1  1.000000  1.000000  0.054455\n",
              "x2  1.000000  1.000000  0.054455\n",
              "x3  0.054455  0.054455  1.000000"
            ]
          },
          "metadata": {
            "tags": []
          },
          "execution_count": 55
        }
      ]
    },
    {
      "cell_type": "code",
      "metadata": {
        "id": "rLsWnHQrdgOj",
        "colab_type": "code",
        "colab": {
          "base_uri": "https://localhost:8080/",
          "height": 318
        },
        "outputId": "1ba62fb9-dbb3-4349-cd39-4b95044757e9"
      },
      "source": [
        "style.use('ggplot')\n",
        "\n",
        "x1 = np.random.normal(0, 1, 1000)\n",
        "x2 = 3*x1 \n",
        "x3 = 1.0/x1 \n",
        "\n",
        "df = pd.DataFrame.from_dict({\n",
        "    'x1':x1,\n",
        "    'x2':x2,\n",
        "    'x3':x3\n",
        "})\n",
        "\n",
        "sns.lineplot(x=\"x1\", y=\"x3\", data=df)"
      ],
      "execution_count": null,
      "outputs": [
        {
          "output_type": "execute_result",
          "data": {
            "text/plain": [
              "<matplotlib.axes._subplots.AxesSubplot at 0x7f9c9ad667b8>"
            ]
          },
          "metadata": {
            "tags": []
          },
          "execution_count": 63
        },
        {
          "output_type": "display_data",
          "data": {
            "image/png": "[encoded data removed]",
            "text/plain": [
              "<Figure size 432x288 with 1 Axes>"
            ]
          },
          "metadata": {
            "tags": []
          }
        }
      ]
    },
    {
      "cell_type": "code",
      "metadata": {
        "id": "_GXizpyJf6Wf",
        "colab_type": "code",
        "colab": {
          "base_uri": "https://localhost:8080/",
          "height": 469
        },
        "outputId": "d5a670fa-fbcc-4fd5-81b6-b37bca86e1e7"
      },
      "source": [
        "style.use('ggplot')\n",
        "\n",
        "x1 = np.random.normal(0, 1, 1000)\n",
        "x2 = np.random.normal(0, 1, 1000)\n",
        "x3 = 3*x1 + 1.0/x2 \n",
        "\n",
        "df = pd.DataFrame.from_dict({\n",
        "    'x1':x1,\n",
        "    'x2':x2,\n",
        "    'x3':x3\n",
        "})\n",
        "\n",
        "print(sns.lineplot(x=\"x1\", y=\"x3\", data=df))\n",
        "df.corr()\n",
        "\n"
      ],
      "execution_count": null,
      "outputs": [
        {
          "output_type": "stream",
          "text": [
            "AxesSubplot(0.125,0.125;0.775x0.775)\n"
          ],
          "name": "stdout"
        },
        {
          "output_type": "execute_result",
          "data": {
            "text/html": [
              "<div>\n",
              "<style scoped>\n",
              "    .dataframe tbody tr th:only-of-type {\n",
              "        vertical-align: middle;\n",
              "    }\n",
              "\n",
              "    .dataframe tbody tr th {\n",
              "        vertical-align: top;\n",
              "    }\n",
              "\n",
              "    .dataframe thead th {\n",
              "        text-align: right;\n",
              "    }\n",
              "</style>\n",
              "<table border=\"1\" class=\"dataframe\">\n",
              "  <thead>\n",
              "    <tr style=\"text-align: right;\">\n",
              "      <th></th>\n",
              "      <th>x1</th>\n",
              "      <th>x2</th>\n",
              "      <th>x3</th>\n",
              "    </tr>\n",
              "  </thead>\n",
              "  <tbody>\n",
              "    <tr>\n",
              "      <th>x1</th>\n",
              "      <td>1.000000</td>\n",
              "      <td>0.015462</td>\n",
              "      <td>0.222250</td>\n",
              "    </tr>\n",
              "    <tr>\n",
              "      <th>x2</th>\n",
              "      <td>0.015462</td>\n",
              "      <td>1.000000</td>\n",
              "      <td>0.075238</td>\n",
              "    </tr>\n",
              "    <tr>\n",
              "      <th>x3</th>\n",
              "      <td>0.222250</td>\n",
              "      <td>0.075238</td>\n",
              "      <td>1.000000</td>\n",
              "    </tr>\n",
              "  </tbody>\n",
              "</table>\n",
              "</div>"
            ],
            "text/plain": [
              "          x1        x2        x3\n",
              "x1  1.000000  0.015462  0.222250\n",
              "x2  0.015462  1.000000  0.075238\n",
              "x3  0.222250  0.075238  1.000000"
            ]
          },
          "metadata": {
            "tags": []
          },
          "execution_count": 77
        },
        {
          "output_type": "display_data",
          "data": {
            "image/png": "[encoded data removed]",
            "text/plain": [
              "<Figure size 432x288 with 1 Axes>"
            ]
          },
          "metadata": {
            "tags": []
          }
        }
      ]
    },
    {
      "cell_type": "code",
      "metadata": {
        "id": "FmQgJPelh7-W",
        "colab_type": "code",
        "colab": {
          "base_uri": "https://localhost:8080/",
          "height": 469
        },
        "outputId": "78288347-d9a0-463a-cdfa-44aba50876a2"
      },
      "source": [
        "style.use('ggplot')\n",
        "\n",
        "x1 = np.random.normal(0, 1, 1000)\n",
        "x2 = np.random.normal(0, 1, 1000)\n",
        "x3 = 1000*x1 + 10*(x2)\n",
        "\n",
        "df = pd.DataFrame.from_dict({\n",
        "    'x1':x1,\n",
        "    'x2':x2,\n",
        "    'x3':x3\n",
        "})\n",
        "\n",
        "print(sns.lineplot(x=\"x1\", y=\"x3\", data=df))\n",
        "df.corr()\n",
        "\n"
      ],
      "execution_count": null,
      "outputs": [
        {
          "output_type": "stream",
          "text": [
            "AxesSubplot(0.125,0.125;0.775x0.775)\n"
          ],
          "name": "stdout"
        },
        {
          "output_type": "execute_result",
          "data": {
            "text/html": [
              "<div>\n",
              "<style scoped>\n",
              "    .dataframe tbody tr th:only-of-type {\n",
              "        vertical-align: middle;\n",
              "    }\n",
              "\n",
              "    .dataframe tbody tr th {\n",
              "        vertical-align: top;\n",
              "    }\n",
              "\n",
              "    .dataframe thead th {\n",
              "        text-align: right;\n",
              "    }\n",
              "</style>\n",
              "<table border=\"1\" class=\"dataframe\">\n",
              "  <thead>\n",
              "    <tr style=\"text-align: right;\">\n",
              "      <th></th>\n",
              "      <th>x1</th>\n",
              "      <th>x2</th>\n",
              "      <th>x3</th>\n",
              "    </tr>\n",
              "  </thead>\n",
              "  <tbody>\n",
              "    <tr>\n",
              "      <th>x1</th>\n",
              "      <td>1.000000</td>\n",
              "      <td>-0.039792</td>\n",
              "      <td>0.999948</td>\n",
              "    </tr>\n",
              "    <tr>\n",
              "      <th>x2</th>\n",
              "      <td>-0.039792</td>\n",
              "      <td>1.000000</td>\n",
              "      <td>-0.029640</td>\n",
              "    </tr>\n",
              "    <tr>\n",
              "      <th>x3</th>\n",
              "      <td>0.999948</td>\n",
              "      <td>-0.029640</td>\n",
              "      <td>1.000000</td>\n",
              "    </tr>\n",
              "  </tbody>\n",
              "</table>\n",
              "</div>"
            ],
            "text/plain": [
              "          x1        x2        x3\n",
              "x1  1.000000 -0.039792  0.999948\n",
              "x2 -0.039792  1.000000 -0.029640\n",
              "x3  0.999948 -0.029640  1.000000"
            ]
          },
          "metadata": {
            "tags": []
          },
          "execution_count": 93
        },
        {
          "output_type": "display_data",
          "data": {
            "image/png": "[encoded data removed]",
            "text/plain": [
              "<Figure size 432x288 with 1 Axes>"
            ]
          },
          "metadata": {
            "tags": []
          }
        }
      ]
    },
    {
      "cell_type": "code",
      "metadata": {
        "id": "Gwdruc3EnFMG",
        "colab_type": "code",
        "colab": {
          "base_uri": "https://localhost:8080/",
          "height": 318
        },
        "outputId": "86cf791b-c2fd-4a15-d0ff-b7fe737f37d0"
      },
      "source": [
        "print(sns.lineplot(x=\"x2\", y=\"x3\", data=df))\n"
      ],
      "execution_count": null,
      "outputs": [
        {
          "output_type": "stream",
          "text": [
            "AxesSubplot(0.125,0.125;0.775x0.775)\n"
          ],
          "name": "stdout"
        },
        {
          "output_type": "display_data",
          "data": {
            "image/png": "[encoded data removed]",
            "text/plain": [
              "<Figure size 432x288 with 1 Axes>"
            ]
          },
          "metadata": {
            "tags": []
          }
        }
      ]
    },
    {
      "cell_type": "code",
      "metadata": {
        "id": "UB2uETCFgKLR",
        "colab_type": "code",
        "colab": {
          "base_uri": "https://localhost:8080/",
          "height": 314
        },
        "outputId": "237c0ea1-9d08-4aed-b60e-d14c808d8313"
      },
      "source": [
        "style.use('ggplot')\n",
        "\n",
        "x1 = np.random.normal(0, 1, 1000)\n",
        "x2 = np.random.normal(0, 1, 1000)\n",
        "x3 = 3*x1 + 1.0/x2 \n",
        "\n",
        "df = pd.DataFrame.from_dict({\n",
        "    'x1':x1,\n",
        "    'x2':x2,\n",
        "    'x3':x3\n",
        "})\n",
        "\n",
        "sns.lineplot(x=\"x1\", y=\"x3\", data=df)"
      ],
      "execution_count": null,
      "outputs": [
        {
          "output_type": "execute_result",
          "data": {
            "text/plain": [
              "<matplotlib.axes._subplots.AxesSubplot at 0x7f9c9ace2b00>"
            ]
          },
          "metadata": {
            "tags": []
          },
          "execution_count": 65
        },
        {
          "output_type": "display_data",
          "data": {
            "image/png": "[encoded data removed]",
            "text/plain": [
              "<Figure size 432x288 with 1 Axes>"
            ]
          },
          "metadata": {
            "tags": []
          }
        }
      ]
    },
    {
      "cell_type": "code",
      "metadata": {
        "id": "5tV-j263XH1w",
        "colab_type": "code",
        "colab": {
          "base_uri": "https://localhost:8080/",
          "height": 112
        },
        "outputId": "3b1df1bd-7fab-4dd2-f308-ef1c8fc48b2c"
      },
      "source": [
        "x1 = np.random.normal(0, 1, 1000)\n",
        "x2 = -1.0/x1\n",
        "\n",
        "df = pd.DataFrame.from_dict({\n",
        "    'x1':x1,\n",
        "    'x2':x2,\n",
        "})\n",
        "\n",
        "df.corr()"
      ],
      "execution_count": null,
      "outputs": [
        {
          "output_type": "execute_result",
          "data": {
            "text/html": [
              "<div>\n",
              "<style scoped>\n",
              "    .dataframe tbody tr th:only-of-type {\n",
              "        vertical-align: middle;\n",
              "    }\n",
              "\n",
              "    .dataframe tbody tr th {\n",
              "        vertical-align: top;\n",
              "    }\n",
              "\n",
              "    .dataframe thead th {\n",
              "        text-align: right;\n",
              "    }\n",
              "</style>\n",
              "<table border=\"1\" class=\"dataframe\">\n",
              "  <thead>\n",
              "    <tr style=\"text-align: right;\">\n",
              "      <th></th>\n",
              "      <th>x1</th>\n",
              "      <th>x2</th>\n",
              "    </tr>\n",
              "  </thead>\n",
              "  <tbody>\n",
              "    <tr>\n",
              "      <th>x1</th>\n",
              "      <td>1.000000</td>\n",
              "      <td>-0.016509</td>\n",
              "    </tr>\n",
              "    <tr>\n",
              "      <th>x2</th>\n",
              "      <td>-0.016509</td>\n",
              "      <td>1.000000</td>\n",
              "    </tr>\n",
              "  </tbody>\n",
              "</table>\n",
              "</div>"
            ],
            "text/plain": [
              "          x1        x2\n",
              "x1  1.000000 -0.016509\n",
              "x2 -0.016509  1.000000"
            ]
          },
          "metadata": {
            "tags": []
          },
          "execution_count": 52
        }
      ]
    },
    {
      "cell_type": "code",
      "metadata": {
        "id": "OuApj20rUfWt",
        "colab_type": "code",
        "colab": {
          "base_uri": "https://localhost:8080/",
          "height": 112
        },
        "outputId": "c203be96-cf3a-4574-d879-8c267c149898"
      },
      "source": [
        "x1 = np.random.normal(0, 1, 1000)\n",
        "x2 = -10.0*x1\n",
        "\n",
        "df = pd.DataFrame.from_dict({\n",
        "    'x1':x1,\n",
        "    'x2':x2,\n",
        "})\n",
        "\n",
        "df.corr()"
      ],
      "execution_count": null,
      "outputs": [
        {
          "output_type": "execute_result",
          "data": {
            "text/html": [
              "<div>\n",
              "<style scoped>\n",
              "    .dataframe tbody tr th:only-of-type {\n",
              "        vertical-align: middle;\n",
              "    }\n",
              "\n",
              "    .dataframe tbody tr th {\n",
              "        vertical-align: top;\n",
              "    }\n",
              "\n",
              "    .dataframe thead th {\n",
              "        text-align: right;\n",
              "    }\n",
              "</style>\n",
              "<table border=\"1\" class=\"dataframe\">\n",
              "  <thead>\n",
              "    <tr style=\"text-align: right;\">\n",
              "      <th></th>\n",
              "      <th>x1</th>\n",
              "      <th>x2</th>\n",
              "    </tr>\n",
              "  </thead>\n",
              "  <tbody>\n",
              "    <tr>\n",
              "      <th>x1</th>\n",
              "      <td>1.0</td>\n",
              "      <td>-1.0</td>\n",
              "    </tr>\n",
              "    <tr>\n",
              "      <th>x2</th>\n",
              "      <td>-1.0</td>\n",
              "      <td>1.0</td>\n",
              "    </tr>\n",
              "  </tbody>\n",
              "</table>\n",
              "</div>"
            ],
            "text/plain": [
              "     x1   x2\n",
              "x1  1.0 -1.0\n",
              "x2 -1.0  1.0"
            ]
          },
          "metadata": {
            "tags": []
          },
          "execution_count": 46
        }
      ]
    },
    {
      "cell_type": "code",
      "metadata": {
        "id": "bETzk-_t9-qh",
        "colab_type": "code",
        "colab": {
          "base_uri": "https://localhost:8080/",
          "height": 80
        },
        "outputId": "502e9436-98ca-4161-9505-f49efd52bfbb"
      },
      "source": [
        "# Variables que definen a Y\n",
        "x = np.random.normal(0, 1, 1000)\n",
        "z = np.random.normal(100, 10, 1000)\n",
        "\n",
        "# Y\n",
        "y = z*x\n",
        "\n",
        "print('Covarianza entre X y Y: ')\n",
        "print(np.cov(x,y))\n"
      ],
      "execution_count": null,
      "outputs": [
        {
          "output_type": "stream",
          "text": [
            "Covarianza entre X y Y: \n",
            "[[1.01828033e+00 1.01885941e+02]\n",
            " [1.01885941e+02 1.02986814e+04]]\n"
          ],
          "name": "stdout"
        }
      ]
    },
    {
      "cell_type": "code",
      "metadata": {
        "id": "KQt2HFFr770A",
        "colab_type": "code",
        "colab": {
          "base_uri": "https://localhost:8080/",
          "height": 163
        },
        "outputId": "f6ec10ec-3431-4af1-8fe9-661862dfa5ae"
      },
      "source": [
        "# Variables que definen a Y\n",
        "x = np.random.normal(0, 1, 1000)\n",
        "z = np.random.normal(100, 10, 1000)\n",
        "\n",
        "# Y\n",
        "y = z**x\n",
        "\n",
        "print('Covarianza entre X y Y: ')\n",
        "print(np.cov(x,y))\n",
        "print('-------------------------------')\n",
        "print('Correlacion entre X y Y:')\n",
        "print(np.corrcoef(x,y))\n"
      ],
      "execution_count": null,
      "outputs": [
        {
          "output_type": "stream",
          "text": [
            "Covarianza entre X y Y: \n",
            "[[9.95045018e-01 1.08130988e+05]\n",
            " [1.08130988e+05 6.86481068e+11]]\n",
            "-------------------------------\n",
            "Correlacion entre X y Y:\n",
            "[[1.         0.13083216]\n",
            " [0.13083216 1.        ]]\n"
          ],
          "name": "stdout"
        }
      ]
    },
    {
      "cell_type": "code",
      "metadata": {
        "id": "BVzjVvRT9sN4",
        "colab_type": "code",
        "colab": {
          "base_uri": "https://localhost:8080/",
          "height": 86
        },
        "outputId": "9818fdc9-677e-4493-f868-0970bd584ca4"
      },
      "source": [
        "# Variables que definen a Y\n",
        "x = np.random.normal(0, 1, 1000)\n",
        "z = np.random.normal(100, 10, 1000)\n",
        "\n",
        "# Y\n",
        "y = z*x\n",
        "\n",
        "print('Covarianza entre X y Y: ', np.cov(x,y))\n",
        "print('Correlacion entre X y Y: ', np.corrcoef(x,y))\n"
      ],
      "execution_count": null,
      "outputs": [
        {
          "output_type": "stream",
          "text": [
            "Covarianza entre X y Y:  [[9.45613639e-01 9.42855136e+01]\n",
            " [9.42855136e+01 9.49854143e+03]]\n",
            "Correlacion entre X y Y:  [[1.         0.99485468]\n",
            " [0.99485468 1.        ]]\n"
          ],
          "name": "stdout"
        }
      ]
    }
  ]
}