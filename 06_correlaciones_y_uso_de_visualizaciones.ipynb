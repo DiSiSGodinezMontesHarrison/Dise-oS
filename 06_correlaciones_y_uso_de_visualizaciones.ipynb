{
  "nbformat": 4,
  "nbformat_minor": 0,
  "metadata": {
    "colab": {
      "name": "06_correlaciones_y_uso_de_visualizaciones.ipynb",
      "provenance": [],
      "authorship_tag": "ABX9TyNonyyUZWgYD3bI0TR5UXCm",
      "include_colab_link": true
    },
    "kernelspec": {
      "name": "python3",
      "display_name": "Python 3"
    }
  },
  "cells": [
    {
      "cell_type": "markdown",
      "metadata": {
        "id": "view-in-github",
        "colab_type": "text"
      },
      "source": [
        "<a href=\"https://colab.research.google.com/github/IEXE-Tec/analisis-descriptivo/blob/master/06_correlaciones_y_uso_de_visualizaciones.ipynb\" target=\"_parent\"><img src=\"https://colab.research.google.com/assets/colab-badge.svg\" alt=\"Open In Colab\"/></a>"
      ]
    },
    {
      "cell_type": "code",
      "metadata": {
        "id": "ydlY8aMHRT10",
        "colab_type": "code",
        "colab": {}
      },
      "source": [
        "# Importo las librerias que usare en este notebook\n",
        "import pandas as pd\n",
        "import numpy as np\n",
        "import datetime\n",
        "\n",
        "import matplotlib.pyplot as plt\n",
        "%matplotlib inline\n",
        "import seaborn as sns\n",
        "sns.set_style('darkgrid')\n"
      ],
      "execution_count": 91,
      "outputs": []
    },
    {
      "cell_type": "markdown",
      "metadata": {
        "id": "Fay_eRe3JYoz",
        "colab_type": "text"
      },
      "source": [
        "# Covarianza"
      ]
    },
    {
      "cell_type": "markdown",
      "metadata": {
        "id": "Cl9oqvTXMrC7",
        "colab_type": "text"
      },
      "source": [
        "En este notebook encontraras el codigo usando en clase. Te recomendamos jugar con el para entender mejor como funciona la covarianza y correlacion.\n",
        "\n",
        "Generaremos una serie de variables apartir de diferentes distribuciones y ver que ocurre con nuestros estadisticos. \n",
        "\n",
        "Te recomendamos agregar visualizaciones para entender mejor lo que esta ocurriendo.\n"
      ]
    },
    {
      "cell_type": "markdown",
      "metadata": {
        "id": "XsRIEpGrO_rh",
        "colab_type": "text"
      },
      "source": [
        "Observaras que modelamos el proceso generador de datos a traves de funciones del estilo:  \n",
        "y = x + z  \n",
        "y = f(x)\n",
        "\n",
        "En la realidad es raro que observemos estas funciones, pues es lo que estamos tratando de estimar apartir de los datos. Sin embargo, visualizar el problema de esta forma nos ayudara a entenderlo mejor."
      ]
    },
    {
      "cell_type": "markdown",
      "metadata": {
        "id": "EoNcrI4yKLfb",
        "colab_type": "text"
      },
      "source": [
        "### Cov(x,x)"
      ]
    },
    {
      "cell_type": "code",
      "metadata": {
        "id": "z-7jusYoBCnc",
        "colab_type": "code",
        "colab": {
          "base_uri": "https://localhost:8080/",
          "height": 100
        },
        "outputId": "985d6a58-0083-4b78-fd75-e78b0776a592"
      },
      "source": [
        "# X\n",
        "x = np.random.normal(0, 1, 1000)\n",
        "print('Covarianza entre X y X: ')\n",
        "print(np.cov(x,x))\n",
        "print(np.var(x))"
      ],
      "execution_count": 92,
      "outputs": [
        {
          "output_type": "stream",
          "text": [
            "Covarianza entre X y X: \n",
            "[[0.97116832 0.97116832]\n",
            " [0.97116832 0.97116832]]\n",
            "0.9701971492178779\n"
          ],
          "name": "stdout"
        }
      ]
    },
    {
      "cell_type": "markdown",
      "metadata": {
        "id": "nmbL2F3fLC3k",
        "colab_type": "text"
      },
      "source": [
        "Nota como existe una pequena diferencia entre el valor calculado por los dos metodos {cov,var}. Cual crees que sea la razon? (Hint: Recuerda la correccion por sesgo) La respuesta esta en la celda de abajo.\n"
      ]
    },
    {
      "cell_type": "code",
      "metadata": {
        "id": "bFkEga6JLLeF",
        "colab_type": "code",
        "colab": {
          "base_uri": "https://localhost:8080/",
          "height": 100
        },
        "outputId": "b3dc2a9f-b481-41bf-d436-117759276ce8"
      },
      "source": [
        "# X\n",
        "x = np.random.normal(0, 1, 1000)\n",
        "print('Covarianza entre X y X: ')\n",
        "# \n",
        "print(np.cov(x,x)*(1000-1)/1000)\n",
        "print(np.var(x))"
      ],
      "execution_count": 93,
      "outputs": [
        {
          "output_type": "stream",
          "text": [
            "Covarianza entre X y X: \n",
            "[[0.98835832 0.98835832]\n",
            " [0.98835832 0.98835832]]\n",
            "0.9883583237375921\n"
          ],
          "name": "stdout"
        }
      ]
    },
    {
      "cell_type": "markdown",
      "metadata": {
        "id": "u7_y__V3LyTf",
        "colab_type": "text"
      },
      "source": [
        "Para efectos practicos esta correcion por sesgo no es tan importante, a menos que se tengan pocos datos. Es bueno tomarlo, en cuenta."
      ]
    },
    {
      "cell_type": "code",
      "metadata": {
        "id": "G_7w0vnZKXa-",
        "colab_type": "code",
        "colab": {
          "base_uri": "https://localhost:8080/",
          "height": 100
        },
        "outputId": "06eee4e5-0ae4-4876-92c4-ef943e33de5c"
      },
      "source": [
        "# X\n",
        "x = np.random.normal(100, 10, 1000)\n",
        "print('Covarianza entre X y X: ')\n",
        "print(np.cov(x,x))\n",
        "print(np.var(x))"
      ],
      "execution_count": 94,
      "outputs": [
        {
          "output_type": "stream",
          "text": [
            "Covarianza entre X y X: \n",
            "[[97.88108646 97.88108646]\n",
            " [97.88108646 97.88108646]]\n",
            "97.78320537341531\n"
          ],
          "name": "stdout"
        }
      ]
    },
    {
      "cell_type": "markdown",
      "metadata": {
        "id": "blJWUtJ9Jfma",
        "colab_type": "text"
      },
      "source": [
        "### Cov(x,-x)\n",
        "\n",
        "\n"
      ]
    },
    {
      "cell_type": "code",
      "metadata": {
        "id": "Eo-qVzY3B0Ww",
        "colab_type": "code",
        "colab": {
          "base_uri": "https://localhost:8080/",
          "height": 80
        },
        "outputId": "4aa29bec-90ce-462d-ea98-258c47280700"
      },
      "source": [
        "# X\n",
        "x = np.random.normal(0, 1, 1000)\n",
        "print('Covarianza entre X y X: ')\n",
        "print(np.cov(x,-x))\n"
      ],
      "execution_count": 95,
      "outputs": [
        {
          "output_type": "stream",
          "text": [
            "Covarianza entre X y X: \n",
            "[[ 1.05366771 -1.05366771]\n",
            " [-1.05366771  1.05366771]]\n"
          ],
          "name": "stdout"
        }
      ]
    },
    {
      "cell_type": "markdown",
      "metadata": {
        "id": "qxFRjVQfJl9l",
        "colab_type": "text"
      },
      "source": [
        "### Covarianza entre x,y, z"
      ]
    },
    {
      "cell_type": "code",
      "metadata": {
        "id": "RlBjlO4l98Mm",
        "colab_type": "code",
        "colab": {
          "base_uri": "https://localhost:8080/",
          "height": 163
        },
        "outputId": "d206e13c-ab7f-43b3-aed8-2e752db9d142"
      },
      "source": [
        "# Variables que definen a Y\n",
        "x = np.random.normal(0, 1, 1000)\n",
        "z = np.random.normal(100, 10, 1000)\n",
        "\n",
        "# Y\n",
        "y = z**x\n",
        "\n",
        "print('Covarianza entre Y & X: ')\n",
        "print(np.cov(x,y))\n",
        "print('-------------------')\n",
        "print('Covarianza entre Y & Z: ')\n",
        "print(np.cov(x,y))\n",
        "\n"
      ],
      "execution_count": 96,
      "outputs": [
        {
          "output_type": "stream",
          "text": [
            "Covarianza entre Y & X: \n",
            "[[1.07076309e+00 3.96778019e+04]\n",
            " [3.96778019e+04 4.57065976e+10]]\n",
            "-------------------\n",
            "Covarianza entre Y & Z: \n",
            "[[1.07076309e+00 3.96778019e+04]\n",
            " [3.96778019e+04 4.57065976e+10]]\n"
          ],
          "name": "stdout"
        }
      ]
    },
    {
      "cell_type": "code",
      "metadata": {
        "id": "ydfn8mKoKLsK",
        "colab_type": "code",
        "colab": {
          "base_uri": "https://localhost:8080/",
          "height": 256
        },
        "outputId": "d8ee9f35-3c29-445e-8fb0-82fd3e450f96"
      },
      "source": [
        "# Variables que definen a Y\n",
        "x1 = np.random.normal(0, 1, 1000)\n",
        "x2 = np.random.normal(0, 4, 1000)\n",
        "\n",
        "df = pd.DataFrame.from_dict({\n",
        "    'x1':x1,\n",
        "    'x2':x2\n",
        "})\n",
        "print('Covariance')\n",
        "print(df.cov())\n",
        "print('\\n Correlation')\n",
        "df.corr()"
      ],
      "execution_count": 97,
      "outputs": [
        {
          "output_type": "stream",
          "text": [
            "Covariance\n",
            "          x1         x2\n",
            "x1  0.949755   0.241847\n",
            "x2  0.241847  15.381740\n",
            "\n",
            " Correlation\n"
          ],
          "name": "stdout"
        },
        {
          "output_type": "execute_result",
          "data": {
            "text/html": [
              "<div>\n",
              "<style scoped>\n",
              "    .dataframe tbody tr th:only-of-type {\n",
              "        vertical-align: middle;\n",
              "    }\n",
              "\n",
              "    .dataframe tbody tr th {\n",
              "        vertical-align: top;\n",
              "    }\n",
              "\n",
              "    .dataframe thead th {\n",
              "        text-align: right;\n",
              "    }\n",
              "</style>\n",
              "<table border=\"1\" class=\"dataframe\">\n",
              "  <thead>\n",
              "    <tr style=\"text-align: right;\">\n",
              "      <th></th>\n",
              "      <th>x1</th>\n",
              "      <th>x2</th>\n",
              "    </tr>\n",
              "  </thead>\n",
              "  <tbody>\n",
              "    <tr>\n",
              "      <th>x1</th>\n",
              "      <td>1.000000</td>\n",
              "      <td>0.063275</td>\n",
              "    </tr>\n",
              "    <tr>\n",
              "      <th>x2</th>\n",
              "      <td>0.063275</td>\n",
              "      <td>1.000000</td>\n",
              "    </tr>\n",
              "  </tbody>\n",
              "</table>\n",
              "</div>"
            ],
            "text/plain": [
              "          x1        x2\n",
              "x1  1.000000  0.063275\n",
              "x2  0.063275  1.000000"
            ]
          },
          "metadata": {
            "tags": []
          },
          "execution_count": 97
        }
      ]
    },
    {
      "cell_type": "code",
      "metadata": {
        "id": "5_2WSyiYL7GP",
        "colab_type": "code",
        "colab": {
          "base_uri": "https://localhost:8080/",
          "height": 131
        },
        "outputId": "945e70cf-3fdd-486a-8e21-ab52837d8b07"
      },
      "source": [
        "x1 = np.random.normal(0, 1, 1000)\n",
        "x2 = -1.0*x1\n",
        "\n",
        "df = pd.DataFrame.from_dict({\n",
        "    'x1':x1,\n",
        "    'x2':x2,\n",
        "})\n",
        "\n",
        "df.corr()\n"
      ],
      "execution_count": 98,
      "outputs": [
        {
          "output_type": "execute_result",
          "data": {
            "text/html": [
              "<div>\n",
              "<style scoped>\n",
              "    .dataframe tbody tr th:only-of-type {\n",
              "        vertical-align: middle;\n",
              "    }\n",
              "\n",
              "    .dataframe tbody tr th {\n",
              "        vertical-align: top;\n",
              "    }\n",
              "\n",
              "    .dataframe thead th {\n",
              "        text-align: right;\n",
              "    }\n",
              "</style>\n",
              "<table border=\"1\" class=\"dataframe\">\n",
              "  <thead>\n",
              "    <tr style=\"text-align: right;\">\n",
              "      <th></th>\n",
              "      <th>x1</th>\n",
              "      <th>x2</th>\n",
              "    </tr>\n",
              "  </thead>\n",
              "  <tbody>\n",
              "    <tr>\n",
              "      <th>x1</th>\n",
              "      <td>1.0</td>\n",
              "      <td>-1.0</td>\n",
              "    </tr>\n",
              "    <tr>\n",
              "      <th>x2</th>\n",
              "      <td>-1.0</td>\n",
              "      <td>1.0</td>\n",
              "    </tr>\n",
              "  </tbody>\n",
              "</table>\n",
              "</div>"
            ],
            "text/plain": [
              "     x1   x2\n",
              "x1  1.0 -1.0\n",
              "x2 -1.0  1.0"
            ]
          },
          "metadata": {
            "tags": []
          },
          "execution_count": 98
        }
      ]
    },
    {
      "cell_type": "code",
      "metadata": {
        "id": "PfzXHB9wWHHn",
        "colab_type": "code",
        "colab": {
          "base_uri": "https://localhost:8080/",
          "height": 169
        },
        "outputId": "e3879b16-c6e9-43c1-e76a-9e88bdcff213"
      },
      "source": [
        "x1 = np.random.normal(0, 1, 1000)\n",
        "x2 = 3*x1\n",
        "x3 = 1.0/x1\n",
        "\n",
        "df = pd.DataFrame.from_dict({\n",
        "    'x1':x1,\n",
        "    'x2':x2,\n",
        "    'x3':x3\n",
        "})\n",
        "\n",
        "df.corr()"
      ],
      "execution_count": 99,
      "outputs": [
        {
          "output_type": "execute_result",
          "data": {
            "text/html": [
              "<div>\n",
              "<style scoped>\n",
              "    .dataframe tbody tr th:only-of-type {\n",
              "        vertical-align: middle;\n",
              "    }\n",
              "\n",
              "    .dataframe tbody tr th {\n",
              "        vertical-align: top;\n",
              "    }\n",
              "\n",
              "    .dataframe thead th {\n",
              "        text-align: right;\n",
              "    }\n",
              "</style>\n",
              "<table border=\"1\" class=\"dataframe\">\n",
              "  <thead>\n",
              "    <tr style=\"text-align: right;\">\n",
              "      <th></th>\n",
              "      <th>x1</th>\n",
              "      <th>x2</th>\n",
              "      <th>x3</th>\n",
              "    </tr>\n",
              "  </thead>\n",
              "  <tbody>\n",
              "    <tr>\n",
              "      <th>x1</th>\n",
              "      <td>1.000000</td>\n",
              "      <td>1.000000</td>\n",
              "      <td>0.006081</td>\n",
              "    </tr>\n",
              "    <tr>\n",
              "      <th>x2</th>\n",
              "      <td>1.000000</td>\n",
              "      <td>1.000000</td>\n",
              "      <td>0.006081</td>\n",
              "    </tr>\n",
              "    <tr>\n",
              "      <th>x3</th>\n",
              "      <td>0.006081</td>\n",
              "      <td>0.006081</td>\n",
              "      <td>1.000000</td>\n",
              "    </tr>\n",
              "  </tbody>\n",
              "</table>\n",
              "</div>"
            ],
            "text/plain": [
              "          x1        x2        x3\n",
              "x1  1.000000  1.000000  0.006081\n",
              "x2  1.000000  1.000000  0.006081\n",
              "x3  0.006081  0.006081  1.000000"
            ]
          },
          "metadata": {
            "tags": []
          },
          "execution_count": 99
        }
      ]
    },
    {
      "cell_type": "markdown",
      "metadata": {
        "id": "8DTPooLKQZjd",
        "colab_type": "text"
      },
      "source": [
        "### No linealidad"
      ]
    },
    {
      "cell_type": "code",
      "metadata": {
        "id": "rLsWnHQrdgOj",
        "colab_type": "code",
        "colab": {
          "base_uri": "https://localhost:8080/",
          "height": 300
        },
        "outputId": "e1eb0f96-878d-4f49-8d14-0b3f7156920a"
      },
      "source": [
        "  \n",
        "x1 = np.random.normal(0, 1, 1000)\n",
        "x2 = 3*x1 \n",
        "x3 = 1.0/x1 \n",
        "\n",
        "df = pd.DataFrame.from_dict({\n",
        "    'x1':x1,\n",
        "    'x2':x2,\n",
        "    'x3':x3\n",
        "})\n",
        "\n",
        "sns.lineplot(x=\"x1\", y=\"x3\", data=df)"
      ],
      "execution_count": 100,
      "outputs": [
        {
          "output_type": "execute_result",
          "data": {
            "text/plain": [
              "<matplotlib.axes._subplots.AxesSubplot at 0x7f5827da5e80>"
            ]
          },
          "metadata": {
            "tags": []
          },
          "execution_count": 100
        },
        {
          "output_type": "display_data",
          "data": {
            "image/png": "[encoded data removed]",
            "text/plain": [
              "<Figure size 432x288 with 1 Axes>"
            ]
          },
          "metadata": {
            "tags": []
          }
        }
      ]
    },
    {
      "cell_type": "code",
      "metadata": {
        "id": "_GXizpyJf6Wf",
        "colab_type": "code",
        "colab": {
          "base_uri": "https://localhost:8080/",
          "height": 451
        },
        "outputId": "f8ab89c7-1d71-4ac5-d912-7962624fdb24"
      },
      "source": [
        "x1 = np.random.normal(0, 1, 1000)\n",
        "x2 = np.random.normal(0, 1, 1000)\n",
        "x3 = 3*x1 + 1.0/x2 \n",
        "\n",
        "df = pd.DataFrame.from_dict({\n",
        "    'x1':x1,\n",
        "    'x2':x2,\n",
        "    'x3':x3\n",
        "})\n",
        "\n",
        "print(sns.lineplot(x=\"x1\", y=\"x3\", data=df))\n",
        "df.corr()\n",
        "\n"
      ],
      "execution_count": 101,
      "outputs": [
        {
          "output_type": "stream",
          "text": [
            "AxesSubplot(0.125,0.125;0.775x0.755)\n"
          ],
          "name": "stdout"
        },
        {
          "output_type": "execute_result",
          "data": {
            "text/html": [
              "<div>\n",
              "<style scoped>\n",
              "    .dataframe tbody tr th:only-of-type {\n",
              "        vertical-align: middle;\n",
              "    }\n",
              "\n",
              "    .dataframe tbody tr th {\n",
              "        vertical-align: top;\n",
              "    }\n",
              "\n",
              "    .dataframe thead th {\n",
              "        text-align: right;\n",
              "    }\n",
              "</style>\n",
              "<table border=\"1\" class=\"dataframe\">\n",
              "  <thead>\n",
              "    <tr style=\"text-align: right;\">\n",
              "      <th></th>\n",
              "      <th>x1</th>\n",
              "      <th>x2</th>\n",
              "      <th>x3</th>\n",
              "    </tr>\n",
              "  </thead>\n",
              "  <tbody>\n",
              "    <tr>\n",
              "      <th>x1</th>\n",
              "      <td>1.000000</td>\n",
              "      <td>-0.065175</td>\n",
              "      <td>0.057384</td>\n",
              "    </tr>\n",
              "    <tr>\n",
              "      <th>x2</th>\n",
              "      <td>-0.065175</td>\n",
              "      <td>1.000000</td>\n",
              "      <td>0.016182</td>\n",
              "    </tr>\n",
              "    <tr>\n",
              "      <th>x3</th>\n",
              "      <td>0.057384</td>\n",
              "      <td>0.016182</td>\n",
              "      <td>1.000000</td>\n",
              "    </tr>\n",
              "  </tbody>\n",
              "</table>\n",
              "</div>"
            ],
            "text/plain": [
              "          x1        x2        x3\n",
              "x1  1.000000 -0.065175  0.057384\n",
              "x2 -0.065175  1.000000  0.016182\n",
              "x3  0.057384  0.016182  1.000000"
            ]
          },
          "metadata": {
            "tags": []
          },
          "execution_count": 101
        },
        {
          "output_type": "display_data",
          "data": {
            "image/png": "[encoded data removed]",
            "text/plain": [
              "<Figure size 432x288 with 1 Axes>"
            ]
          },
          "metadata": {
            "tags": []
          }
        }
      ]
    },
    {
      "cell_type": "code",
      "metadata": {
        "id": "FmQgJPelh7-W",
        "colab_type": "code",
        "colab": {
          "base_uri": "https://localhost:8080/",
          "height": 451
        },
        "outputId": "ab0f6ad2-102d-4694-ed2a-a6e6e2dd1663"
      },
      "source": [
        "x1 = np.random.normal(0, 1, 1000)\n",
        "x2 = np.random.normal(0, 1, 1000)\n",
        "x3 = 1000*x1 + 10*(x2)\n",
        "\n",
        "df = pd.DataFrame.from_dict({\n",
        "    'x1':x1,\n",
        "    'x2':x2,\n",
        "    'x3':x3\n",
        "})\n",
        "\n",
        "print(sns.lineplot(x=\"x1\", y=\"x3\", data=df))\n",
        "df.corr()\n",
        "\n"
      ],
      "execution_count": 102,
      "outputs": [
        {
          "output_type": "stream",
          "text": [
            "AxesSubplot(0.125,0.125;0.775x0.755)\n"
          ],
          "name": "stdout"
        },
        {
          "output_type": "execute_result",
          "data": {
            "text/html": [
              "<div>\n",
              "<style scoped>\n",
              "    .dataframe tbody tr th:only-of-type {\n",
              "        vertical-align: middle;\n",
              "    }\n",
              "\n",
              "    .dataframe tbody tr th {\n",
              "        vertical-align: top;\n",
              "    }\n",
              "\n",
              "    .dataframe thead th {\n",
              "        text-align: right;\n",
              "    }\n",
              "</style>\n",
              "<table border=\"1\" class=\"dataframe\">\n",
              "  <thead>\n",
              "    <tr style=\"text-align: right;\">\n",
              "      <th></th>\n",
              "      <th>x1</th>\n",
              "      <th>x2</th>\n",
              "      <th>x3</th>\n",
              "    </tr>\n",
              "  </thead>\n",
              "  <tbody>\n",
              "    <tr>\n",
              "      <th>x1</th>\n",
              "      <td>1.000000</td>\n",
              "      <td>0.030438</td>\n",
              "      <td>0.999945</td>\n",
              "    </tr>\n",
              "    <tr>\n",
              "      <th>x2</th>\n",
              "      <td>0.030438</td>\n",
              "      <td>1.000000</td>\n",
              "      <td>0.040932</td>\n",
              "    </tr>\n",
              "    <tr>\n",
              "      <th>x3</th>\n",
              "      <td>0.999945</td>\n",
              "      <td>0.040932</td>\n",
              "      <td>1.000000</td>\n",
              "    </tr>\n",
              "  </tbody>\n",
              "</table>\n",
              "</div>"
            ],
            "text/plain": [
              "          x1        x2        x3\n",
              "x1  1.000000  0.030438  0.999945\n",
              "x2  0.030438  1.000000  0.040932\n",
              "x3  0.999945  0.040932  1.000000"
            ]
          },
          "metadata": {
            "tags": []
          },
          "execution_count": 102
        },
        {
          "output_type": "display_data",
          "data": {
            "image/png": "[encoded data removed]",
            "text/plain": [
              "<Figure size 432x288 with 1 Axes>"
            ]
          },
          "metadata": {
            "tags": []
          }
        }
      ]
    },
    {
      "cell_type": "code",
      "metadata": {
        "id": "Gwdruc3EnFMG",
        "colab_type": "code",
        "colab": {
          "base_uri": "https://localhost:8080/",
          "height": 300
        },
        "outputId": "4f745930-8336-49f8-909b-a16c97bcdd9f"
      },
      "source": [
        "print(sns.lineplot(x=\"x2\", y=\"x3\", data=df))"
      ],
      "execution_count": 103,
      "outputs": [
        {
          "output_type": "stream",
          "text": [
            "AxesSubplot(0.125,0.125;0.775x0.755)\n"
          ],
          "name": "stdout"
        },
        {
          "output_type": "display_data",
          "data": {
            "image/png": "[encoded data removed]",
            "text/plain": [
              "<Figure size 432x288 with 1 Axes>"
            ]
          },
          "metadata": {
            "tags": []
          }
        }
      ]
    },
    {
      "cell_type": "code",
      "metadata": {
        "id": "UB2uETCFgKLR",
        "colab_type": "code",
        "colab": {
          "base_uri": "https://localhost:8080/",
          "height": 300
        },
        "outputId": "64138396-e10e-4f77-df8e-342e89c91c84"
      },
      "source": [
        "x1 = np.random.normal(0, 1, 1000)\n",
        "x2 = np.random.normal(0, 1, 1000)\n",
        "x3 = 3*x1 + 1.0/x2 \n",
        "\n",
        "df = pd.DataFrame.from_dict({\n",
        "    'x1':x1,\n",
        "    'x2':x2,\n",
        "    'x3':x3\n",
        "})\n",
        "\n",
        "sns.lineplot(x=\"x1\", y=\"x3\", data=df)"
      ],
      "execution_count": 104,
      "outputs": [
        {
          "output_type": "execute_result",
          "data": {
            "text/plain": [
              "<matplotlib.axes._subplots.AxesSubplot at 0x7f5827f695c0>"
            ]
          },
          "metadata": {
            "tags": []
          },
          "execution_count": 104
        },
        {
          "output_type": "display_data",
          "data": {
            "image/png": "[encoded data removed]",
            "text/plain": [
              "<Figure size 432x288 with 1 Axes>"
            ]
          },
          "metadata": {
            "tags": []
          }
        }
      ]
    },
    {
      "cell_type": "code",
      "metadata": {
        "id": "5tV-j263XH1w",
        "colab_type": "code",
        "colab": {
          "base_uri": "https://localhost:8080/",
          "height": 131
        },
        "outputId": "abf923f8-08f5-45ac-c4d9-92b1318255cc"
      },
      "source": [
        "# Correlaciones en relaciones no lineales\n",
        "x1 = np.random.normal(0, 1, 1000)\n",
        "x2 = -1.0/x1\n",
        "\n",
        "df = pd.DataFrame.from_dict({\n",
        "    'x1':x1,\n",
        "    'x2':x2,\n",
        "})\n",
        "\n",
        "df.corr()"
      ],
      "execution_count": 105,
      "outputs": [
        {
          "output_type": "execute_result",
          "data": {
            "text/html": [
              "<div>\n",
              "<style scoped>\n",
              "    .dataframe tbody tr th:only-of-type {\n",
              "        vertical-align: middle;\n",
              "    }\n",
              "\n",
              "    .dataframe tbody tr th {\n",
              "        vertical-align: top;\n",
              "    }\n",
              "\n",
              "    .dataframe thead th {\n",
              "        text-align: right;\n",
              "    }\n",
              "</style>\n",
              "<table border=\"1\" class=\"dataframe\">\n",
              "  <thead>\n",
              "    <tr style=\"text-align: right;\">\n",
              "      <th></th>\n",
              "      <th>x1</th>\n",
              "      <th>x2</th>\n",
              "    </tr>\n",
              "  </thead>\n",
              "  <tbody>\n",
              "    <tr>\n",
              "      <th>x1</th>\n",
              "      <td>1.000000</td>\n",
              "      <td>-0.038364</td>\n",
              "    </tr>\n",
              "    <tr>\n",
              "      <th>x2</th>\n",
              "      <td>-0.038364</td>\n",
              "      <td>1.000000</td>\n",
              "    </tr>\n",
              "  </tbody>\n",
              "</table>\n",
              "</div>"
            ],
            "text/plain": [
              "          x1        x2\n",
              "x1  1.000000 -0.038364\n",
              "x2 -0.038364  1.000000"
            ]
          },
          "metadata": {
            "tags": []
          },
          "execution_count": 105
        }
      ]
    },
    {
      "cell_type": "markdown",
      "metadata": {
        "id": "nKHTE-6cRMAV",
        "colab_type": "text"
      },
      "source": [
        "### Correlacion y Covarianza"
      ]
    },
    {
      "cell_type": "markdown",
      "metadata": {
        "id": "GC2Eo0j1RQPr",
        "colab_type": "text"
      },
      "source": [
        "Piensa cual es mas facil de interpretar!"
      ]
    },
    {
      "cell_type": "code",
      "metadata": {
        "id": "KQt2HFFr770A",
        "colab_type": "code",
        "colab": {
          "base_uri": "https://localhost:8080/",
          "height": 163
        },
        "outputId": "de8e11b9-d3d4-4162-c8c4-817374754b45"
      },
      "source": [
        "# Variables que definen a Y\n",
        "x = np.random.normal(0, 1, 1000)\n",
        "z = np.random.normal(100, 10, 1000)\n",
        "\n",
        "# Y\n",
        "y = z**x\n",
        "\n",
        "print('Covarianza entre X & Y: ')\n",
        "print(np.cov(x,y))\n",
        "print('-------------------------------')\n",
        "print('Correlacion entre X & Y:')\n",
        "print(np.corrcoef(x,y))\n"
      ],
      "execution_count": 106,
      "outputs": [
        {
          "output_type": "stream",
          "text": [
            "Covarianza entre X & Y: \n",
            "[[1.03914715e+00 1.07473460e+06]\n",
            " [1.07473460e+06 6.86058060e+13]]\n",
            "-------------------------------\n",
            "Correlacion entre X & Y:\n",
            "[[1.         0.12728648]\n",
            " [0.12728648 1.        ]]\n"
          ],
          "name": "stdout"
        }
      ]
    },
    {
      "cell_type": "code",
      "metadata": {
        "id": "BVzjVvRT9sN4",
        "colab_type": "code",
        "colab": {
          "base_uri": "https://localhost:8080/",
          "height": 163
        },
        "outputId": "8c849600-3aa3-4d37-8121-b49841ba4a1f"
      },
      "source": [
        "# Variables que definen a Y\n",
        "x = np.random.normal(0, 1, 1000)\n",
        "z = np.random.normal(100, 10, 1000)\n",
        "\n",
        "# Y\n",
        "y = z*x\n",
        "\n",
        "print('Covarianza entre X & Y: ')\n",
        "print(np.cov(x,y))\n",
        "print('\\n Correlacion entre X & Y: ')\n",
        "print( np.corrcoef(x,y))\n"
      ],
      "execution_count": 107,
      "outputs": [
        {
          "output_type": "stream",
          "text": [
            "Covarianza entre X & Y: \n",
            "[[9.84295052e-01 9.86577906e+01]\n",
            " [9.86577906e+01 1.00024373e+04]]\n",
            "\n",
            " Correlacion entre X & Y: \n",
            "[[1.         0.99429628]\n",
            " [0.99429628 1.        ]]\n"
          ],
          "name": "stdout"
        }
      ]
    },
    {
      "cell_type": "markdown",
      "metadata": {
        "id": "l64iDO7Oq2wJ",
        "colab_type": "text"
      },
      "source": [
        "## Feature Engineering"
      ]
    },
    {
      "cell_type": "code",
      "metadata": {
        "id": "3YvMBrdPqY1c",
        "colab_type": "code",
        "colab": {
          "base_uri": "https://localhost:8080/",
          "height": 131
        },
        "outputId": "78005d7d-6d51-426f-b8d6-154280be3aac"
      },
      "source": [
        "x1 = np.random.normal(10,10,1000)\n",
        "\n",
        "x2 = 1/x1\n",
        "\n",
        "df = pd.DataFrame.from_dict({\n",
        "    'x1':x1,\n",
        "    'x2':x2,\n",
        "})\n",
        "\n",
        "df.corr()"
      ],
      "execution_count": 121,
      "outputs": [
        {
          "output_type": "execute_result",
          "data": {
            "text/html": [
              "<div>\n",
              "<style scoped>\n",
              "    .dataframe tbody tr th:only-of-type {\n",
              "        vertical-align: middle;\n",
              "    }\n",
              "\n",
              "    .dataframe tbody tr th {\n",
              "        vertical-align: top;\n",
              "    }\n",
              "\n",
              "    .dataframe thead th {\n",
              "        text-align: right;\n",
              "    }\n",
              "</style>\n",
              "<table border=\"1\" class=\"dataframe\">\n",
              "  <thead>\n",
              "    <tr style=\"text-align: right;\">\n",
              "      <th></th>\n",
              "      <th>x1</th>\n",
              "      <th>x2</th>\n",
              "    </tr>\n",
              "  </thead>\n",
              "  <tbody>\n",
              "    <tr>\n",
              "      <th>x1</th>\n",
              "      <td>1.000000</td>\n",
              "      <td>0.046837</td>\n",
              "    </tr>\n",
              "    <tr>\n",
              "      <th>x2</th>\n",
              "      <td>0.046837</td>\n",
              "      <td>1.000000</td>\n",
              "    </tr>\n",
              "  </tbody>\n",
              "</table>\n",
              "</div>"
            ],
            "text/plain": [
              "          x1        x2\n",
              "x1  1.000000  0.046837\n",
              "x2  0.046837  1.000000"
            ]
          },
          "metadata": {
            "tags": []
          },
          "execution_count": 121
        }
      ]
    },
    {
      "cell_type": "code",
      "metadata": {
        "id": "0_Az-zuZqn29",
        "colab_type": "code",
        "colab": {
          "base_uri": "https://localhost:8080/",
          "height": 178
        },
        "outputId": "159be0cd-f5d1-403b-dec9-e74b611f8db9"
      },
      "source": [
        "df['x2_'] = np.log(df['x2'])\n",
        "\n",
        "df.corr()"
      ],
      "execution_count": 122,
      "outputs": [
        {
          "output_type": "stream",
          "text": [
            "/usr/local/lib/python3.6/dist-packages/pandas/core/series.py:679: RuntimeWarning: invalid value encountered in log\n",
            "  result = getattr(ufunc, method)(*inputs, **kwargs)\n"
          ],
          "name": "stderr"
        },
        {
          "output_type": "execute_result",
          "data": {
            "text/html": [
              "<div>\n",
              "<style scoped>\n",
              "    .dataframe tbody tr th:only-of-type {\n",
              "        vertical-align: middle;\n",
              "    }\n",
              "\n",
              "    .dataframe tbody tr th {\n",
              "        vertical-align: top;\n",
              "    }\n",
              "\n",
              "    .dataframe thead th {\n",
              "        text-align: right;\n",
              "    }\n",
              "</style>\n",
              "<table border=\"1\" class=\"dataframe\">\n",
              "  <thead>\n",
              "    <tr style=\"text-align: right;\">\n",
              "      <th></th>\n",
              "      <th>x1</th>\n",
              "      <th>x2</th>\n",
              "      <th>x2_</th>\n",
              "    </tr>\n",
              "  </thead>\n",
              "  <tbody>\n",
              "    <tr>\n",
              "      <th>x1</th>\n",
              "      <td>1.000000</td>\n",
              "      <td>0.046837</td>\n",
              "      <td>-0.870127</td>\n",
              "    </tr>\n",
              "    <tr>\n",
              "      <th>x2</th>\n",
              "      <td>0.046837</td>\n",
              "      <td>1.000000</td>\n",
              "      <td>0.611456</td>\n",
              "    </tr>\n",
              "    <tr>\n",
              "      <th>x2_</th>\n",
              "      <td>-0.870127</td>\n",
              "      <td>0.611456</td>\n",
              "      <td>1.000000</td>\n",
              "    </tr>\n",
              "  </tbody>\n",
              "</table>\n",
              "</div>"
            ],
            "text/plain": [
              "           x1        x2       x2_\n",
              "x1   1.000000  0.046837 -0.870127\n",
              "x2   0.046837  1.000000  0.611456\n",
              "x2_ -0.870127  0.611456  1.000000"
            ]
          },
          "metadata": {
            "tags": []
          },
          "execution_count": 122
        }
      ]
    },
    {
      "cell_type": "markdown",
      "metadata": {
        "id": "jY-t4MFGRVHM",
        "colab_type": "text"
      },
      "source": [
        "# Tarea"
      ]
    },
    {
      "cell_type": "code",
      "metadata": {
        "id": "SX090RGcRXMl",
        "colab_type": "code",
        "colab": {
          "base_uri": "https://localhost:8080/",
          "height": 244
        },
        "outputId": "4eb7cc2f-d969-4ec2-b004-37719d116fc7"
      },
      "source": [
        "penguins = sns.load_dataset('penguins')\n",
        "penguins.head()"
      ],
      "execution_count": 108,
      "outputs": [
        {
          "output_type": "execute_result",
          "data": {
            "text/html": [
              "<div>\n",
              "<style scoped>\n",
              "    .dataframe tbody tr th:only-of-type {\n",
              "        vertical-align: middle;\n",
              "    }\n",
              "\n",
              "    .dataframe tbody tr th {\n",
              "        vertical-align: top;\n",
              "    }\n",
              "\n",
              "    .dataframe thead th {\n",
              "        text-align: right;\n",
              "    }\n",
              "</style>\n",
              "<table border=\"1\" class=\"dataframe\">\n",
              "  <thead>\n",
              "    <tr style=\"text-align: right;\">\n",
              "      <th></th>\n",
              "      <th>species</th>\n",
              "      <th>island</th>\n",
              "      <th>culmen_length_mm</th>\n",
              "      <th>culmen_depth_mm</th>\n",
              "      <th>flipper_length_mm</th>\n",
              "      <th>body_mass_g</th>\n",
              "      <th>sex</th>\n",
              "    </tr>\n",
              "  </thead>\n",
              "  <tbody>\n",
              "    <tr>\n",
              "      <th>0</th>\n",
              "      <td>Adelie</td>\n",
              "      <td>Torgersen</td>\n",
              "      <td>39.1</td>\n",
              "      <td>18.7</td>\n",
              "      <td>181.0</td>\n",
              "      <td>3750.0</td>\n",
              "      <td>MALE</td>\n",
              "    </tr>\n",
              "    <tr>\n",
              "      <th>1</th>\n",
              "      <td>Adelie</td>\n",
              "      <td>Torgersen</td>\n",
              "      <td>39.5</td>\n",
              "      <td>17.4</td>\n",
              "      <td>186.0</td>\n",
              "      <td>3800.0</td>\n",
              "      <td>FEMALE</td>\n",
              "    </tr>\n",
              "    <tr>\n",
              "      <th>2</th>\n",
              "      <td>Adelie</td>\n",
              "      <td>Torgersen</td>\n",
              "      <td>40.3</td>\n",
              "      <td>18.0</td>\n",
              "      <td>195.0</td>\n",
              "      <td>3250.0</td>\n",
              "      <td>FEMALE</td>\n",
              "    </tr>\n",
              "    <tr>\n",
              "      <th>3</th>\n",
              "      <td>Adelie</td>\n",
              "      <td>Torgersen</td>\n",
              "      <td>NaN</td>\n",
              "      <td>NaN</td>\n",
              "      <td>NaN</td>\n",
              "      <td>NaN</td>\n",
              "      <td>NaN</td>\n",
              "    </tr>\n",
              "    <tr>\n",
              "      <th>4</th>\n",
              "      <td>Adelie</td>\n",
              "      <td>Torgersen</td>\n",
              "      <td>36.7</td>\n",
              "      <td>19.3</td>\n",
              "      <td>193.0</td>\n",
              "      <td>3450.0</td>\n",
              "      <td>FEMALE</td>\n",
              "    </tr>\n",
              "  </tbody>\n",
              "</table>\n",
              "</div>"
            ],
            "text/plain": [
              "  species     island  culmen_length_mm  ...  flipper_length_mm  body_mass_g     sex\n",
              "0  Adelie  Torgersen              39.1  ...              181.0       3750.0    MALE\n",
              "1  Adelie  Torgersen              39.5  ...              186.0       3800.0  FEMALE\n",
              "2  Adelie  Torgersen              40.3  ...              195.0       3250.0  FEMALE\n",
              "3  Adelie  Torgersen               NaN  ...                NaN          NaN     NaN\n",
              "4  Adelie  Torgersen              36.7  ...              193.0       3450.0  FEMALE\n",
              "\n",
              "[5 rows x 7 columns]"
            ]
          },
          "metadata": {
            "tags": []
          },
          "execution_count": 108
        }
      ]
    },
    {
      "cell_type": "code",
      "metadata": {
        "id": "xMmOnVADRsID",
        "colab_type": "code",
        "colab": {
          "base_uri": "https://localhost:8080/",
          "height": 309
        },
        "outputId": "7cc9f3e3-294c-4929-c363-df392feadfa1"
      },
      "source": [
        "penguins.info()"
      ],
      "execution_count": 109,
      "outputs": [
        {
          "output_type": "stream",
          "text": [
            "<class 'pandas.core.frame.DataFrame'>\n",
            "RangeIndex: 344 entries, 0 to 343\n",
            "Data columns (total 7 columns):\n",
            " #   Column             Non-Null Count  Dtype  \n",
            "---  ------             --------------  -----  \n",
            " 0   species            344 non-null    object \n",
            " 1   island             344 non-null    object \n",
            " 2   culmen_length_mm   342 non-null    float64\n",
            " 3   culmen_depth_mm    342 non-null    float64\n",
            " 4   flipper_length_mm  342 non-null    float64\n",
            " 5   body_mass_g        342 non-null    float64\n",
            " 6   sex                333 non-null    object \n",
            "dtypes: float64(4), object(3)\n",
            "memory usage: 18.9+ KB\n"
          ],
          "name": "stdout"
        }
      ]
    },
    {
      "cell_type": "code",
      "metadata": {
        "id": "1lDaOAi9RzGc",
        "colab_type": "code",
        "colab": {
          "base_uri": "https://localhost:8080/",
          "height": 357
        },
        "outputId": "610a4cbb-8863-4c5f-ba61-c629470c1352"
      },
      "source": [
        "penguins.describe()"
      ],
      "execution_count": 110,
      "outputs": [
        {
          "output_type": "execute_result",
          "data": {
            "text/html": [
              "<div>\n",
              "<style scoped>\n",
              "    .dataframe tbody tr th:only-of-type {\n",
              "        vertical-align: middle;\n",
              "    }\n",
              "\n",
              "    .dataframe tbody tr th {\n",
              "        vertical-align: top;\n",
              "    }\n",
              "\n",
              "    .dataframe thead th {\n",
              "        text-align: right;\n",
              "    }\n",
              "</style>\n",
              "<table border=\"1\" class=\"dataframe\">\n",
              "  <thead>\n",
              "    <tr style=\"text-align: right;\">\n",
              "      <th></th>\n",
              "      <th>culmen_length_mm</th>\n",
              "      <th>culmen_depth_mm</th>\n",
              "      <th>flipper_length_mm</th>\n",
              "      <th>body_mass_g</th>\n",
              "    </tr>\n",
              "  </thead>\n",
              "  <tbody>\n",
              "    <tr>\n",
              "      <th>count</th>\n",
              "      <td>342.000000</td>\n",
              "      <td>342.000000</td>\n",
              "      <td>342.000000</td>\n",
              "      <td>342.000000</td>\n",
              "    </tr>\n",
              "    <tr>\n",
              "      <th>mean</th>\n",
              "      <td>43.921930</td>\n",
              "      <td>17.151170</td>\n",
              "      <td>200.915205</td>\n",
              "      <td>4201.754386</td>\n",
              "    </tr>\n",
              "    <tr>\n",
              "      <th>std</th>\n",
              "      <td>5.459584</td>\n",
              "      <td>1.974793</td>\n",
              "      <td>14.061714</td>\n",
              "      <td>801.954536</td>\n",
              "    </tr>\n",
              "    <tr>\n",
              "      <th>min</th>\n",
              "      <td>32.100000</td>\n",
              "      <td>13.100000</td>\n",
              "      <td>172.000000</td>\n",
              "      <td>2700.000000</td>\n",
              "    </tr>\n",
              "    <tr>\n",
              "      <th>25%</th>\n",
              "      <td>39.225000</td>\n",
              "      <td>15.600000</td>\n",
              "      <td>190.000000</td>\n",
              "      <td>3550.000000</td>\n",
              "    </tr>\n",
              "    <tr>\n",
              "      <th>50%</th>\n",
              "      <td>44.450000</td>\n",
              "      <td>17.300000</td>\n",
              "      <td>197.000000</td>\n",
              "      <td>4050.000000</td>\n",
              "    </tr>\n",
              "    <tr>\n",
              "      <th>75%</th>\n",
              "      <td>48.500000</td>\n",
              "      <td>18.700000</td>\n",
              "      <td>213.000000</td>\n",
              "      <td>4750.000000</td>\n",
              "    </tr>\n",
              "    <tr>\n",
              "      <th>max</th>\n",
              "      <td>59.600000</td>\n",
              "      <td>21.500000</td>\n",
              "      <td>231.000000</td>\n",
              "      <td>6300.000000</td>\n",
              "    </tr>\n",
              "  </tbody>\n",
              "</table>\n",
              "</div>"
            ],
            "text/plain": [
              "       culmen_length_mm  culmen_depth_mm  flipper_length_mm  body_mass_g\n",
              "count        342.000000       342.000000         342.000000   342.000000\n",
              "mean          43.921930        17.151170         200.915205  4201.754386\n",
              "std            5.459584         1.974793          14.061714   801.954536\n",
              "min           32.100000        13.100000         172.000000  2700.000000\n",
              "25%           39.225000        15.600000         190.000000  3550.000000\n",
              "50%           44.450000        17.300000         197.000000  4050.000000\n",
              "75%           48.500000        18.700000         213.000000  4750.000000\n",
              "max           59.600000        21.500000         231.000000  6300.000000"
            ]
          },
          "metadata": {
            "tags": []
          },
          "execution_count": 110
        }
      ]
    },
    {
      "cell_type": "code",
      "metadata": {
        "id": "3aXOm-DLR2wM",
        "colab_type": "code",
        "colab": {
          "base_uri": "https://localhost:8080/",
          "height": 80
        },
        "outputId": "ee40bf04-bd1c-4227-e299-eb498b6acd15"
      },
      "source": [
        "penguins.columns"
      ],
      "execution_count": 111,
      "outputs": [
        {
          "output_type": "execute_result",
          "data": {
            "text/plain": [
              "Index(['species', 'island', 'culmen_length_mm', 'culmen_depth_mm',\n",
              "       'flipper_length_mm', 'body_mass_g', 'sex'],\n",
              "      dtype='object')"
            ]
          },
          "metadata": {
            "tags": []
          },
          "execution_count": 111
        }
      ]
    },
    {
      "cell_type": "markdown",
      "metadata": {
        "id": "Ght8YcmMR4vn",
        "colab_type": "text"
      },
      "source": [
        "Hmmmmmm....  \n",
        "Tendemos mucho a usar estas funciones, talvez sea conveniente crear una funcion. Esto no solo nos ahorra tiempo, sino que nos ayudara a evitar errores, y a mejorar la \"redaccion\" de nuestro codigo."
      ]
    },
    {
      "cell_type": "code",
      "metadata": {
        "id": "rhK9N3c9R_ss",
        "colab_type": "code",
        "colab": {}
      },
      "source": [
        "def glimpse_df(df):\n",
        "  print('Head:')\n",
        "  print(df.head())\n",
        "  print('\\n Info: ')\n",
        "  print(df.info())\n",
        "  print('\\n Describe:')\n",
        "  print(df.describe())"
      ],
      "execution_count": 112,
      "outputs": []
    },
    {
      "cell_type": "code",
      "metadata": {
        "id": "kxDk61xJSKDz",
        "colab_type": "code",
        "colab": {
          "base_uri": "https://localhost:8080/",
          "height": 788
        },
        "outputId": "90481fd6-539a-44b1-a269-c1ebd6ee94ba"
      },
      "source": [
        "glimpse_df(penguins)"
      ],
      "execution_count": 113,
      "outputs": [
        {
          "output_type": "stream",
          "text": [
            "Head:\n",
            "  species     island  culmen_length_mm  ...  flipper_length_mm  body_mass_g     sex\n",
            "0  Adelie  Torgersen              39.1  ...              181.0       3750.0    MALE\n",
            "1  Adelie  Torgersen              39.5  ...              186.0       3800.0  FEMALE\n",
            "2  Adelie  Torgersen              40.3  ...              195.0       3250.0  FEMALE\n",
            "3  Adelie  Torgersen               NaN  ...                NaN          NaN     NaN\n",
            "4  Adelie  Torgersen              36.7  ...              193.0       3450.0  FEMALE\n",
            "\n",
            "[5 rows x 7 columns]\n",
            "\n",
            " Info: \n",
            "<class 'pandas.core.frame.DataFrame'>\n",
            "RangeIndex: 344 entries, 0 to 343\n",
            "Data columns (total 7 columns):\n",
            " #   Column             Non-Null Count  Dtype  \n",
            "---  ------             --------------  -----  \n",
            " 0   species            344 non-null    object \n",
            " 1   island             344 non-null    object \n",
            " 2   culmen_length_mm   342 non-null    float64\n",
            " 3   culmen_depth_mm    342 non-null    float64\n",
            " 4   flipper_length_mm  342 non-null    float64\n",
            " 5   body_mass_g        342 non-null    float64\n",
            " 6   sex                333 non-null    object \n",
            "dtypes: float64(4), object(3)\n",
            "memory usage: 18.9+ KB\n",
            "None\n",
            "\n",
            " Describe:\n",
            "       culmen_length_mm  culmen_depth_mm  flipper_length_mm  body_mass_g\n",
            "count        342.000000       342.000000         342.000000   342.000000\n",
            "mean          43.921930        17.151170         200.915205  4201.754386\n",
            "std            5.459584         1.974793          14.061714   801.954536\n",
            "min           32.100000        13.100000         172.000000  2700.000000\n",
            "25%           39.225000        15.600000         190.000000  3550.000000\n",
            "50%           44.450000        17.300000         197.000000  4050.000000\n",
            "75%           48.500000        18.700000         213.000000  4750.000000\n",
            "max           59.600000        21.500000         231.000000  6300.000000\n"
          ],
          "name": "stdout"
        }
      ]
    },
    {
      "cell_type": "code",
      "metadata": {
        "id": "Mpvv21GQTAM4",
        "colab_type": "code",
        "colab": {
          "base_uri": "https://localhost:8080/",
          "height": 206
        },
        "outputId": "a384aeda-6cc0-43ad-bb37-bce9b5c399be"
      },
      "source": [
        "penguins.corr()"
      ],
      "execution_count": 114,
      "outputs": [
        {
          "output_type": "execute_result",
          "data": {
            "text/html": [
              "<div>\n",
              "<style scoped>\n",
              "    .dataframe tbody tr th:only-of-type {\n",
              "        vertical-align: middle;\n",
              "    }\n",
              "\n",
              "    .dataframe tbody tr th {\n",
              "        vertical-align: top;\n",
              "    }\n",
              "\n",
              "    .dataframe thead th {\n",
              "        text-align: right;\n",
              "    }\n",
              "</style>\n",
              "<table border=\"1\" class=\"dataframe\">\n",
              "  <thead>\n",
              "    <tr style=\"text-align: right;\">\n",
              "      <th></th>\n",
              "      <th>culmen_length_mm</th>\n",
              "      <th>culmen_depth_mm</th>\n",
              "      <th>flipper_length_mm</th>\n",
              "      <th>body_mass_g</th>\n",
              "    </tr>\n",
              "  </thead>\n",
              "  <tbody>\n",
              "    <tr>\n",
              "      <th>culmen_length_mm</th>\n",
              "      <td>1.000000</td>\n",
              "      <td>-0.235053</td>\n",
              "      <td>0.656181</td>\n",
              "      <td>0.595110</td>\n",
              "    </tr>\n",
              "    <tr>\n",
              "      <th>culmen_depth_mm</th>\n",
              "      <td>-0.235053</td>\n",
              "      <td>1.000000</td>\n",
              "      <td>-0.583851</td>\n",
              "      <td>-0.471916</td>\n",
              "    </tr>\n",
              "    <tr>\n",
              "      <th>flipper_length_mm</th>\n",
              "      <td>0.656181</td>\n",
              "      <td>-0.583851</td>\n",
              "      <td>1.000000</td>\n",
              "      <td>0.871202</td>\n",
              "    </tr>\n",
              "    <tr>\n",
              "      <th>body_mass_g</th>\n",
              "      <td>0.595110</td>\n",
              "      <td>-0.471916</td>\n",
              "      <td>0.871202</td>\n",
              "      <td>1.000000</td>\n",
              "    </tr>\n",
              "  </tbody>\n",
              "</table>\n",
              "</div>"
            ],
            "text/plain": [
              "                   culmen_length_mm  ...  body_mass_g\n",
              "culmen_length_mm           1.000000  ...     0.595110\n",
              "culmen_depth_mm           -0.235053  ...    -0.471916\n",
              "flipper_length_mm          0.656181  ...     0.871202\n",
              "body_mass_g                0.595110  ...     1.000000\n",
              "\n",
              "[4 rows x 4 columns]"
            ]
          },
          "metadata": {
            "tags": []
          },
          "execution_count": 114
        }
      ]
    },
    {
      "cell_type": "markdown",
      "metadata": {
        "id": "C7N_wyS2TS8Z",
        "colab_type": "text"
      },
      "source": [
        "## Observa las correlaciones anteriores.  \n",
        "Que relaciones hay entre cada una de las variables?  "
      ]
    },
    {
      "cell_type": "markdown",
      "metadata": {
        "id": "SI8rby6yjCBp",
        "colab_type": "text"
      },
      "source": [
        "## Correlaciones Categoricas y Ordinales"
      ]
    },
    {
      "cell_type": "markdown",
      "metadata": {
        "id": "cUTUqnVWjGYh",
        "colab_type": "text"
      },
      "source": [
        "Que pasa si queremos obtener una correlacion con variables ordinales?"
      ]
    },
    {
      "cell_type": "code",
      "metadata": {
        "id": "9uSXtKSjltMp",
        "colab_type": "code",
        "colab": {
          "base_uri": "https://localhost:8080/",
          "height": 244
        },
        "outputId": "55e64ab2-9f46-48ba-d083-5931dc3ae051"
      },
      "source": [
        "penguins.replace({'MALE':0, 'FEMALE':1, np.nan:2}).corr()"
      ],
      "execution_count": 117,
      "outputs": [
        {
          "output_type": "execute_result",
          "data": {
            "text/html": [
              "<div>\n",
              "<style scoped>\n",
              "    .dataframe tbody tr th:only-of-type {\n",
              "        vertical-align: middle;\n",
              "    }\n",
              "\n",
              "    .dataframe tbody tr th {\n",
              "        vertical-align: top;\n",
              "    }\n",
              "\n",
              "    .dataframe thead th {\n",
              "        text-align: right;\n",
              "    }\n",
              "</style>\n",
              "<table border=\"1\" class=\"dataframe\">\n",
              "  <thead>\n",
              "    <tr style=\"text-align: right;\">\n",
              "      <th></th>\n",
              "      <th>culmen_length_mm</th>\n",
              "      <th>culmen_depth_mm</th>\n",
              "      <th>flipper_length_mm</th>\n",
              "      <th>body_mass_g</th>\n",
              "      <th>sex</th>\n",
              "    </tr>\n",
              "  </thead>\n",
              "  <tbody>\n",
              "    <tr>\n",
              "      <th>culmen_length_mm</th>\n",
              "      <td>1.000000</td>\n",
              "      <td>0.080732</td>\n",
              "      <td>0.755716</td>\n",
              "      <td>0.664478</td>\n",
              "      <td>-0.388500</td>\n",
              "    </tr>\n",
              "    <tr>\n",
              "      <th>culmen_depth_mm</th>\n",
              "      <td>0.080732</td>\n",
              "      <td>1.000000</td>\n",
              "      <td>0.028718</td>\n",
              "      <td>-0.190377</td>\n",
              "      <td>-0.395065</td>\n",
              "    </tr>\n",
              "    <tr>\n",
              "      <th>flipper_length_mm</th>\n",
              "      <td>0.755716</td>\n",
              "      <td>0.028718</td>\n",
              "      <td>1.000000</td>\n",
              "      <td>0.822006</td>\n",
              "      <td>-0.302983</td>\n",
              "    </tr>\n",
              "    <tr>\n",
              "      <th>body_mass_g</th>\n",
              "      <td>0.664478</td>\n",
              "      <td>-0.190377</td>\n",
              "      <td>0.822006</td>\n",
              "      <td>1.000000</td>\n",
              "      <td>-0.434375</td>\n",
              "    </tr>\n",
              "    <tr>\n",
              "      <th>sex</th>\n",
              "      <td>-0.388500</td>\n",
              "      <td>-0.395065</td>\n",
              "      <td>-0.302983</td>\n",
              "      <td>-0.434375</td>\n",
              "      <td>1.000000</td>\n",
              "    </tr>\n",
              "  </tbody>\n",
              "</table>\n",
              "</div>"
            ],
            "text/plain": [
              "                   culmen_length_mm  culmen_depth_mm  ...  body_mass_g       sex\n",
              "culmen_length_mm           1.000000         0.080732  ...     0.664478 -0.388500\n",
              "culmen_depth_mm            0.080732         1.000000  ...    -0.190377 -0.395065\n",
              "flipper_length_mm          0.755716         0.028718  ...     0.822006 -0.302983\n",
              "body_mass_g                0.664478        -0.190377  ...     1.000000 -0.434375\n",
              "sex                       -0.388500        -0.395065  ...    -0.434375  1.000000\n",
              "\n",
              "[5 rows x 5 columns]"
            ]
          },
          "metadata": {
            "tags": []
          },
          "execution_count": 117
        }
      ]
    },
    {
      "cell_type": "markdown",
      "metadata": {
        "id": "zNtXFiXBl81x",
        "colab_type": "text"
      },
      "source": [
        "Observemos que pasa si utilizamos otra codificacion/encoding valido para nuestra viariable categorica.\n"
      ]
    },
    {
      "cell_type": "code",
      "metadata": {
        "id": "SSnORJ2jm5f_",
        "colab_type": "code",
        "colab": {
          "base_uri": "https://localhost:8080/",
          "height": 206
        },
        "outputId": "6b0606b7-bf8c-4783-ebaa-df6f1e917721"
      },
      "source": [
        "penguins.replace({'MALE':2, 'FEMALE':1, np.nan:0}).corr()"
      ],
      "execution_count": 118,
      "outputs": [
        {
          "output_type": "execute_result",
          "data": {
            "text/html": [
              "<div>\n",
              "<style scoped>\n",
              "    .dataframe tbody tr th:only-of-type {\n",
              "        vertical-align: middle;\n",
              "    }\n",
              "\n",
              "    .dataframe tbody tr th {\n",
              "        vertical-align: top;\n",
              "    }\n",
              "\n",
              "    .dataframe thead th {\n",
              "        text-align: right;\n",
              "    }\n",
              "</style>\n",
              "<table border=\"1\" class=\"dataframe\">\n",
              "  <thead>\n",
              "    <tr style=\"text-align: right;\">\n",
              "      <th></th>\n",
              "      <th>culmen_length_mm</th>\n",
              "      <th>culmen_depth_mm</th>\n",
              "      <th>flipper_length_mm</th>\n",
              "      <th>body_mass_g</th>\n",
              "      <th>sex</th>\n",
              "    </tr>\n",
              "  </thead>\n",
              "  <tbody>\n",
              "    <tr>\n",
              "      <th>culmen_length_mm</th>\n",
              "      <td>1.000000</td>\n",
              "      <td>0.122394</td>\n",
              "      <td>0.763654</td>\n",
              "      <td>0.665226</td>\n",
              "      <td>0.388487</td>\n",
              "    </tr>\n",
              "    <tr>\n",
              "      <th>culmen_depth_mm</th>\n",
              "      <td>0.122394</td>\n",
              "      <td>1.000000</td>\n",
              "      <td>0.078684</td>\n",
              "      <td>-0.159841</td>\n",
              "      <td>0.394433</td>\n",
              "    </tr>\n",
              "    <tr>\n",
              "      <th>flipper_length_mm</th>\n",
              "      <td>0.763654</td>\n",
              "      <td>0.078684</td>\n",
              "      <td>1.000000</td>\n",
              "      <td>0.820371</td>\n",
              "      <td>0.302811</td>\n",
              "    </tr>\n",
              "    <tr>\n",
              "      <th>body_mass_g</th>\n",
              "      <td>0.665226</td>\n",
              "      <td>-0.159841</td>\n",
              "      <td>0.820371</td>\n",
              "      <td>1.000000</td>\n",
              "      <td>0.434382</td>\n",
              "    </tr>\n",
              "    <tr>\n",
              "      <th>sex</th>\n",
              "      <td>0.388487</td>\n",
              "      <td>0.394433</td>\n",
              "      <td>0.302811</td>\n",
              "      <td>0.434382</td>\n",
              "      <td>1.000000</td>\n",
              "    </tr>\n",
              "  </tbody>\n",
              "</table>\n",
              "</div>"
            ],
            "text/plain": [
              "                   culmen_length_mm  culmen_depth_mm  ...  body_mass_g       sex\n",
              "culmen_length_mm           1.000000         0.122394  ...     0.665226  0.388487\n",
              "culmen_depth_mm            0.122394         1.000000  ...    -0.159841  0.394433\n",
              "flipper_length_mm          0.763654         0.078684  ...     0.820371  0.302811\n",
              "body_mass_g                0.665226        -0.159841  ...     1.000000  0.434382\n",
              "sex                        0.388487         0.394433  ...     0.434382  1.000000\n",
              "\n",
              "[5 rows x 5 columns]"
            ]
          },
          "metadata": {
            "tags": []
          },
          "execution_count": 118
        }
      ]
    },
    {
      "cell_type": "code",
      "metadata": {
        "id": "tHXCPiSpl5QS",
        "colab_type": "code",
        "colab": {
          "base_uri": "https://localhost:8080/",
          "height": 244
        },
        "outputId": "9db083a8-0e7d-42c4-b945-214aa55cd25a"
      },
      "source": [
        "penguins.replace({'MALE':-1000, 'FEMALE':1, np.nan:1000}).corr()"
      ],
      "execution_count": 119,
      "outputs": [
        {
          "output_type": "execute_result",
          "data": {
            "text/html": [
              "<div>\n",
              "<style scoped>\n",
              "    .dataframe tbody tr th:only-of-type {\n",
              "        vertical-align: middle;\n",
              "    }\n",
              "\n",
              "    .dataframe tbody tr th {\n",
              "        vertical-align: top;\n",
              "    }\n",
              "\n",
              "    .dataframe thead th {\n",
              "        text-align: right;\n",
              "    }\n",
              "</style>\n",
              "<table border=\"1\" class=\"dataframe\">\n",
              "  <thead>\n",
              "    <tr style=\"text-align: right;\">\n",
              "      <th></th>\n",
              "      <th>culmen_length_mm</th>\n",
              "      <th>culmen_depth_mm</th>\n",
              "      <th>flipper_length_mm</th>\n",
              "      <th>body_mass_g</th>\n",
              "      <th>sex</th>\n",
              "    </tr>\n",
              "  </thead>\n",
              "  <tbody>\n",
              "    <tr>\n",
              "      <th>culmen_length_mm</th>\n",
              "      <td>1.000000</td>\n",
              "      <td>0.996409</td>\n",
              "      <td>0.982735</td>\n",
              "      <td>-0.248353</td>\n",
              "      <td>0.173743</td>\n",
              "    </tr>\n",
              "    <tr>\n",
              "      <th>culmen_depth_mm</th>\n",
              "      <td>0.996409</td>\n",
              "      <td>1.000000</td>\n",
              "      <td>0.970674</td>\n",
              "      <td>-0.303388</td>\n",
              "      <td>0.190126</td>\n",
              "    </tr>\n",
              "    <tr>\n",
              "      <th>flipper_length_mm</th>\n",
              "      <td>0.982735</td>\n",
              "      <td>0.970674</td>\n",
              "      <td>1.000000</td>\n",
              "      <td>-0.097032</td>\n",
              "      <td>0.142277</td>\n",
              "    </tr>\n",
              "    <tr>\n",
              "      <th>body_mass_g</th>\n",
              "      <td>-0.248353</td>\n",
              "      <td>-0.303388</td>\n",
              "      <td>-0.097032</td>\n",
              "      <td>1.000000</td>\n",
              "      <td>-0.429392</td>\n",
              "    </tr>\n",
              "    <tr>\n",
              "      <th>sex</th>\n",
              "      <td>0.173743</td>\n",
              "      <td>0.190126</td>\n",
              "      <td>0.142277</td>\n",
              "      <td>-0.429392</td>\n",
              "      <td>1.000000</td>\n",
              "    </tr>\n",
              "  </tbody>\n",
              "</table>\n",
              "</div>"
            ],
            "text/plain": [
              "                   culmen_length_mm  culmen_depth_mm  ...  body_mass_g       sex\n",
              "culmen_length_mm           1.000000         0.996409  ...    -0.248353  0.173743\n",
              "culmen_depth_mm            0.996409         1.000000  ...    -0.303388  0.190126\n",
              "flipper_length_mm          0.982735         0.970674  ...    -0.097032  0.142277\n",
              "body_mass_g               -0.248353        -0.303388  ...     1.000000 -0.429392\n",
              "sex                        0.173743         0.190126  ...    -0.429392  1.000000\n",
              "\n",
              "[5 rows x 5 columns]"
            ]
          },
          "metadata": {
            "tags": []
          },
          "execution_count": 119
        }
      ]
    },
    {
      "cell_type": "markdown",
      "metadata": {
        "id": "vE5uhQrlnA23",
        "colab_type": "text"
      },
      "source": [
        "Como podemos observar el coeficiente de correlacion cambia sustancialmente dependiendo de la codificacion que utilizemos.  \n",
        "\n",
        "### Existira una medida de correlacion para variables categoricas/ordinales?"
      ]
    },
    {
      "cell_type": "markdown",
      "metadata": {
        "id": "4Fl1oHzLnyzS",
        "colab_type": "text"
      },
      "source": [
        "Como mencionamos anteriormente, la correlacion de Pearson es una de las tantas medidas o estadisticos que podemos utilizar para encontrar relaciones entre las variables.  \n",
        "\n",
        "A continuacion te presentamos una tabla con los estadisticos sugeridos para cada caso:\n"
      ]
    },
    {
      "cell_type": "markdown",
      "metadata": {
        "id": "mh28XbcEpLcM",
        "colab_type": "text"
      },
      "source": [
        "![correlations.png](data:image/png;base64,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)"
      ]
    },
    {
      "cell_type": "markdown",
      "metadata": {
        "id": "rwdgqvU5pKKj",
        "colab_type": "text"
      },
      "source": [
        "Te recomendamos revisar el post de Medium para conocer mas al respecto:\n",
        "\n",
        "https://medium.com/@outside2SDs/an-overview-of-correlation-measures-between-categorical-and-continuous-variables-4c7f85610365"
      ]
    }
  ]
}