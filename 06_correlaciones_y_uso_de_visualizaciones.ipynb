{
  "nbformat": 4,
  "nbformat_minor": 0,
  "metadata": {
    "colab": {
      "name": "06_correlaciones_y_uso_de_visualizaciones.ipynb",
      "provenance": [],
      "authorship_tag": "ABX9TyMN7Basi6s3eryoNNVsYtlz",
      "include_colab_link": true
    },
    "kernelspec": {
      "name": "python3",
      "display_name": "Python 3"
    }
  },
  "cells": [
    {
      "cell_type": "markdown",
      "metadata": {
        "id": "view-in-github",
        "colab_type": "text"
      },
      "source": [
        "<a href=\"https://colab.research.google.com/github/IEXE-Tec/analisis-descriptivo/blob/master/06_correlaciones_y_uso_de_visualizaciones.ipynb\" target=\"_parent\"><img src=\"https://colab.research.google.com/assets/colab-badge.svg\" alt=\"Open In Colab\"/></a>"
      ]
    },
    {
      "cell_type": "code",
      "metadata": {
        "id": "ydlY8aMHRT10",
        "colab_type": "code",
        "colab": {}
      },
      "source": [
        "# Importo las librerias que usare en este notebook\n",
        "import pandas as pd\n",
        "import numpy as np\n",
        "import datetime\n",
        "\n",
        "import matplotlib.pyplot as plt\n",
        "%matplotlib inline\n",
        "import seaborn as sns\n",
        "sns.set_style('darkgrid')\n"
      ],
      "execution_count": 23,
      "outputs": []
    },
    {
      "cell_type": "markdown",
      "metadata": {
        "id": "Fay_eRe3JYoz",
        "colab_type": "text"
      },
      "source": [
        "# Covarianza"
      ]
    },
    {
      "cell_type": "markdown",
      "metadata": {
        "id": "Cl9oqvTXMrC7",
        "colab_type": "text"
      },
      "source": [
        "En este notebook encontraras el codigo usando en clase. Te recomendamos jugar con el para entender mejor como funciona la covarianza y correlacion.\n",
        "\n",
        "Generaremos una serie de variables apartir de diferentes distribuciones y ver que ocurre con nuestros estadisticos. \n",
        "\n",
        "Te recomendamos agregar visualizaciones para entender mejor lo que esta ocurriendo.\n"
      ]
    },
    {
      "cell_type": "markdown",
      "metadata": {
        "id": "XsRIEpGrO_rh",
        "colab_type": "text"
      },
      "source": [
        "Observaras que modelamos el proceso generador de datos a traves de funciones del estilo:  \n",
        "y = x + z  \n",
        "y = f(x)\n",
        "\n",
        "En la realidad es raro que observemos estas funciones, pues es lo que estamos tratando de estimar apartir de los datos. Sin embargo, visualizar el problema de esta forma nos ayudara a entenderlo mejor."
      ]
    },
    {
      "cell_type": "markdown",
      "metadata": {
        "id": "EoNcrI4yKLfb",
        "colab_type": "text"
      },
      "source": [
        "### Cov(x,x)"
      ]
    },
    {
      "cell_type": "code",
      "metadata": {
        "id": "z-7jusYoBCnc",
        "colab_type": "code",
        "colab": {
          "base_uri": "https://localhost:8080/",
          "height": 100
        },
        "outputId": "785522b8-128a-4321-db41-a31a085863a2"
      },
      "source": [
        "# X\n",
        "x = np.random.normal(0, 1, 1000)\n",
        "print('Covarianza entre X y X: ')\n",
        "print(np.cov(x,x))\n",
        "print(np.var(x))"
      ],
      "execution_count": 24,
      "outputs": [
        {
          "output_type": "stream",
          "text": [
            "Covarianza entre X y X: \n",
            "[[1.05042946 1.05042946]\n",
            " [1.05042946 1.05042946]]\n",
            "1.0493790308219144\n"
          ],
          "name": "stdout"
        }
      ]
    },
    {
      "cell_type": "markdown",
      "metadata": {
        "id": "nmbL2F3fLC3k",
        "colab_type": "text"
      },
      "source": [
        "Nota como existe una pequena diferencia entre el valor calculado por los dos metodos {cov,var}. Cual crees que sea la razon? (Hint: Recuerda la correccion por sesgo) La respuesta esta en la celda de abajo.\n"
      ]
    },
    {
      "cell_type": "code",
      "metadata": {
        "id": "bFkEga6JLLeF",
        "colab_type": "code",
        "colab": {
          "base_uri": "https://localhost:8080/",
          "height": 100
        },
        "outputId": "3961957c-47e3-47b7-f4ad-952b1f9748cd"
      },
      "source": [
        "# X\n",
        "x = np.random.normal(0, 1, 1000)\n",
        "print('Covarianza entre X y X: ')\n",
        "# \n",
        "print(np.cov(x,x)*(1000-1)/1000)\n",
        "print(np.var(x))"
      ],
      "execution_count": 25,
      "outputs": [
        {
          "output_type": "stream",
          "text": [
            "Covarianza entre X y X: \n",
            "[[0.93574364 0.93574364]\n",
            " [0.93574364 0.93574364]]\n",
            "0.9357436358533742\n"
          ],
          "name": "stdout"
        }
      ]
    },
    {
      "cell_type": "markdown",
      "metadata": {
        "id": "u7_y__V3LyTf",
        "colab_type": "text"
      },
      "source": [
        "Para efectos practicos esta correcion por sesgo no es tan importante, a menos que se tengan pocos datos. Es bueno tomarlo, en cuenta."
      ]
    },
    {
      "cell_type": "code",
      "metadata": {
        "id": "G_7w0vnZKXa-",
        "colab_type": "code",
        "colab": {
          "base_uri": "https://localhost:8080/",
          "height": 100
        },
        "outputId": "4fdb7621-a886-4fb0-8173-b39e50a0e237"
      },
      "source": [
        "# X\n",
        "x = np.random.normal(100, 10, 1000)\n",
        "print('Covarianza entre X y X: ')\n",
        "print(np.cov(x,x))\n",
        "print(np.var(x))"
      ],
      "execution_count": 26,
      "outputs": [
        {
          "output_type": "stream",
          "text": [
            "Covarianza entre X y X: \n",
            "[[95.67771495 95.67771495]\n",
            " [95.67771495 95.67771495]]\n",
            "95.582037236501\n"
          ],
          "name": "stdout"
        }
      ]
    },
    {
      "cell_type": "markdown",
      "metadata": {
        "id": "blJWUtJ9Jfma",
        "colab_type": "text"
      },
      "source": [
        "### Cov(x,-x)\n",
        "\n",
        "\n"
      ]
    },
    {
      "cell_type": "code",
      "metadata": {
        "id": "Eo-qVzY3B0Ww",
        "colab_type": "code",
        "colab": {
          "base_uri": "https://localhost:8080/",
          "height": 80
        },
        "outputId": "09c41a62-8f3c-44ed-a17f-a1a2e1758e57"
      },
      "source": [
        "# X\n",
        "x = np.random.normal(0, 1, 1000)\n",
        "print('Covarianza entre X y X: ')\n",
        "print(np.cov(x,-x))\n"
      ],
      "execution_count": 27,
      "outputs": [
        {
          "output_type": "stream",
          "text": [
            "Covarianza entre X y X: \n",
            "[[ 1.00294164 -1.00294164]\n",
            " [-1.00294164  1.00294164]]\n"
          ],
          "name": "stdout"
        }
      ]
    },
    {
      "cell_type": "markdown",
      "metadata": {
        "id": "qxFRjVQfJl9l",
        "colab_type": "text"
      },
      "source": [
        "### Covarianza entre x,y, z"
      ]
    },
    {
      "cell_type": "code",
      "metadata": {
        "id": "RlBjlO4l98Mm",
        "colab_type": "code",
        "colab": {
          "base_uri": "https://localhost:8080/",
          "height": 163
        },
        "outputId": "fbdd23fb-cd68-41a1-eb11-03531fc0d776"
      },
      "source": [
        "# Variables que definen a Y\n",
        "x = np.random.normal(0, 1, 1000)\n",
        "z = np.random.normal(100, 10, 1000)\n",
        "\n",
        "# Y\n",
        "y = z**x\n",
        "\n",
        "print('Covarianza entre Y & X: ')\n",
        "print(np.cov(x,y))\n",
        "print('-------------------')\n",
        "print('Covarianza entre Y & Z: ')\n",
        "print(np.cov(x,y))\n",
        "\n"
      ],
      "execution_count": 28,
      "outputs": [
        {
          "output_type": "stream",
          "text": [
            "Covarianza entre Y & X: \n",
            "[[1.09440178e+00 4.22384245e+04]\n",
            " [4.22384245e+04 9.16898541e+10]]\n",
            "-------------------\n",
            "Covarianza entre Y & Z: \n",
            "[[1.09440178e+00 4.22384245e+04]\n",
            " [4.22384245e+04 9.16898541e+10]]\n"
          ],
          "name": "stdout"
        }
      ]
    },
    {
      "cell_type": "code",
      "metadata": {
        "id": "ydfn8mKoKLsK",
        "colab_type": "code",
        "colab": {
          "base_uri": "https://localhost:8080/",
          "height": 256
        },
        "outputId": "04613213-92fe-4bad-fff0-9708ebf14142"
      },
      "source": [
        "# Variables que definen a Y\n",
        "x1 = np.random.normal(0, 1, 1000)\n",
        "x2 = np.random.normal(0, 4, 1000)\n",
        "\n",
        "df = pd.DataFrame.from_dict({\n",
        "    'x1':x1,\n",
        "    'x2':x2\n",
        "})\n",
        "print('Covariance')\n",
        "print(df.cov())\n",
        "print('\\n Correlation')\n",
        "df.corr()"
      ],
      "execution_count": 29,
      "outputs": [
        {
          "output_type": "stream",
          "text": [
            "Covariance\n",
            "          x1         x2\n",
            "x1  0.993385   0.196676\n",
            "x2  0.196676  15.771921\n",
            "\n",
            " Correlation\n"
          ],
          "name": "stdout"
        },
        {
          "output_type": "execute_result",
          "data": {
            "text/html": [
              "<div>\n",
              "<style scoped>\n",
              "    .dataframe tbody tr th:only-of-type {\n",
              "        vertical-align: middle;\n",
              "    }\n",
              "\n",
              "    .dataframe tbody tr th {\n",
              "        vertical-align: top;\n",
              "    }\n",
              "\n",
              "    .dataframe thead th {\n",
              "        text-align: right;\n",
              "    }\n",
              "</style>\n",
              "<table border=\"1\" class=\"dataframe\">\n",
              "  <thead>\n",
              "    <tr style=\"text-align: right;\">\n",
              "      <th></th>\n",
              "      <th>x1</th>\n",
              "      <th>x2</th>\n",
              "    </tr>\n",
              "  </thead>\n",
              "  <tbody>\n",
              "    <tr>\n",
              "      <th>x1</th>\n",
              "      <td>1.000000</td>\n",
              "      <td>0.049688</td>\n",
              "    </tr>\n",
              "    <tr>\n",
              "      <th>x2</th>\n",
              "      <td>0.049688</td>\n",
              "      <td>1.000000</td>\n",
              "    </tr>\n",
              "  </tbody>\n",
              "</table>\n",
              "</div>"
            ],
            "text/plain": [
              "          x1        x2\n",
              "x1  1.000000  0.049688\n",
              "x2  0.049688  1.000000"
            ]
          },
          "metadata": {
            "tags": []
          },
          "execution_count": 29
        }
      ]
    },
    {
      "cell_type": "code",
      "metadata": {
        "id": "5_2WSyiYL7GP",
        "colab_type": "code",
        "colab": {
          "base_uri": "https://localhost:8080/",
          "height": 131
        },
        "outputId": "95f5971b-a91a-4ce6-90c3-be7b7a28fc64"
      },
      "source": [
        "x1 = np.random.normal(0, 1, 1000)\n",
        "x2 = -1.0*x1\n",
        "\n",
        "df = pd.DataFrame.from_dict({\n",
        "    'x1':x1,\n",
        "    'x2':x2,\n",
        "})\n",
        "\n",
        "df.corr()\n"
      ],
      "execution_count": 30,
      "outputs": [
        {
          "output_type": "execute_result",
          "data": {
            "text/html": [
              "<div>\n",
              "<style scoped>\n",
              "    .dataframe tbody tr th:only-of-type {\n",
              "        vertical-align: middle;\n",
              "    }\n",
              "\n",
              "    .dataframe tbody tr th {\n",
              "        vertical-align: top;\n",
              "    }\n",
              "\n",
              "    .dataframe thead th {\n",
              "        text-align: right;\n",
              "    }\n",
              "</style>\n",
              "<table border=\"1\" class=\"dataframe\">\n",
              "  <thead>\n",
              "    <tr style=\"text-align: right;\">\n",
              "      <th></th>\n",
              "      <th>x1</th>\n",
              "      <th>x2</th>\n",
              "    </tr>\n",
              "  </thead>\n",
              "  <tbody>\n",
              "    <tr>\n",
              "      <th>x1</th>\n",
              "      <td>1.0</td>\n",
              "      <td>-1.0</td>\n",
              "    </tr>\n",
              "    <tr>\n",
              "      <th>x2</th>\n",
              "      <td>-1.0</td>\n",
              "      <td>1.0</td>\n",
              "    </tr>\n",
              "  </tbody>\n",
              "</table>\n",
              "</div>"
            ],
            "text/plain": [
              "     x1   x2\n",
              "x1  1.0 -1.0\n",
              "x2 -1.0  1.0"
            ]
          },
          "metadata": {
            "tags": []
          },
          "execution_count": 30
        }
      ]
    },
    {
      "cell_type": "code",
      "metadata": {
        "id": "PfzXHB9wWHHn",
        "colab_type": "code",
        "colab": {
          "base_uri": "https://localhost:8080/",
          "height": 169
        },
        "outputId": "ed7b3f37-c743-4d45-eef2-fe21c2965f8e"
      },
      "source": [
        "x1 = np.random.normal(0, 1, 1000)\n",
        "x2 = 3*x1\n",
        "x3 = 1.0/x1\n",
        "\n",
        "df = pd.DataFrame.from_dict({\n",
        "    'x1':x1,\n",
        "    'x2':x2,\n",
        "    'x3':x3\n",
        "})\n",
        "\n",
        "df.corr()"
      ],
      "execution_count": 31,
      "outputs": [
        {
          "output_type": "execute_result",
          "data": {
            "text/html": [
              "<div>\n",
              "<style scoped>\n",
              "    .dataframe tbody tr th:only-of-type {\n",
              "        vertical-align: middle;\n",
              "    }\n",
              "\n",
              "    .dataframe tbody tr th {\n",
              "        vertical-align: top;\n",
              "    }\n",
              "\n",
              "    .dataframe thead th {\n",
              "        text-align: right;\n",
              "    }\n",
              "</style>\n",
              "<table border=\"1\" class=\"dataframe\">\n",
              "  <thead>\n",
              "    <tr style=\"text-align: right;\">\n",
              "      <th></th>\n",
              "      <th>x1</th>\n",
              "      <th>x2</th>\n",
              "      <th>x3</th>\n",
              "    </tr>\n",
              "  </thead>\n",
              "  <tbody>\n",
              "    <tr>\n",
              "      <th>x1</th>\n",
              "      <td>1.000000</td>\n",
              "      <td>1.000000</td>\n",
              "      <td>0.024204</td>\n",
              "    </tr>\n",
              "    <tr>\n",
              "      <th>x2</th>\n",
              "      <td>1.000000</td>\n",
              "      <td>1.000000</td>\n",
              "      <td>0.024204</td>\n",
              "    </tr>\n",
              "    <tr>\n",
              "      <th>x3</th>\n",
              "      <td>0.024204</td>\n",
              "      <td>0.024204</td>\n",
              "      <td>1.000000</td>\n",
              "    </tr>\n",
              "  </tbody>\n",
              "</table>\n",
              "</div>"
            ],
            "text/plain": [
              "          x1        x2        x3\n",
              "x1  1.000000  1.000000  0.024204\n",
              "x2  1.000000  1.000000  0.024204\n",
              "x3  0.024204  0.024204  1.000000"
            ]
          },
          "metadata": {
            "tags": []
          },
          "execution_count": 31
        }
      ]
    },
    {
      "cell_type": "markdown",
      "metadata": {
        "id": "8DTPooLKQZjd",
        "colab_type": "text"
      },
      "source": [
        "### No linealidad"
      ]
    },
    {
      "cell_type": "code",
      "metadata": {
        "id": "rLsWnHQrdgOj",
        "colab_type": "code",
        "colab": {
          "base_uri": "https://localhost:8080/",
          "height": 0
        },
        "outputId": "240f5a70-cb41-4837-ede8-32f9d67bfc5b"
      },
      "source": [
        "  \n",
        "x1 = np.random.normal(0, 1, 1000)\n",
        "x2 = 3*x1 \n",
        "x3 = 1.0/x1 \n",
        "\n",
        "df = pd.DataFrame.from_dict({\n",
        "    'x1':x1,\n",
        "    'x2':x2,\n",
        "    'x3':x3\n",
        "})\n",
        "\n",
        "sns.lineplot(x=\"x1\", y=\"x3\", data=df)"
      ],
      "execution_count": 32,
      "outputs": [
        {
          "output_type": "execute_result",
          "data": {
            "text/plain": [
              "<matplotlib.axes._subplots.AxesSubplot at 0x7f41a20d1940>"
            ]
          },
          "metadata": {
            "tags": []
          },
          "execution_count": 32
        },
        {
          "output_type": "display_data",
          "data": {
            "image/png": "[encoded data removed]",
            "text/plain": [
              "<Figure size 432x288 with 1 Axes>"
            ]
          },
          "metadata": {
            "tags": []
          }
        }
      ]
    },
    {
      "cell_type": "code",
      "metadata": {
        "id": "_GXizpyJf6Wf",
        "colab_type": "code",
        "colab": {
          "base_uri": "https://localhost:8080/",
          "height": 0
        },
        "outputId": "2c309268-063e-48b5-ecdf-c33655e5fb47"
      },
      "source": [
        "x1 = np.random.normal(0, 1, 1000)\n",
        "x2 = np.random.normal(0, 1, 1000)\n",
        "x3 = 3*x1 + 1.0/x2 \n",
        "\n",
        "df = pd.DataFrame.from_dict({\n",
        "    'x1':x1,\n",
        "    'x2':x2,\n",
        "    'x3':x3\n",
        "})\n",
        "\n",
        "print(sns.lineplot(x=\"x1\", y=\"x3\", data=df))\n",
        "df.corr()\n",
        "\n"
      ],
      "execution_count": 33,
      "outputs": [
        {
          "output_type": "stream",
          "text": [
            "AxesSubplot(0.125,0.125;0.775x0.755)\n"
          ],
          "name": "stdout"
        },
        {
          "output_type": "execute_result",
          "data": {
            "text/html": [
              "<div>\n",
              "<style scoped>\n",
              "    .dataframe tbody tr th:only-of-type {\n",
              "        vertical-align: middle;\n",
              "    }\n",
              "\n",
              "    .dataframe tbody tr th {\n",
              "        vertical-align: top;\n",
              "    }\n",
              "\n",
              "    .dataframe thead th {\n",
              "        text-align: right;\n",
              "    }\n",
              "</style>\n",
              "<table border=\"1\" class=\"dataframe\">\n",
              "  <thead>\n",
              "    <tr style=\"text-align: right;\">\n",
              "      <th></th>\n",
              "      <th>x1</th>\n",
              "      <th>x2</th>\n",
              "      <th>x3</th>\n",
              "    </tr>\n",
              "  </thead>\n",
              "  <tbody>\n",
              "    <tr>\n",
              "      <th>x1</th>\n",
              "      <td>1.000000</td>\n",
              "      <td>-0.046243</td>\n",
              "      <td>0.150184</td>\n",
              "    </tr>\n",
              "    <tr>\n",
              "      <th>x2</th>\n",
              "      <td>-0.046243</td>\n",
              "      <td>1.000000</td>\n",
              "      <td>0.035951</td>\n",
              "    </tr>\n",
              "    <tr>\n",
              "      <th>x3</th>\n",
              "      <td>0.150184</td>\n",
              "      <td>0.035951</td>\n",
              "      <td>1.000000</td>\n",
              "    </tr>\n",
              "  </tbody>\n",
              "</table>\n",
              "</div>"
            ],
            "text/plain": [
              "          x1        x2        x3\n",
              "x1  1.000000 -0.046243  0.150184\n",
              "x2 -0.046243  1.000000  0.035951\n",
              "x3  0.150184  0.035951  1.000000"
            ]
          },
          "metadata": {
            "tags": []
          },
          "execution_count": 33
        },
        {
          "output_type": "display_data",
          "data": {
            "image/png": "[encoded data removed]",
            "text/plain": [
              "<Figure size 432x288 with 1 Axes>"
            ]
          },
          "metadata": {
            "tags": []
          }
        }
      ]
    },
    {
      "cell_type": "code",
      "metadata": {
        "id": "FmQgJPelh7-W",
        "colab_type": "code",
        "colab": {
          "base_uri": "https://localhost:8080/",
          "height": 0
        },
        "outputId": "29db3729-3c2f-456f-d3c2-945b260f5905"
      },
      "source": [
        "x1 = np.random.normal(0, 1, 1000)\n",
        "x2 = np.random.normal(0, 1, 1000)\n",
        "x3 = 1000*x1 + 10*(x2)\n",
        "\n",
        "df = pd.DataFrame.from_dict({\n",
        "    'x1':x1,\n",
        "    'x2':x2,\n",
        "    'x3':x3\n",
        "})\n",
        "\n",
        "print(sns.lineplot(x=\"x1\", y=\"x3\", data=df))\n",
        "df.corr()\n",
        "\n"
      ],
      "execution_count": 34,
      "outputs": [
        {
          "output_type": "stream",
          "text": [
            "AxesSubplot(0.125,0.125;0.775x0.755)\n"
          ],
          "name": "stdout"
        },
        {
          "output_type": "execute_result",
          "data": {
            "text/html": [
              "<div>\n",
              "<style scoped>\n",
              "    .dataframe tbody tr th:only-of-type {\n",
              "        vertical-align: middle;\n",
              "    }\n",
              "\n",
              "    .dataframe tbody tr th {\n",
              "        vertical-align: top;\n",
              "    }\n",
              "\n",
              "    .dataframe thead th {\n",
              "        text-align: right;\n",
              "    }\n",
              "</style>\n",
              "<table border=\"1\" class=\"dataframe\">\n",
              "  <thead>\n",
              "    <tr style=\"text-align: right;\">\n",
              "      <th></th>\n",
              "      <th>x1</th>\n",
              "      <th>x2</th>\n",
              "      <th>x3</th>\n",
              "    </tr>\n",
              "  </thead>\n",
              "  <tbody>\n",
              "    <tr>\n",
              "      <th>x1</th>\n",
              "      <td>1.000000</td>\n",
              "      <td>0.052247</td>\n",
              "      <td>0.999955</td>\n",
              "    </tr>\n",
              "    <tr>\n",
              "      <th>x2</th>\n",
              "      <td>0.052247</td>\n",
              "      <td>1.000000</td>\n",
              "      <td>0.061693</td>\n",
              "    </tr>\n",
              "    <tr>\n",
              "      <th>x3</th>\n",
              "      <td>0.999955</td>\n",
              "      <td>0.061693</td>\n",
              "      <td>1.000000</td>\n",
              "    </tr>\n",
              "  </tbody>\n",
              "</table>\n",
              "</div>"
            ],
            "text/plain": [
              "          x1        x2        x3\n",
              "x1  1.000000  0.052247  0.999955\n",
              "x2  0.052247  1.000000  0.061693\n",
              "x3  0.999955  0.061693  1.000000"
            ]
          },
          "metadata": {
            "tags": []
          },
          "execution_count": 34
        },
        {
          "output_type": "display_data",
          "data": {
            "image/png": "[encoded data removed]",
            "text/plain": [
              "<Figure size 432x288 with 1 Axes>"
            ]
          },
          "metadata": {
            "tags": []
          }
        }
      ]
    },
    {
      "cell_type": "code",
      "metadata": {
        "id": "Gwdruc3EnFMG",
        "colab_type": "code",
        "colab": {
          "base_uri": "https://localhost:8080/",
          "height": 0
        },
        "outputId": "2d1331e4-7b97-4bcd-8c35-696da72e18da"
      },
      "source": [
        "print(sns.lineplot(x=\"x2\", y=\"x3\", data=df))"
      ],
      "execution_count": 35,
      "outputs": [
        {
          "output_type": "stream",
          "text": [
            "AxesSubplot(0.125,0.125;0.775x0.755)\n"
          ],
          "name": "stdout"
        },
        {
          "output_type": "display_data",
          "data": {
            "image/png": "[encoded data removed]",
            "text/plain": [
              "<Figure size 432x288 with 1 Axes>"
            ]
          },
          "metadata": {
            "tags": []
          }
        }
      ]
    },
    {
      "cell_type": "code",
      "metadata": {
        "id": "UB2uETCFgKLR",
        "colab_type": "code",
        "colab": {
          "base_uri": "https://localhost:8080/",
          "height": 0
        },
        "outputId": "43e231a5-2c52-4122-f516-4d401010f4d6"
      },
      "source": [
        "x1 = np.random.normal(0, 1, 1000)\n",
        "x2 = np.random.normal(0, 1, 1000)\n",
        "x3 = 3*x1 + 1.0/x2 \n",
        "\n",
        "df = pd.DataFrame.from_dict({\n",
        "    'x1':x1,\n",
        "    'x2':x2,\n",
        "    'x3':x3\n",
        "})\n",
        "\n",
        "sns.lineplot(x=\"x1\", y=\"x3\", data=df)"
      ],
      "execution_count": 36,
      "outputs": [
        {
          "output_type": "execute_result",
          "data": {
            "text/plain": [
              "<matplotlib.axes._subplots.AxesSubplot at 0x7f41a1fb5668>"
            ]
          },
          "metadata": {
            "tags": []
          },
          "execution_count": 36
        },
        {
          "output_type": "display_data",
          "data": {
            "image/png": "[encoded data removed]",
            "text/plain": [
              "<Figure size 432x288 with 1 Axes>"
            ]
          },
          "metadata": {
            "tags": []
          }
        }
      ]
    },
    {
      "cell_type": "code",
      "metadata": {
        "id": "5tV-j263XH1w",
        "colab_type": "code",
        "colab": {
          "base_uri": "https://localhost:8080/",
          "height": 0
        },
        "outputId": "be58dae6-0590-40de-9d7a-058bb67e682a"
      },
      "source": [
        "# Correlaciones en relaciones no lineales\n",
        "x1 = np.random.normal(0, 1, 1000)\n",
        "x2 = -1.0/x1\n",
        "\n",
        "df = pd.DataFrame.from_dict({\n",
        "    'x1':x1,\n",
        "    'x2':x2,\n",
        "})\n",
        "\n",
        "df.corr()"
      ],
      "execution_count": 37,
      "outputs": [
        {
          "output_type": "execute_result",
          "data": {
            "text/html": [
              "<div>\n",
              "<style scoped>\n",
              "    .dataframe tbody tr th:only-of-type {\n",
              "        vertical-align: middle;\n",
              "    }\n",
              "\n",
              "    .dataframe tbody tr th {\n",
              "        vertical-align: top;\n",
              "    }\n",
              "\n",
              "    .dataframe thead th {\n",
              "        text-align: right;\n",
              "    }\n",
              "</style>\n",
              "<table border=\"1\" class=\"dataframe\">\n",
              "  <thead>\n",
              "    <tr style=\"text-align: right;\">\n",
              "      <th></th>\n",
              "      <th>x1</th>\n",
              "      <th>x2</th>\n",
              "    </tr>\n",
              "  </thead>\n",
              "  <tbody>\n",
              "    <tr>\n",
              "      <th>x1</th>\n",
              "      <td>1.00000</td>\n",
              "      <td>-0.05653</td>\n",
              "    </tr>\n",
              "    <tr>\n",
              "      <th>x2</th>\n",
              "      <td>-0.05653</td>\n",
              "      <td>1.00000</td>\n",
              "    </tr>\n",
              "  </tbody>\n",
              "</table>\n",
              "</div>"
            ],
            "text/plain": [
              "         x1       x2\n",
              "x1  1.00000 -0.05653\n",
              "x2 -0.05653  1.00000"
            ]
          },
          "metadata": {
            "tags": []
          },
          "execution_count": 37
        }
      ]
    },
    {
      "cell_type": "markdown",
      "metadata": {
        "id": "nKHTE-6cRMAV",
        "colab_type": "text"
      },
      "source": [
        "### Correlacion y Covarianza"
      ]
    },
    {
      "cell_type": "markdown",
      "metadata": {
        "id": "GC2Eo0j1RQPr",
        "colab_type": "text"
      },
      "source": [
        "Piensa cual es mas facil de interpretar!"
      ]
    },
    {
      "cell_type": "code",
      "metadata": {
        "id": "KQt2HFFr770A",
        "colab_type": "code",
        "colab": {
          "base_uri": "https://localhost:8080/",
          "height": 0
        },
        "outputId": "9c974a06-450a-483c-a184-6da4a85d57b6"
      },
      "source": [
        "# Variables que definen a Y\n",
        "x = np.random.normal(0, 1, 1000)\n",
        "z = np.random.normal(100, 10, 1000)\n",
        "\n",
        "# Y\n",
        "y = z**x\n",
        "\n",
        "print('Covarianza entre X & Y: ')\n",
        "print(np.cov(x,y))\n",
        "print('-------------------------------')\n",
        "print('Correlacion entre X & Y:')\n",
        "print(np.corrcoef(x,y))\n"
      ],
      "execution_count": 38,
      "outputs": [
        {
          "output_type": "stream",
          "text": [
            "Covarianza entre X & Y: \n",
            "[[9.89490847e-01 1.23970930e+04]\n",
            " [1.23970930e+04 2.82398702e+09]]\n",
            "-------------------------------\n",
            "Correlacion entre X & Y:\n",
            "[[1.         0.23452148]\n",
            " [0.23452148 1.        ]]\n"
          ],
          "name": "stdout"
        }
      ]
    },
    {
      "cell_type": "code",
      "metadata": {
        "id": "BVzjVvRT9sN4",
        "colab_type": "code",
        "colab": {
          "base_uri": "https://localhost:8080/",
          "height": 0
        },
        "outputId": "c7daff8f-ddb6-46fc-e1cb-bbfa8ec494f9"
      },
      "source": [
        "# Variables que definen a Y\n",
        "x = np.random.normal(0, 1, 1000)\n",
        "z = np.random.normal(100, 10, 1000)\n",
        "\n",
        "# Y\n",
        "y = z*x\n",
        "\n",
        "print('Covarianza entre X & Y: ')\n",
        "print(np.cov(x,y))\n",
        "print('\\n Correlacion entre X & Y: ')\n",
        "print( np.corrcoef(x,y))\n"
      ],
      "execution_count": 39,
      "outputs": [
        {
          "output_type": "stream",
          "text": [
            "Covarianza entre X & Y: \n",
            "[[9.18296045e-01 9.24330739e+01]\n",
            " [9.24330739e+01 9.40413209e+03]]\n",
            "\n",
            " Correlacion entre X & Y: \n",
            "[[1.         0.99466464]\n",
            " [0.99466464 1.        ]]\n"
          ],
          "name": "stdout"
        }
      ]
    },
    {
      "cell_type": "markdown",
      "metadata": {
        "id": "l64iDO7Oq2wJ",
        "colab_type": "text"
      },
      "source": [
        "## Feature Engineering"
      ]
    },
    {
      "cell_type": "markdown",
      "metadata": {
        "id": "YghMvdrFvfGG",
        "colab_type": "text"
      },
      "source": [
        "Antes de comenzar si no estas familiarizado con la funcion logaritmo y su manipulacion te recomendamos ver el siguiente formulario y la pagina de wikipedia:\n",
        "\n",
        "https://es.wikipedia.org/wiki/Logaritmo\n",
        "\n",
        "![log.png](data:image/png;base64,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)"
      ]
    },
    {
      "cell_type": "markdown",
      "metadata": {
        "id": "QQBGlZR3q_Rk",
        "colab_type": "text"
      },
      "source": [
        "Revisemos el ejemplo cuando la relacion entre x1 y x2 estan relacionadas, pero no de manera lineal. Pero esta vez transformemos las variables."
      ]
    },
    {
      "cell_type": "markdown",
      "metadata": {
        "id": "ayYUOBFCxdPm",
        "colab_type": "text"
      },
      "source": [
        "### Logaritmos"
      ]
    },
    {
      "cell_type": "code",
      "metadata": {
        "id": "3YvMBrdPqY1c",
        "colab_type": "code",
        "colab": {
          "base_uri": "https://localhost:8080/",
          "height": 0
        },
        "outputId": "4d4690e6-1e3e-44ce-d53d-b99af3c08a7b"
      },
      "source": [
        "x1 = np.random.normal(10,10,1000)\n",
        "\n",
        "x2 = 1/x1\n",
        "\n",
        "df = pd.DataFrame.from_dict({\n",
        "    'x1':x1,\n",
        "    'x2':x2,\n",
        "})\n",
        "\n",
        "sns.lineplot(data=df,x='x1', y='x2')\n",
        "df.corr()"
      ],
      "execution_count": 40,
      "outputs": [
        {
          "output_type": "execute_result",
          "data": {
            "text/html": [
              "<div>\n",
              "<style scoped>\n",
              "    .dataframe tbody tr th:only-of-type {\n",
              "        vertical-align: middle;\n",
              "    }\n",
              "\n",
              "    .dataframe tbody tr th {\n",
              "        vertical-align: top;\n",
              "    }\n",
              "\n",
              "    .dataframe thead th {\n",
              "        text-align: right;\n",
              "    }\n",
              "</style>\n",
              "<table border=\"1\" class=\"dataframe\">\n",
              "  <thead>\n",
              "    <tr style=\"text-align: right;\">\n",
              "      <th></th>\n",
              "      <th>x1</th>\n",
              "      <th>x2</th>\n",
              "    </tr>\n",
              "  </thead>\n",
              "  <tbody>\n",
              "    <tr>\n",
              "      <th>x1</th>\n",
              "      <td>1.000000</td>\n",
              "      <td>0.012219</td>\n",
              "    </tr>\n",
              "    <tr>\n",
              "      <th>x2</th>\n",
              "      <td>0.012219</td>\n",
              "      <td>1.000000</td>\n",
              "    </tr>\n",
              "  </tbody>\n",
              "</table>\n",
              "</div>"
            ],
            "text/plain": [
              "          x1        x2\n",
              "x1  1.000000  0.012219\n",
              "x2  0.012219  1.000000"
            ]
          },
          "metadata": {
            "tags": []
          },
          "execution_count": 40
        },
        {
          "output_type": "display_data",
          "data": {
            "image/png": "[encoded data removed]",
            "text/plain": [
              "<Figure size 432x288 with 1 Axes>"
            ]
          },
          "metadata": {
            "tags": []
          }
        }
      ]
    },
    {
      "cell_type": "markdown",
      "metadata": {
        "id": "yotjhHv5rWwm",
        "colab_type": "text"
      },
      "source": [
        "Apliquemos logaritmo a la variable x2 (Regla 2 del Formulario):  \n",
        "### lx2 = log(x2) = log(1/x1) = log(1) - log(x1)"
      ]
    },
    {
      "cell_type": "code",
      "metadata": {
        "id": "0_Az-zuZqn29",
        "colab_type": "code",
        "colab": {
          "base_uri": "https://localhost:8080/",
          "height": 0
        },
        "outputId": "12efc28d-6089-417b-ab40-fec77d466736"
      },
      "source": [
        "df['lx2'] = np.log(df['x2'])\n",
        "sns.lineplot(data=df,x='x1', y='lx2')\n",
        "\n",
        "df.corr()"
      ],
      "execution_count": 41,
      "outputs": [
        {
          "output_type": "stream",
          "text": [
            "/usr/local/lib/python3.6/dist-packages/pandas/core/series.py:679: RuntimeWarning: invalid value encountered in log\n",
            "  result = getattr(ufunc, method)(*inputs, **kwargs)\n"
          ],
          "name": "stderr"
        },
        {
          "output_type": "execute_result",
          "data": {
            "text/html": [
              "<div>\n",
              "<style scoped>\n",
              "    .dataframe tbody tr th:only-of-type {\n",
              "        vertical-align: middle;\n",
              "    }\n",
              "\n",
              "    .dataframe tbody tr th {\n",
              "        vertical-align: top;\n",
              "    }\n",
              "\n",
              "    .dataframe thead th {\n",
              "        text-align: right;\n",
              "    }\n",
              "</style>\n",
              "<table border=\"1\" class=\"dataframe\">\n",
              "  <thead>\n",
              "    <tr style=\"text-align: right;\">\n",
              "      <th></th>\n",
              "      <th>x1</th>\n",
              "      <th>x2</th>\n",
              "      <th>lx2</th>\n",
              "    </tr>\n",
              "  </thead>\n",
              "  <tbody>\n",
              "    <tr>\n",
              "      <th>x1</th>\n",
              "      <td>1.000000</td>\n",
              "      <td>0.012219</td>\n",
              "      <td>-0.873459</td>\n",
              "    </tr>\n",
              "    <tr>\n",
              "      <th>x2</th>\n",
              "      <td>0.012219</td>\n",
              "      <td>1.000000</td>\n",
              "      <td>0.638689</td>\n",
              "    </tr>\n",
              "    <tr>\n",
              "      <th>lx2</th>\n",
              "      <td>-0.873459</td>\n",
              "      <td>0.638689</td>\n",
              "      <td>1.000000</td>\n",
              "    </tr>\n",
              "  </tbody>\n",
              "</table>\n",
              "</div>"
            ],
            "text/plain": [
              "           x1        x2       lx2\n",
              "x1   1.000000  0.012219 -0.873459\n",
              "x2   0.012219  1.000000  0.638689\n",
              "lx2 -0.873459  0.638689  1.000000"
            ]
          },
          "metadata": {
            "tags": []
          },
          "execution_count": 41
        },
        {
          "output_type": "display_data",
          "data": {
            "image/png": "[encoded data removed]",
            "text/plain": [
              "<Figure size 432x288 with 1 Axes>"
            ]
          },
          "metadata": {
            "tags": []
          }
        }
      ]
    },
    {
      "cell_type": "markdown",
      "metadata": {
        "id": "pnb0LeIJs0fB",
        "colab_type": "text"
      },
      "source": [
        "Ahora apliquemos logaritmo a la variable x1, de tal manera que:  \n",
        "lx1 = log(x1)"
      ]
    },
    {
      "cell_type": "code",
      "metadata": {
        "id": "IjesM7Yosuz1",
        "colab_type": "code",
        "colab": {
          "base_uri": "https://localhost:8080/",
          "height": 0
        },
        "outputId": "0be495e4-0d62-4563-92f6-8ade5c39fc6f"
      },
      "source": [
        "df['lx1'] = np.log(df['x1'])\n",
        "sns.lineplot(data=df,x='lx1', y='lx2')\n",
        "\n",
        "df.corr()"
      ],
      "execution_count": 42,
      "outputs": [
        {
          "output_type": "stream",
          "text": [
            "/usr/local/lib/python3.6/dist-packages/pandas/core/series.py:679: RuntimeWarning: invalid value encountered in log\n",
            "  result = getattr(ufunc, method)(*inputs, **kwargs)\n"
          ],
          "name": "stderr"
        },
        {
          "output_type": "execute_result",
          "data": {
            "text/html": [
              "<div>\n",
              "<style scoped>\n",
              "    .dataframe tbody tr th:only-of-type {\n",
              "        vertical-align: middle;\n",
              "    }\n",
              "\n",
              "    .dataframe tbody tr th {\n",
              "        vertical-align: top;\n",
              "    }\n",
              "\n",
              "    .dataframe thead th {\n",
              "        text-align: right;\n",
              "    }\n",
              "</style>\n",
              "<table border=\"1\" class=\"dataframe\">\n",
              "  <thead>\n",
              "    <tr style=\"text-align: right;\">\n",
              "      <th></th>\n",
              "      <th>x1</th>\n",
              "      <th>x2</th>\n",
              "      <th>lx2</th>\n",
              "      <th>lx1</th>\n",
              "    </tr>\n",
              "  </thead>\n",
              "  <tbody>\n",
              "    <tr>\n",
              "      <th>x1</th>\n",
              "      <td>1.000000</td>\n",
              "      <td>0.012219</td>\n",
              "      <td>-0.873459</td>\n",
              "      <td>0.873459</td>\n",
              "    </tr>\n",
              "    <tr>\n",
              "      <th>x2</th>\n",
              "      <td>0.012219</td>\n",
              "      <td>1.000000</td>\n",
              "      <td>0.638689</td>\n",
              "      <td>-0.638689</td>\n",
              "    </tr>\n",
              "    <tr>\n",
              "      <th>lx2</th>\n",
              "      <td>-0.873459</td>\n",
              "      <td>0.638689</td>\n",
              "      <td>1.000000</td>\n",
              "      <td>-1.000000</td>\n",
              "    </tr>\n",
              "    <tr>\n",
              "      <th>lx1</th>\n",
              "      <td>0.873459</td>\n",
              "      <td>-0.638689</td>\n",
              "      <td>-1.000000</td>\n",
              "      <td>1.000000</td>\n",
              "    </tr>\n",
              "  </tbody>\n",
              "</table>\n",
              "</div>"
            ],
            "text/plain": [
              "           x1        x2       lx2       lx1\n",
              "x1   1.000000  0.012219 -0.873459  0.873459\n",
              "x2   0.012219  1.000000  0.638689 -0.638689\n",
              "lx2 -0.873459  0.638689  1.000000 -1.000000\n",
              "lx1  0.873459 -0.638689 -1.000000  1.000000"
            ]
          },
          "metadata": {
            "tags": []
          },
          "execution_count": 42
        },
        {
          "output_type": "display_data",
          "data": {
            "image/png": "[encoded data removed]",
            "text/plain": [
              "<Figure size 432x288 with 1 Axes>"
            ]
          },
          "metadata": {
            "tags": []
          }
        }
      ]
    },
    {
      "cell_type": "markdown",
      "metadata": {
        "id": "JyxGChber3X0",
        "colab_type": "text"
      },
      "source": [
        "### Relacion con exponentes"
      ]
    },
    {
      "cell_type": "markdown",
      "metadata": {
        "id": "CrP076LQw7Tf",
        "colab_type": "text"
      },
      "source": [
        "Ahora observemos que pasa si cambiamos la forma funcional de x1 y aplicamos la regla 3 del formulario."
      ]
    },
    {
      "cell_type": "code",
      "metadata": {
        "id": "7HhhwA_Qusre",
        "colab_type": "code",
        "colab": {
          "base_uri": "https://localhost:8080/",
          "height": 0
        },
        "outputId": "aa61bafb-d3bc-4faf-8a82-a1bbbb4f029e"
      },
      "source": [
        "x1 = np.random.normal(10,10,1000)\n",
        "\n",
        "x2 = 10*x1**10\n",
        "\n",
        "df = pd.DataFrame.from_dict({\n",
        "    'x1':x1,\n",
        "    'x2':x2,\n",
        "})\n",
        "\n",
        "df['lx1'] = np.log(df['x1'])\n",
        "df['lx2'] = np.log(df['x2'])\n",
        "\n",
        "sns.lineplot(data=df,x='lx1', y='lx2')\n",
        "\n",
        "df.corr()"
      ],
      "execution_count": 43,
      "outputs": [
        {
          "output_type": "stream",
          "text": [
            "/usr/local/lib/python3.6/dist-packages/pandas/core/series.py:679: RuntimeWarning: invalid value encountered in log\n",
            "  result = getattr(ufunc, method)(*inputs, **kwargs)\n"
          ],
          "name": "stderr"
        },
        {
          "output_type": "execute_result",
          "data": {
            "text/html": [
              "<div>\n",
              "<style scoped>\n",
              "    .dataframe tbody tr th:only-of-type {\n",
              "        vertical-align: middle;\n",
              "    }\n",
              "\n",
              "    .dataframe tbody tr th {\n",
              "        vertical-align: top;\n",
              "    }\n",
              "\n",
              "    .dataframe thead th {\n",
              "        text-align: right;\n",
              "    }\n",
              "</style>\n",
              "<table border=\"1\" class=\"dataframe\">\n",
              "  <thead>\n",
              "    <tr style=\"text-align: right;\">\n",
              "      <th></th>\n",
              "      <th>x1</th>\n",
              "      <th>x2</th>\n",
              "      <th>lx1</th>\n",
              "      <th>lx2</th>\n",
              "    </tr>\n",
              "  </thead>\n",
              "  <tbody>\n",
              "    <tr>\n",
              "      <th>x1</th>\n",
              "      <td>1.000000</td>\n",
              "      <td>0.310533</td>\n",
              "      <td>0.851365</td>\n",
              "      <td>0.696496</td>\n",
              "    </tr>\n",
              "    <tr>\n",
              "      <th>x2</th>\n",
              "      <td>0.310533</td>\n",
              "      <td>1.000000</td>\n",
              "      <td>0.187205</td>\n",
              "      <td>0.179892</td>\n",
              "    </tr>\n",
              "    <tr>\n",
              "      <th>lx1</th>\n",
              "      <td>0.851365</td>\n",
              "      <td>0.187205</td>\n",
              "      <td>1.000000</td>\n",
              "      <td>1.000000</td>\n",
              "    </tr>\n",
              "    <tr>\n",
              "      <th>lx2</th>\n",
              "      <td>0.696496</td>\n",
              "      <td>0.179892</td>\n",
              "      <td>1.000000</td>\n",
              "      <td>1.000000</td>\n",
              "    </tr>\n",
              "  </tbody>\n",
              "</table>\n",
              "</div>"
            ],
            "text/plain": [
              "           x1        x2       lx1       lx2\n",
              "x1   1.000000  0.310533  0.851365  0.696496\n",
              "x2   0.310533  1.000000  0.187205  0.179892\n",
              "lx1  0.851365  0.187205  1.000000  1.000000\n",
              "lx2  0.696496  0.179892  1.000000  1.000000"
            ]
          },
          "metadata": {
            "tags": []
          },
          "execution_count": 43
        },
        {
          "output_type": "display_data",
          "data": {
            "image/png": "[encoded data removed]",
            "text/plain": [
              "<Figure size 432x288 with 1 Axes>"
            ]
          },
          "metadata": {
            "tags": []
          }
        }
      ]
    },
    {
      "cell_type": "markdown",
      "metadata": {
        "id": "WytrItswxG9V",
        "colab_type": "text"
      },
      "source": [
        "Originalmente la correlacion entre x1 y x2 era baja, pero al aplicar logaritmo a las dos variables, obtenemos una variable perfectamente lineal."
      ]
    },
    {
      "cell_type": "markdown",
      "metadata": {
        "id": "C_BPzBw-xVfB",
        "colab_type": "text"
      },
      "source": [
        "Observa el coeficiente de correlacion y la grafica! Al parecer las transformaciones afectan al coeficiente de correlacion!  \n",
        "\n",
        "### Logramos relacionar la variable x1 y x2 a traves de sus transformaciones logaritmicas!  \n",
        "\n",
        "Como cinetifico de datos debemos de ser capaces de sugerir transformaciones de variables para mejorar nuestros modelos. Si bien es imposible conocer al 100% que transformaciones son las utiles, podemos darnos una idea de que transformacion servira si observamos las graficas y entendemos el problema a detalle!"
      ]
    },
    {
      "cell_type": "markdown",
      "metadata": {
        "id": "cezrQlG-sROo",
        "colab_type": "text"
      },
      "source": [
        "# Tarea I"
      ]
    },
    {
      "cell_type": "markdown",
      "metadata": {
        "id": "-P_ex1bmt4iE",
        "colab_type": "text"
      },
      "source": [
        "Sea:  \n",
        "x2 = 15x1"
      ]
    },
    {
      "cell_type": "markdown",
      "metadata": {
        "id": "uYzvCORnsXUf",
        "colab_type": "text"
      },
      "source": [
        "Como se ve afectado el coeficiente de correlacion si:  \n",
        "\n",
        "1. Sumo una constante a x1 y/o a x2\n",
        "2. Si elevo al cuadrado x1 y/o a x2\n",
        "3. Si elevo a la octava potencia x1 y/o a x2\n",
        "\n"
      ]
    },
    {
      "cell_type": "code",
      "metadata": {
        "id": "XwnP5vN3yVj1",
        "colab_type": "code",
        "colab": {}
      },
      "source": [
        "# Sumo una constante a x1 y/o a x2\n",
        "\n",
        "x1 = np.random.normal(10,10,1000)\n",
        "x2 = 15*x1\n",
        "df = pd.DataFrame.from_dict({\n",
        "    'x1':x1,\n",
        "    'x2':x2,\n",
        "})"
      ],
      "execution_count": 44,
      "outputs": []
    },
    {
      "cell_type": "code",
      "metadata": {
        "id": "CAbjGuHvuA6K",
        "colab_type": "code",
        "colab": {
          "base_uri": "https://localhost:8080/",
          "height": 132
        },
        "outputId": "6b1d8062-8127-40ca-c009-d134de42ed27"
      },
      "source": [
        "### Constante\n",
        "# TODO: Suma una constante a x1 \n",
        "df['cx1'] = x1 + 10\n",
        "# TODO: Suma una constante a x2\n",
        "df['cx2'] = \n",
        "\n",
        "\n",
        "### Cuadrado\n",
        "# TODO: Eleva al cuadrado x1 \n",
        "df['2_x1'] = np.power(x1,2)\n",
        "# TODO: Eleva al cuadrado x2\n",
        "df['2_x2'] = \n",
        "\n",
        "### Octava Potencia\n",
        "# TODO: Eleva a la octava potencia x1\n",
        "df['8_x1'] = \n",
        "# TODO:= Eleva a la octava potencia x2\n",
        "df['8_x2'] = \n",
        "\n",
        "\n",
        "df.corr()"
      ],
      "execution_count": 45,
      "outputs": [
        {
          "output_type": "error",
          "ename": "SyntaxError",
          "evalue": "ignored",
          "traceback": [
            "\u001b[0;36m  File \u001b[0;32m\"<ipython-input-45-23acfb11a626>\"\u001b[0;36m, line \u001b[0;32m5\u001b[0m\n\u001b[0;31m    df['cx2'] =\u001b[0m\n\u001b[0m                ^\u001b[0m\n\u001b[0;31mSyntaxError\u001b[0m\u001b[0;31m:\u001b[0m invalid syntax\n"
          ]
        }
      ]
    },
    {
      "cell_type": "code",
      "metadata": {
        "id": "lrnT85s9uSTw",
        "colab_type": "code",
        "colab": {}
      },
      "source": [
        "# Juega con este linea si deseas ver el comportamiento de manera grafica\n",
        "sns.lineplot(data=df,x='x1', y='x2')\n"
      ],
      "execution_count": null,
      "outputs": []
    },
    {
      "cell_type": "markdown",
      "metadata": {
        "id": "jY-t4MFGRVHM",
        "colab_type": "text"
      },
      "source": [
        "# Tarea II"
      ]
    },
    {
      "cell_type": "code",
      "metadata": {
        "id": "SX090RGcRXMl",
        "colab_type": "code",
        "colab": {
          "base_uri": "https://localhost:8080/",
          "height": 206
        },
        "outputId": "381d610c-f370-4ff7-e82a-6cb1c4d5c06a"
      },
      "source": [
        "penguins = sns.load_dataset('penguins')\n",
        "penguins.head()"
      ],
      "execution_count": 46,
      "outputs": [
        {
          "output_type": "execute_result",
          "data": {
            "text/html": [
              "<div>\n",
              "<style scoped>\n",
              "    .dataframe tbody tr th:only-of-type {\n",
              "        vertical-align: middle;\n",
              "    }\n",
              "\n",
              "    .dataframe tbody tr th {\n",
              "        vertical-align: top;\n",
              "    }\n",
              "\n",
              "    .dataframe thead th {\n",
              "        text-align: right;\n",
              "    }\n",
              "</style>\n",
              "<table border=\"1\" class=\"dataframe\">\n",
              "  <thead>\n",
              "    <tr style=\"text-align: right;\">\n",
              "      <th></th>\n",
              "      <th>species</th>\n",
              "      <th>island</th>\n",
              "      <th>culmen_length_mm</th>\n",
              "      <th>culmen_depth_mm</th>\n",
              "      <th>flipper_length_mm</th>\n",
              "      <th>body_mass_g</th>\n",
              "      <th>sex</th>\n",
              "    </tr>\n",
              "  </thead>\n",
              "  <tbody>\n",
              "    <tr>\n",
              "      <th>0</th>\n",
              "      <td>Adelie</td>\n",
              "      <td>Torgersen</td>\n",
              "      <td>39.1</td>\n",
              "      <td>18.7</td>\n",
              "      <td>181.0</td>\n",
              "      <td>3750.0</td>\n",
              "      <td>MALE</td>\n",
              "    </tr>\n",
              "    <tr>\n",
              "      <th>1</th>\n",
              "      <td>Adelie</td>\n",
              "      <td>Torgersen</td>\n",
              "      <td>39.5</td>\n",
              "      <td>17.4</td>\n",
              "      <td>186.0</td>\n",
              "      <td>3800.0</td>\n",
              "      <td>FEMALE</td>\n",
              "    </tr>\n",
              "    <tr>\n",
              "      <th>2</th>\n",
              "      <td>Adelie</td>\n",
              "      <td>Torgersen</td>\n",
              "      <td>40.3</td>\n",
              "      <td>18.0</td>\n",
              "      <td>195.0</td>\n",
              "      <td>3250.0</td>\n",
              "      <td>FEMALE</td>\n",
              "    </tr>\n",
              "    <tr>\n",
              "      <th>3</th>\n",
              "      <td>Adelie</td>\n",
              "      <td>Torgersen</td>\n",
              "      <td>NaN</td>\n",
              "      <td>NaN</td>\n",
              "      <td>NaN</td>\n",
              "      <td>NaN</td>\n",
              "      <td>NaN</td>\n",
              "    </tr>\n",
              "    <tr>\n",
              "      <th>4</th>\n",
              "      <td>Adelie</td>\n",
              "      <td>Torgersen</td>\n",
              "      <td>36.7</td>\n",
              "      <td>19.3</td>\n",
              "      <td>193.0</td>\n",
              "      <td>3450.0</td>\n",
              "      <td>FEMALE</td>\n",
              "    </tr>\n",
              "  </tbody>\n",
              "</table>\n",
              "</div>"
            ],
            "text/plain": [
              "  species     island  culmen_length_mm  ...  flipper_length_mm  body_mass_g     sex\n",
              "0  Adelie  Torgersen              39.1  ...              181.0       3750.0    MALE\n",
              "1  Adelie  Torgersen              39.5  ...              186.0       3800.0  FEMALE\n",
              "2  Adelie  Torgersen              40.3  ...              195.0       3250.0  FEMALE\n",
              "3  Adelie  Torgersen               NaN  ...                NaN          NaN     NaN\n",
              "4  Adelie  Torgersen              36.7  ...              193.0       3450.0  FEMALE\n",
              "\n",
              "[5 rows x 7 columns]"
            ]
          },
          "metadata": {
            "tags": []
          },
          "execution_count": 46
        }
      ]
    },
    {
      "cell_type": "code",
      "metadata": {
        "id": "xMmOnVADRsID",
        "colab_type": "code",
        "colab": {
          "base_uri": "https://localhost:8080/",
          "height": 260
        },
        "outputId": "7d1b64e0-a658-4ce2-b4a1-c86fd8430c2a"
      },
      "source": [
        "penguins.info()"
      ],
      "execution_count": 47,
      "outputs": [
        {
          "output_type": "stream",
          "text": [
            "<class 'pandas.core.frame.DataFrame'>\n",
            "RangeIndex: 344 entries, 0 to 343\n",
            "Data columns (total 7 columns):\n",
            " #   Column             Non-Null Count  Dtype  \n",
            "---  ------             --------------  -----  \n",
            " 0   species            344 non-null    object \n",
            " 1   island             344 non-null    object \n",
            " 2   culmen_length_mm   342 non-null    float64\n",
            " 3   culmen_depth_mm    342 non-null    float64\n",
            " 4   flipper_length_mm  342 non-null    float64\n",
            " 5   body_mass_g        342 non-null    float64\n",
            " 6   sex                333 non-null    object \n",
            "dtypes: float64(4), object(3)\n",
            "memory usage: 18.9+ KB\n"
          ],
          "name": "stdout"
        }
      ]
    },
    {
      "cell_type": "code",
      "metadata": {
        "id": "1lDaOAi9RzGc",
        "colab_type": "code",
        "colab": {
          "base_uri": "https://localhost:8080/",
          "height": 300
        },
        "outputId": "f226175e-d232-41e0-d28b-24421ed87648"
      },
      "source": [
        "penguins.describe()"
      ],
      "execution_count": 48,
      "outputs": [
        {
          "output_type": "execute_result",
          "data": {
            "text/html": [
              "<div>\n",
              "<style scoped>\n",
              "    .dataframe tbody tr th:only-of-type {\n",
              "        vertical-align: middle;\n",
              "    }\n",
              "\n",
              "    .dataframe tbody tr th {\n",
              "        vertical-align: top;\n",
              "    }\n",
              "\n",
              "    .dataframe thead th {\n",
              "        text-align: right;\n",
              "    }\n",
              "</style>\n",
              "<table border=\"1\" class=\"dataframe\">\n",
              "  <thead>\n",
              "    <tr style=\"text-align: right;\">\n",
              "      <th></th>\n",
              "      <th>culmen_length_mm</th>\n",
              "      <th>culmen_depth_mm</th>\n",
              "      <th>flipper_length_mm</th>\n",
              "      <th>body_mass_g</th>\n",
              "    </tr>\n",
              "  </thead>\n",
              "  <tbody>\n",
              "    <tr>\n",
              "      <th>count</th>\n",
              "      <td>342.000000</td>\n",
              "      <td>342.000000</td>\n",
              "      <td>342.000000</td>\n",
              "      <td>342.000000</td>\n",
              "    </tr>\n",
              "    <tr>\n",
              "      <th>mean</th>\n",
              "      <td>43.921930</td>\n",
              "      <td>17.151170</td>\n",
              "      <td>200.915205</td>\n",
              "      <td>4201.754386</td>\n",
              "    </tr>\n",
              "    <tr>\n",
              "      <th>std</th>\n",
              "      <td>5.459584</td>\n",
              "      <td>1.974793</td>\n",
              "      <td>14.061714</td>\n",
              "      <td>801.954536</td>\n",
              "    </tr>\n",
              "    <tr>\n",
              "      <th>min</th>\n",
              "      <td>32.100000</td>\n",
              "      <td>13.100000</td>\n",
              "      <td>172.000000</td>\n",
              "      <td>2700.000000</td>\n",
              "    </tr>\n",
              "    <tr>\n",
              "      <th>25%</th>\n",
              "      <td>39.225000</td>\n",
              "      <td>15.600000</td>\n",
              "      <td>190.000000</td>\n",
              "      <td>3550.000000</td>\n",
              "    </tr>\n",
              "    <tr>\n",
              "      <th>50%</th>\n",
              "      <td>44.450000</td>\n",
              "      <td>17.300000</td>\n",
              "      <td>197.000000</td>\n",
              "      <td>4050.000000</td>\n",
              "    </tr>\n",
              "    <tr>\n",
              "      <th>75%</th>\n",
              "      <td>48.500000</td>\n",
              "      <td>18.700000</td>\n",
              "      <td>213.000000</td>\n",
              "      <td>4750.000000</td>\n",
              "    </tr>\n",
              "    <tr>\n",
              "      <th>max</th>\n",
              "      <td>59.600000</td>\n",
              "      <td>21.500000</td>\n",
              "      <td>231.000000</td>\n",
              "      <td>6300.000000</td>\n",
              "    </tr>\n",
              "  </tbody>\n",
              "</table>\n",
              "</div>"
            ],
            "text/plain": [
              "       culmen_length_mm  culmen_depth_mm  flipper_length_mm  body_mass_g\n",
              "count        342.000000       342.000000         342.000000   342.000000\n",
              "mean          43.921930        17.151170         200.915205  4201.754386\n",
              "std            5.459584         1.974793          14.061714   801.954536\n",
              "min           32.100000        13.100000         172.000000  2700.000000\n",
              "25%           39.225000        15.600000         190.000000  3550.000000\n",
              "50%           44.450000        17.300000         197.000000  4050.000000\n",
              "75%           48.500000        18.700000         213.000000  4750.000000\n",
              "max           59.600000        21.500000         231.000000  6300.000000"
            ]
          },
          "metadata": {
            "tags": []
          },
          "execution_count": 48
        }
      ]
    },
    {
      "cell_type": "code",
      "metadata": {
        "id": "3aXOm-DLR2wM",
        "colab_type": "code",
        "colab": {
          "base_uri": "https://localhost:8080/",
          "height": 69
        },
        "outputId": "b2727122-4a4d-4d50-f669-f372f4b91ff7"
      },
      "source": [
        "penguins.columns"
      ],
      "execution_count": 49,
      "outputs": [
        {
          "output_type": "execute_result",
          "data": {
            "text/plain": [
              "Index(['species', 'island', 'culmen_length_mm', 'culmen_depth_mm',\n",
              "       'flipper_length_mm', 'body_mass_g', 'sex'],\n",
              "      dtype='object')"
            ]
          },
          "metadata": {
            "tags": []
          },
          "execution_count": 49
        }
      ]
    },
    {
      "cell_type": "markdown",
      "metadata": {
        "id": "Ght8YcmMR4vn",
        "colab_type": "text"
      },
      "source": [
        "Hmmmmmm....  \n",
        "Tendemos mucho a usar estas funciones, talvez sea conveniente crear una funcion. Esto no solo nos ahorra tiempo, sino que nos ayudara a evitar errores, y a mejorar la \"redaccion\" de nuestro codigo."
      ]
    },
    {
      "cell_type": "code",
      "metadata": {
        "id": "rhK9N3c9R_ss",
        "colab_type": "code",
        "colab": {}
      },
      "source": [
        "def glimpse_df(df):\n",
        "  print('Head:')\n",
        "  print(df.head())\n",
        "  print('\\n Info: ')\n",
        "  print(df.info())\n",
        "  print('\\n Describe:')\n",
        "  print(df.describe())"
      ],
      "execution_count": 50,
      "outputs": []
    },
    {
      "cell_type": "code",
      "metadata": {
        "id": "kxDk61xJSKDz",
        "colab_type": "code",
        "colab": {
          "base_uri": "https://localhost:8080/",
          "height": 660
        },
        "outputId": "eb3d0a6b-f96c-4b53-ef34-05179d199480"
      },
      "source": [
        "glimpse_df(penguins)"
      ],
      "execution_count": 51,
      "outputs": [
        {
          "output_type": "stream",
          "text": [
            "Head:\n",
            "  species     island  culmen_length_mm  ...  flipper_length_mm  body_mass_g     sex\n",
            "0  Adelie  Torgersen              39.1  ...              181.0       3750.0    MALE\n",
            "1  Adelie  Torgersen              39.5  ...              186.0       3800.0  FEMALE\n",
            "2  Adelie  Torgersen              40.3  ...              195.0       3250.0  FEMALE\n",
            "3  Adelie  Torgersen               NaN  ...                NaN          NaN     NaN\n",
            "4  Adelie  Torgersen              36.7  ...              193.0       3450.0  FEMALE\n",
            "\n",
            "[5 rows x 7 columns]\n",
            "\n",
            " Info: \n",
            "<class 'pandas.core.frame.DataFrame'>\n",
            "RangeIndex: 344 entries, 0 to 343\n",
            "Data columns (total 7 columns):\n",
            " #   Column             Non-Null Count  Dtype  \n",
            "---  ------             --------------  -----  \n",
            " 0   species            344 non-null    object \n",
            " 1   island             344 non-null    object \n",
            " 2   culmen_length_mm   342 non-null    float64\n",
            " 3   culmen_depth_mm    342 non-null    float64\n",
            " 4   flipper_length_mm  342 non-null    float64\n",
            " 5   body_mass_g        342 non-null    float64\n",
            " 6   sex                333 non-null    object \n",
            "dtypes: float64(4), object(3)\n",
            "memory usage: 18.9+ KB\n",
            "None\n",
            "\n",
            " Describe:\n",
            "       culmen_length_mm  culmen_depth_mm  flipper_length_mm  body_mass_g\n",
            "count        342.000000       342.000000         342.000000   342.000000\n",
            "mean          43.921930        17.151170         200.915205  4201.754386\n",
            "std            5.459584         1.974793          14.061714   801.954536\n",
            "min           32.100000        13.100000         172.000000  2700.000000\n",
            "25%           39.225000        15.600000         190.000000  3550.000000\n",
            "50%           44.450000        17.300000         197.000000  4050.000000\n",
            "75%           48.500000        18.700000         213.000000  4750.000000\n",
            "max           59.600000        21.500000         231.000000  6300.000000\n"
          ],
          "name": "stdout"
        }
      ]
    },
    {
      "cell_type": "code",
      "metadata": {
        "id": "Mpvv21GQTAM4",
        "colab_type": "code",
        "colab": {
          "base_uri": "https://localhost:8080/",
          "height": 175
        },
        "outputId": "5f0c162b-3786-4387-ff4e-a6b76e609496"
      },
      "source": [
        "penguins.corr()"
      ],
      "execution_count": 52,
      "outputs": [
        {
          "output_type": "execute_result",
          "data": {
            "text/html": [
              "<div>\n",
              "<style scoped>\n",
              "    .dataframe tbody tr th:only-of-type {\n",
              "        vertical-align: middle;\n",
              "    }\n",
              "\n",
              "    .dataframe tbody tr th {\n",
              "        vertical-align: top;\n",
              "    }\n",
              "\n",
              "    .dataframe thead th {\n",
              "        text-align: right;\n",
              "    }\n",
              "</style>\n",
              "<table border=\"1\" class=\"dataframe\">\n",
              "  <thead>\n",
              "    <tr style=\"text-align: right;\">\n",
              "      <th></th>\n",
              "      <th>culmen_length_mm</th>\n",
              "      <th>culmen_depth_mm</th>\n",
              "      <th>flipper_length_mm</th>\n",
              "      <th>body_mass_g</th>\n",
              "    </tr>\n",
              "  </thead>\n",
              "  <tbody>\n",
              "    <tr>\n",
              "      <th>culmen_length_mm</th>\n",
              "      <td>1.000000</td>\n",
              "      <td>-0.235053</td>\n",
              "      <td>0.656181</td>\n",
              "      <td>0.595110</td>\n",
              "    </tr>\n",
              "    <tr>\n",
              "      <th>culmen_depth_mm</th>\n",
              "      <td>-0.235053</td>\n",
              "      <td>1.000000</td>\n",
              "      <td>-0.583851</td>\n",
              "      <td>-0.471916</td>\n",
              "    </tr>\n",
              "    <tr>\n",
              "      <th>flipper_length_mm</th>\n",
              "      <td>0.656181</td>\n",
              "      <td>-0.583851</td>\n",
              "      <td>1.000000</td>\n",
              "      <td>0.871202</td>\n",
              "    </tr>\n",
              "    <tr>\n",
              "      <th>body_mass_g</th>\n",
              "      <td>0.595110</td>\n",
              "      <td>-0.471916</td>\n",
              "      <td>0.871202</td>\n",
              "      <td>1.000000</td>\n",
              "    </tr>\n",
              "  </tbody>\n",
              "</table>\n",
              "</div>"
            ],
            "text/plain": [
              "                   culmen_length_mm  ...  body_mass_g\n",
              "culmen_length_mm           1.000000  ...     0.595110\n",
              "culmen_depth_mm           -0.235053  ...    -0.471916\n",
              "flipper_length_mm          0.656181  ...     0.871202\n",
              "body_mass_g                0.595110  ...     1.000000\n",
              "\n",
              "[4 rows x 4 columns]"
            ]
          },
          "metadata": {
            "tags": []
          },
          "execution_count": 52
        }
      ]
    },
    {
      "cell_type": "markdown",
      "metadata": {
        "id": "C7N_wyS2TS8Z",
        "colab_type": "text"
      },
      "source": [
        "## Observa las correlaciones anteriores.  \n",
        "Que relaciones hay entre cada una de las variables?  "
      ]
    },
    {
      "cell_type": "markdown",
      "metadata": {
        "id": "SI8rby6yjCBp",
        "colab_type": "text"
      },
      "source": [
        "## Correlaciones Categoricas y Ordinales"
      ]
    },
    {
      "cell_type": "markdown",
      "metadata": {
        "id": "cUTUqnVWjGYh",
        "colab_type": "text"
      },
      "source": [
        "Que pasa si queremos obtener una correlacion con variables ordinales?"
      ]
    },
    {
      "cell_type": "code",
      "metadata": {
        "id": "9uSXtKSjltMp",
        "colab_type": "code",
        "colab": {
          "base_uri": "https://localhost:8080/",
          "height": 206
        },
        "outputId": "3ac27116-f07b-4145-8cd8-37c7be1be73a"
      },
      "source": [
        "penguins.replace({'MALE':0, 'FEMALE':1, np.nan:2}).corr()"
      ],
      "execution_count": 53,
      "outputs": [
        {
          "output_type": "execute_result",
          "data": {
            "text/html": [
              "<div>\n",
              "<style scoped>\n",
              "    .dataframe tbody tr th:only-of-type {\n",
              "        vertical-align: middle;\n",
              "    }\n",
              "\n",
              "    .dataframe tbody tr th {\n",
              "        vertical-align: top;\n",
              "    }\n",
              "\n",
              "    .dataframe thead th {\n",
              "        text-align: right;\n",
              "    }\n",
              "</style>\n",
              "<table border=\"1\" class=\"dataframe\">\n",
              "  <thead>\n",
              "    <tr style=\"text-align: right;\">\n",
              "      <th></th>\n",
              "      <th>culmen_length_mm</th>\n",
              "      <th>culmen_depth_mm</th>\n",
              "      <th>flipper_length_mm</th>\n",
              "      <th>body_mass_g</th>\n",
              "      <th>sex</th>\n",
              "    </tr>\n",
              "  </thead>\n",
              "  <tbody>\n",
              "    <tr>\n",
              "      <th>culmen_length_mm</th>\n",
              "      <td>1.000000</td>\n",
              "      <td>0.080732</td>\n",
              "      <td>0.755716</td>\n",
              "      <td>0.664478</td>\n",
              "      <td>-0.388500</td>\n",
              "    </tr>\n",
              "    <tr>\n",
              "      <th>culmen_depth_mm</th>\n",
              "      <td>0.080732</td>\n",
              "      <td>1.000000</td>\n",
              "      <td>0.028718</td>\n",
              "      <td>-0.190377</td>\n",
              "      <td>-0.395065</td>\n",
              "    </tr>\n",
              "    <tr>\n",
              "      <th>flipper_length_mm</th>\n",
              "      <td>0.755716</td>\n",
              "      <td>0.028718</td>\n",
              "      <td>1.000000</td>\n",
              "      <td>0.822006</td>\n",
              "      <td>-0.302983</td>\n",
              "    </tr>\n",
              "    <tr>\n",
              "      <th>body_mass_g</th>\n",
              "      <td>0.664478</td>\n",
              "      <td>-0.190377</td>\n",
              "      <td>0.822006</td>\n",
              "      <td>1.000000</td>\n",
              "      <td>-0.434375</td>\n",
              "    </tr>\n",
              "    <tr>\n",
              "      <th>sex</th>\n",
              "      <td>-0.388500</td>\n",
              "      <td>-0.395065</td>\n",
              "      <td>-0.302983</td>\n",
              "      <td>-0.434375</td>\n",
              "      <td>1.000000</td>\n",
              "    </tr>\n",
              "  </tbody>\n",
              "</table>\n",
              "</div>"
            ],
            "text/plain": [
              "                   culmen_length_mm  culmen_depth_mm  ...  body_mass_g       sex\n",
              "culmen_length_mm           1.000000         0.080732  ...     0.664478 -0.388500\n",
              "culmen_depth_mm            0.080732         1.000000  ...    -0.190377 -0.395065\n",
              "flipper_length_mm          0.755716         0.028718  ...     0.822006 -0.302983\n",
              "body_mass_g                0.664478        -0.190377  ...     1.000000 -0.434375\n",
              "sex                       -0.388500        -0.395065  ...    -0.434375  1.000000\n",
              "\n",
              "[5 rows x 5 columns]"
            ]
          },
          "metadata": {
            "tags": []
          },
          "execution_count": 53
        }
      ]
    },
    {
      "cell_type": "markdown",
      "metadata": {
        "id": "zNtXFiXBl81x",
        "colab_type": "text"
      },
      "source": [
        "Observemos que pasa si utilizamos otra codificacion/encoding valido para nuestra viariable categorica.\n"
      ]
    },
    {
      "cell_type": "code",
      "metadata": {
        "id": "SSnORJ2jm5f_",
        "colab_type": "code",
        "colab": {
          "base_uri": "https://localhost:8080/",
          "height": 206
        },
        "outputId": "b5271149-8ca8-4e62-c3e2-4e265974484d"
      },
      "source": [
        "penguins.replace({'MALE':2, 'FEMALE':1, np.nan:0}).corr()"
      ],
      "execution_count": 54,
      "outputs": [
        {
          "output_type": "execute_result",
          "data": {
            "text/html": [
              "<div>\n",
              "<style scoped>\n",
              "    .dataframe tbody tr th:only-of-type {\n",
              "        vertical-align: middle;\n",
              "    }\n",
              "\n",
              "    .dataframe tbody tr th {\n",
              "        vertical-align: top;\n",
              "    }\n",
              "\n",
              "    .dataframe thead th {\n",
              "        text-align: right;\n",
              "    }\n",
              "</style>\n",
              "<table border=\"1\" class=\"dataframe\">\n",
              "  <thead>\n",
              "    <tr style=\"text-align: right;\">\n",
              "      <th></th>\n",
              "      <th>culmen_length_mm</th>\n",
              "      <th>culmen_depth_mm</th>\n",
              "      <th>flipper_length_mm</th>\n",
              "      <th>body_mass_g</th>\n",
              "      <th>sex</th>\n",
              "    </tr>\n",
              "  </thead>\n",
              "  <tbody>\n",
              "    <tr>\n",
              "      <th>culmen_length_mm</th>\n",
              "      <td>1.000000</td>\n",
              "      <td>0.122394</td>\n",
              "      <td>0.763654</td>\n",
              "      <td>0.665226</td>\n",
              "      <td>0.388487</td>\n",
              "    </tr>\n",
              "    <tr>\n",
              "      <th>culmen_depth_mm</th>\n",
              "      <td>0.122394</td>\n",
              "      <td>1.000000</td>\n",
              "      <td>0.078684</td>\n",
              "      <td>-0.159841</td>\n",
              "      <td>0.394433</td>\n",
              "    </tr>\n",
              "    <tr>\n",
              "      <th>flipper_length_mm</th>\n",
              "      <td>0.763654</td>\n",
              "      <td>0.078684</td>\n",
              "      <td>1.000000</td>\n",
              "      <td>0.820371</td>\n",
              "      <td>0.302811</td>\n",
              "    </tr>\n",
              "    <tr>\n",
              "      <th>body_mass_g</th>\n",
              "      <td>0.665226</td>\n",
              "      <td>-0.159841</td>\n",
              "      <td>0.820371</td>\n",
              "      <td>1.000000</td>\n",
              "      <td>0.434382</td>\n",
              "    </tr>\n",
              "    <tr>\n",
              "      <th>sex</th>\n",
              "      <td>0.388487</td>\n",
              "      <td>0.394433</td>\n",
              "      <td>0.302811</td>\n",
              "      <td>0.434382</td>\n",
              "      <td>1.000000</td>\n",
              "    </tr>\n",
              "  </tbody>\n",
              "</table>\n",
              "</div>"
            ],
            "text/plain": [
              "                   culmen_length_mm  culmen_depth_mm  ...  body_mass_g       sex\n",
              "culmen_length_mm           1.000000         0.122394  ...     0.665226  0.388487\n",
              "culmen_depth_mm            0.122394         1.000000  ...    -0.159841  0.394433\n",
              "flipper_length_mm          0.763654         0.078684  ...     0.820371  0.302811\n",
              "body_mass_g                0.665226        -0.159841  ...     1.000000  0.434382\n",
              "sex                        0.388487         0.394433  ...     0.434382  1.000000\n",
              "\n",
              "[5 rows x 5 columns]"
            ]
          },
          "metadata": {
            "tags": []
          },
          "execution_count": 54
        }
      ]
    },
    {
      "cell_type": "code",
      "metadata": {
        "id": "tHXCPiSpl5QS",
        "colab_type": "code",
        "colab": {}
      },
      "source": [
        "penguins.replace({'MALE\n",
        "':-1000, 'FEMALE':1, np.nan:1000}).corr()"
      ],
      "execution_count": null,
      "outputs": []
    },
    {
      "cell_type": "markdown",
      "metadata": {
        "id": "vE5uhQrlnA23",
        "colab_type": "text"
      },
      "source": [
        "Como podemos observar el coeficiente de correlacion cambia sustancialmente dependiendo de la codificacion que utilizemos.  \n",
        "\n",
        "### Existira una medida de correlacion para variables categoricas/ordinales?"
      ]
    },
    {
      "cell_type": "markdown",
      "metadata": {
        "id": "4Fl1oHzLnyzS",
        "colab_type": "text"
      },
      "source": [
        "Como mencionamos anteriormente, la correlacion de Pearson es una de las tantas medidas o estadisticos que podemos utilizar para encontrar relaciones entre las variables.  \n",
        "  \n",
        "    \n",
        "A continuacion te presentamos una tabla con los estadisticos sugeridos para cada caso:\n"
      ]
    },
    {
      "cell_type": "markdown",
      "metadata": {
        "id": "mh28XbcEpLcM",
        "colab_type": "text"
      },
      "source": [
        "![correlations.png](data:image/png;base64,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)"
      ]
    },
    {
      "cell_type": "markdown",
      "metadata": {
        "id": "rwdgqvU5pKKj",
        "colab_type": "text"
      },
      "source": [
        "Te recomendamos revisar el post de Medium para conocer mas al respecto:\n",
        "\n",
        "https://medium.com/@outside2SDs/an-overview-of-correlation-measures-between-categorical-and-continuous-variables-4c7f85610365  \n",
        "\n",
        "## Investiga como calcular las correlaciones de Spearman y Kendall en python! "
      ]
    }
  ]
}