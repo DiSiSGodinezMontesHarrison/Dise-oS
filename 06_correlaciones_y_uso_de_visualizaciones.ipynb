{
  "nbformat": 4,
  "nbformat_minor": 0,
  "metadata": {
    "colab": {
      "name": "06_correlaciones_y_uso_de_visualizaciones.ipynb",
      "provenance": [],
      "authorship_tag": "ABX9TyMqFZDqwms3DMDwZamILRwE",
      "include_colab_link": true
    },
    "kernelspec": {
      "name": "python3",
      "display_name": "Python 3"
    }
  },
  "cells": [
    {
      "cell_type": "markdown",
      "metadata": {
        "id": "view-in-github",
        "colab_type": "text"
      },
      "source": [
        "<a href=\"https://colab.research.google.com/github/IEXE-Tec/analisis-descriptivo/blob/master/06_correlaciones_y_uso_de_visualizaciones.ipynb\" target=\"_parent\"><img src=\"https://colab.research.google.com/assets/colab-badge.svg\" alt=\"Open In Colab\"/></a>"
      ]
    },
    {
      "cell_type": "code",
      "metadata": {
        "id": "ydlY8aMHRT10",
        "colab_type": "code",
        "colab": {}
      },
      "source": [
        "# Importo las librerias que usare en este notebook\n",
        "import pandas as pd\n",
        "import numpy as np\n",
        "import datetime\n",
        "\n",
        "import matplotlib.pyplot as plt\n",
        "%matplotlib inline\n",
        "import seaborn as sns\n",
        "sns.set_style('darkgrid')\n"
      ],
      "execution_count": 91,
      "outputs": []
    },
    {
      "cell_type": "markdown",
      "metadata": {
        "id": "Fay_eRe3JYoz",
        "colab_type": "text"
      },
      "source": [
        "# Covarianza"
      ]
    },
    {
      "cell_type": "markdown",
      "metadata": {
        "id": "Cl9oqvTXMrC7",
        "colab_type": "text"
      },
      "source": [
        "En este notebook encontraras el codigo usando en clase. Te recomendamos jugar con el para entender mejor como funciona la covarianza y correlacion.\n",
        "\n",
        "Generaremos una serie de variables apartir de diferentes distribuciones y ver que ocurre con nuestros estadisticos. \n",
        "\n",
        "Te recomendamos agregar visualizaciones para entender mejor lo que esta ocurriendo.\n"
      ]
    },
    {
      "cell_type": "markdown",
      "metadata": {
        "id": "XsRIEpGrO_rh",
        "colab_type": "text"
      },
      "source": [
        "Observaras que modelamos el proceso generador de datos a traves de funciones del estilo:  \n",
        "y = x + z  \n",
        "y = f(x)\n",
        "\n",
        "En la realidad es raro que observemos estas funciones, pues es lo que estamos tratando de estimar apartir de los datos. Sin embargo, visualizar el problema de esta forma nos ayudara a entenderlo mejor."
      ]
    },
    {
      "cell_type": "markdown",
      "metadata": {
        "id": "EoNcrI4yKLfb",
        "colab_type": "text"
      },
      "source": [
        "### Cov(x,x)"
      ]
    },
    {
      "cell_type": "code",
      "metadata": {
        "id": "z-7jusYoBCnc",
        "colab_type": "code",
        "colab": {
          "base_uri": "https://localhost:8080/",
          "height": 100
        },
        "outputId": "985d6a58-0083-4b78-fd75-e78b0776a592"
      },
      "source": [
        "# X\n",
        "x = np.random.normal(0, 1, 1000)\n",
        "print('Covarianza entre X y X: ')\n",
        "print(np.cov(x,x))\n",
        "print(np.var(x))"
      ],
      "execution_count": 92,
      "outputs": [
        {
          "output_type": "stream",
          "text": [
            "Covarianza entre X y X: \n",
            "[[0.97116832 0.97116832]\n",
            " [0.97116832 0.97116832]]\n",
            "0.9701971492178779\n"
          ],
          "name": "stdout"
        }
      ]
    },
    {
      "cell_type": "markdown",
      "metadata": {
        "id": "nmbL2F3fLC3k",
        "colab_type": "text"
      },
      "source": [
        "Nota como existe una pequena diferencia entre el valor calculado por los dos metodos {cov,var}. Cual crees que sea la razon? (Hint: Recuerda la correccion por sesgo) La respuesta esta en la celda de abajo.\n"
      ]
    },
    {
      "cell_type": "code",
      "metadata": {
        "id": "bFkEga6JLLeF",
        "colab_type": "code",
        "colab": {
          "base_uri": "https://localhost:8080/",
          "height": 100
        },
        "outputId": "b3dc2a9f-b481-41bf-d436-117759276ce8"
      },
      "source": [
        "# X\n",
        "x = np.random.normal(0, 1, 1000)\n",
        "print('Covarianza entre X y X: ')\n",
        "# \n",
        "print(np.cov(x,x)*(1000-1)/1000)\n",
        "print(np.var(x))"
      ],
      "execution_count": 93,
      "outputs": [
        {
          "output_type": "stream",
          "text": [
            "Covarianza entre X y X: \n",
            "[[0.98835832 0.98835832]\n",
            " [0.98835832 0.98835832]]\n",
            "0.9883583237375921\n"
          ],
          "name": "stdout"
        }
      ]
    },
    {
      "cell_type": "markdown",
      "metadata": {
        "id": "u7_y__V3LyTf",
        "colab_type": "text"
      },
      "source": [
        "Para efectos practicos esta correcion por sesgo no es tan importante, a menos que se tengan pocos datos. Es bueno tomarlo, en cuenta."
      ]
    },
    {
      "cell_type": "code",
      "metadata": {
        "id": "G_7w0vnZKXa-",
        "colab_type": "code",
        "colab": {
          "base_uri": "https://localhost:8080/",
          "height": 100
        },
        "outputId": "06eee4e5-0ae4-4876-92c4-ef943e33de5c"
      },
      "source": [
        "# X\n",
        "x = np.random.normal(100, 10, 1000)\n",
        "print('Covarianza entre X y X: ')\n",
        "print(np.cov(x,x))\n",
        "print(np.var(x))"
      ],
      "execution_count": 94,
      "outputs": [
        {
          "output_type": "stream",
          "text": [
            "Covarianza entre X y X: \n",
            "[[97.88108646 97.88108646]\n",
            " [97.88108646 97.88108646]]\n",
            "97.78320537341531\n"
          ],
          "name": "stdout"
        }
      ]
    },
    {
      "cell_type": "markdown",
      "metadata": {
        "id": "blJWUtJ9Jfma",
        "colab_type": "text"
      },
      "source": [
        "### Cov(x,-x)\n",
        "\n",
        "\n"
      ]
    },
    {
      "cell_type": "code",
      "metadata": {
        "id": "Eo-qVzY3B0Ww",
        "colab_type": "code",
        "colab": {
          "base_uri": "https://localhost:8080/",
          "height": 80
        },
        "outputId": "4aa29bec-90ce-462d-ea98-258c47280700"
      },
      "source": [
        "# X\n",
        "x = np.random.normal(0, 1, 1000)\n",
        "print('Covarianza entre X y X: ')\n",
        "print(np.cov(x,-x))\n"
      ],
      "execution_count": 95,
      "outputs": [
        {
          "output_type": "stream",
          "text": [
            "Covarianza entre X y X: \n",
            "[[ 1.05366771 -1.05366771]\n",
            " [-1.05366771  1.05366771]]\n"
          ],
          "name": "stdout"
        }
      ]
    },
    {
      "cell_type": "markdown",
      "metadata": {
        "id": "qxFRjVQfJl9l",
        "colab_type": "text"
      },
      "source": [
        "### Covarianza entre x,y, z"
      ]
    },
    {
      "cell_type": "code",
      "metadata": {
        "id": "RlBjlO4l98Mm",
        "colab_type": "code",
        "colab": {
          "base_uri": "https://localhost:8080/",
          "height": 163
        },
        "outputId": "d206e13c-ab7f-43b3-aed8-2e752db9d142"
      },
      "source": [
        "# Variables que definen a Y\n",
        "x = np.random.normal(0, 1, 1000)\n",
        "z = np.random.normal(100, 10, 1000)\n",
        "\n",
        "# Y\n",
        "y = z**x\n",
        "\n",
        "print('Covarianza entre Y & X: ')\n",
        "print(np.cov(x,y))\n",
        "print('-------------------')\n",
        "print('Covarianza entre Y & Z: ')\n",
        "print(np.cov(x,y))\n",
        "\n"
      ],
      "execution_count": 96,
      "outputs": [
        {
          "output_type": "stream",
          "text": [
            "Covarianza entre Y & X: \n",
            "[[1.07076309e+00 3.96778019e+04]\n",
            " [3.96778019e+04 4.57065976e+10]]\n",
            "-------------------\n",
            "Covarianza entre Y & Z: \n",
            "[[1.07076309e+00 3.96778019e+04]\n",
            " [3.96778019e+04 4.57065976e+10]]\n"
          ],
          "name": "stdout"
        }
      ]
    },
    {
      "cell_type": "code",
      "metadata": {
        "id": "ydfn8mKoKLsK",
        "colab_type": "code",
        "colab": {
          "base_uri": "https://localhost:8080/",
          "height": 256
        },
        "outputId": "d8ee9f35-3c29-445e-8fb0-82fd3e450f96"
      },
      "source": [
        "# Variables que definen a Y\n",
        "x1 = np.random.normal(0, 1, 1000)\n",
        "x2 = np.random.normal(0, 4, 1000)\n",
        "\n",
        "df = pd.DataFrame.from_dict({\n",
        "    'x1':x1,\n",
        "    'x2':x2\n",
        "})\n",
        "print('Covariance')\n",
        "print(df.cov())\n",
        "print('\\n Correlation')\n",
        "df.corr()"
      ],
      "execution_count": 97,
      "outputs": [
        {
          "output_type": "stream",
          "text": [
            "Covariance\n",
            "          x1         x2\n",
            "x1  0.949755   0.241847\n",
            "x2  0.241847  15.381740\n",
            "\n",
            " Correlation\n"
          ],
          "name": "stdout"
        },
        {
          "output_type": "execute_result",
          "data": {
            "text/html": [
              "<div>\n",
              "<style scoped>\n",
              "    .dataframe tbody tr th:only-of-type {\n",
              "        vertical-align: middle;\n",
              "    }\n",
              "\n",
              "    .dataframe tbody tr th {\n",
              "        vertical-align: top;\n",
              "    }\n",
              "\n",
              "    .dataframe thead th {\n",
              "        text-align: right;\n",
              "    }\n",
              "</style>\n",
              "<table border=\"1\" class=\"dataframe\">\n",
              "  <thead>\n",
              "    <tr style=\"text-align: right;\">\n",
              "      <th></th>\n",
              "      <th>x1</th>\n",
              "      <th>x2</th>\n",
              "    </tr>\n",
              "  </thead>\n",
              "  <tbody>\n",
              "    <tr>\n",
              "      <th>x1</th>\n",
              "      <td>1.000000</td>\n",
              "      <td>0.063275</td>\n",
              "    </tr>\n",
              "    <tr>\n",
              "      <th>x2</th>\n",
              "      <td>0.063275</td>\n",
              "      <td>1.000000</td>\n",
              "    </tr>\n",
              "  </tbody>\n",
              "</table>\n",
              "</div>"
            ],
            "text/plain": [
              "          x1        x2\n",
              "x1  1.000000  0.063275\n",
              "x2  0.063275  1.000000"
            ]
          },
          "metadata": {
            "tags": []
          },
          "execution_count": 97
        }
      ]
    },
    {
      "cell_type": "code",
      "metadata": {
        "id": "5_2WSyiYL7GP",
        "colab_type": "code",
        "colab": {
          "base_uri": "https://localhost:8080/",
          "height": 131
        },
        "outputId": "945e70cf-3fdd-486a-8e21-ab52837d8b07"
      },
      "source": [
        "x1 = np.random.normal(0, 1, 1000)\n",
        "x2 = -1.0*x1\n",
        "\n",
        "df = pd.DataFrame.from_dict({\n",
        "    'x1':x1,\n",
        "    'x2':x2,\n",
        "})\n",
        "\n",
        "df.corr()\n"
      ],
      "execution_count": 98,
      "outputs": [
        {
          "output_type": "execute_result",
          "data": {
            "text/html": [
              "<div>\n",
              "<style scoped>\n",
              "    .dataframe tbody tr th:only-of-type {\n",
              "        vertical-align: middle;\n",
              "    }\n",
              "\n",
              "    .dataframe tbody tr th {\n",
              "        vertical-align: top;\n",
              "    }\n",
              "\n",
              "    .dataframe thead th {\n",
              "        text-align: right;\n",
              "    }\n",
              "</style>\n",
              "<table border=\"1\" class=\"dataframe\">\n",
              "  <thead>\n",
              "    <tr style=\"text-align: right;\">\n",
              "      <th></th>\n",
              "      <th>x1</th>\n",
              "      <th>x2</th>\n",
              "    </tr>\n",
              "  </thead>\n",
              "  <tbody>\n",
              "    <tr>\n",
              "      <th>x1</th>\n",
              "      <td>1.0</td>\n",
              "      <td>-1.0</td>\n",
              "    </tr>\n",
              "    <tr>\n",
              "      <th>x2</th>\n",
              "      <td>-1.0</td>\n",
              "      <td>1.0</td>\n",
              "    </tr>\n",
              "  </tbody>\n",
              "</table>\n",
              "</div>"
            ],
            "text/plain": [
              "     x1   x2\n",
              "x1  1.0 -1.0\n",
              "x2 -1.0  1.0"
            ]
          },
          "metadata": {
            "tags": []
          },
          "execution_count": 98
        }
      ]
    },
    {
      "cell_type": "code",
      "metadata": {
        "id": "PfzXHB9wWHHn",
        "colab_type": "code",
        "colab": {
          "base_uri": "https://localhost:8080/",
          "height": 169
        },
        "outputId": "e3879b16-c6e9-43c1-e76a-9e88bdcff213"
      },
      "source": [
        "x1 = np.random.normal(0, 1, 1000)\n",
        "x2 = 3*x1\n",
        "x3 = 1.0/x1\n",
        "\n",
        "df = pd.DataFrame.from_dict({\n",
        "    'x1':x1,\n",
        "    'x2':x2,\n",
        "    'x3':x3\n",
        "})\n",
        "\n",
        "df.corr()"
      ],
      "execution_count": 99,
      "outputs": [
        {
          "output_type": "execute_result",
          "data": {
            "text/html": [
              "<div>\n",
              "<style scoped>\n",
              "    .dataframe tbody tr th:only-of-type {\n",
              "        vertical-align: middle;\n",
              "    }\n",
              "\n",
              "    .dataframe tbody tr th {\n",
              "        vertical-align: top;\n",
              "    }\n",
              "\n",
              "    .dataframe thead th {\n",
              "        text-align: right;\n",
              "    }\n",
              "</style>\n",
              "<table border=\"1\" class=\"dataframe\">\n",
              "  <thead>\n",
              "    <tr style=\"text-align: right;\">\n",
              "      <th></th>\n",
              "      <th>x1</th>\n",
              "      <th>x2</th>\n",
              "      <th>x3</th>\n",
              "    </tr>\n",
              "  </thead>\n",
              "  <tbody>\n",
              "    <tr>\n",
              "      <th>x1</th>\n",
              "      <td>1.000000</td>\n",
              "      <td>1.000000</td>\n",
              "      <td>0.006081</td>\n",
              "    </tr>\n",
              "    <tr>\n",
              "      <th>x2</th>\n",
              "      <td>1.000000</td>\n",
              "      <td>1.000000</td>\n",
              "      <td>0.006081</td>\n",
              "    </tr>\n",
              "    <tr>\n",
              "      <th>x3</th>\n",
              "      <td>0.006081</td>\n",
              "      <td>0.006081</td>\n",
              "      <td>1.000000</td>\n",
              "    </tr>\n",
              "  </tbody>\n",
              "</table>\n",
              "</div>"
            ],
            "text/plain": [
              "          x1        x2        x3\n",
              "x1  1.000000  1.000000  0.006081\n",
              "x2  1.000000  1.000000  0.006081\n",
              "x3  0.006081  0.006081  1.000000"
            ]
          },
          "metadata": {
            "tags": []
          },
          "execution_count": 99
        }
      ]
    },
    {
      "cell_type": "markdown",
      "metadata": {
        "id": "8DTPooLKQZjd",
        "colab_type": "text"
      },
      "source": [
        "### No linealidad"
      ]
    },
    {
      "cell_type": "code",
      "metadata": {
        "id": "rLsWnHQrdgOj",
        "colab_type": "code",
        "colab": {
          "base_uri": "https://localhost:8080/",
          "height": 300
        },
        "outputId": "e1eb0f96-878d-4f49-8d14-0b3f7156920a"
      },
      "source": [
        "  \n",
        "x1 = np.random.normal(0, 1, 1000)\n",
        "x2 = 3*x1 \n",
        "x3 = 1.0/x1 \n",
        "\n",
        "df = pd.DataFrame.from_dict({\n",
        "    'x1':x1,\n",
        "    'x2':x2,\n",
        "    'x3':x3\n",
        "})\n",
        "\n",
        "sns.lineplot(x=\"x1\", y=\"x3\", data=df)"
      ],
      "execution_count": 100,
      "outputs": [
        {
          "output_type": "execute_result",
          "data": {
            "text/plain": [
              "<matplotlib.axes._subplots.AxesSubplot at 0x7f5827da5e80>"
            ]
          },
          "metadata": {
            "tags": []
          },
          "execution_count": 100
        },
        {
          "output_type": "display_data",
          "data": {
            "image/png": "[encoded data removed]",
            "text/plain": [
              "<Figure size 432x288 with 1 Axes>"
            ]
          },
          "metadata": {
            "tags": []
          }
        }
      ]
    },
    {
      "cell_type": "code",
      "metadata": {
        "id": "_GXizpyJf6Wf",
        "colab_type": "code",
        "colab": {
          "base_uri": "https://localhost:8080/",
          "height": 451
        },
        "outputId": "f8ab89c7-1d71-4ac5-d912-7962624fdb24"
      },
      "source": [
        "x1 = np.random.normal(0, 1, 1000)\n",
        "x2 = np.random.normal(0, 1, 1000)\n",
        "x3 = 3*x1 + 1.0/x2 \n",
        "\n",
        "df = pd.DataFrame.from_dict({\n",
        "    'x1':x1,\n",
        "    'x2':x2,\n",
        "    'x3':x3\n",
        "})\n",
        "\n",
        "print(sns.lineplot(x=\"x1\", y=\"x3\", data=df))\n",
        "df.corr()\n",
        "\n"
      ],
      "execution_count": 101,
      "outputs": [
        {
          "output_type": "stream",
          "text": [
            "AxesSubplot(0.125,0.125;0.775x0.755)\n"
          ],
          "name": "stdout"
        },
        {
          "output_type": "execute_result",
          "data": {
            "text/html": [
              "<div>\n",
              "<style scoped>\n",
              "    .dataframe tbody tr th:only-of-type {\n",
              "        vertical-align: middle;\n",
              "    }\n",
              "\n",
              "    .dataframe tbody tr th {\n",
              "        vertical-align: top;\n",
              "    }\n",
              "\n",
              "    .dataframe thead th {\n",
              "        text-align: right;\n",
              "    }\n",
              "</style>\n",
              "<table border=\"1\" class=\"dataframe\">\n",
              "  <thead>\n",
              "    <tr style=\"text-align: right;\">\n",
              "      <th></th>\n",
              "      <th>x1</th>\n",
              "      <th>x2</th>\n",
              "      <th>x3</th>\n",
              "    </tr>\n",
              "  </thead>\n",
              "  <tbody>\n",
              "    <tr>\n",
              "      <th>x1</th>\n",
              "      <td>1.000000</td>\n",
              "      <td>-0.065175</td>\n",
              "      <td>0.057384</td>\n",
              "    </tr>\n",
              "    <tr>\n",
              "      <th>x2</th>\n",
              "      <td>-0.065175</td>\n",
              "      <td>1.000000</td>\n",
              "      <td>0.016182</td>\n",
              "    </tr>\n",
              "    <tr>\n",
              "      <th>x3</th>\n",
              "      <td>0.057384</td>\n",
              "      <td>0.016182</td>\n",
              "      <td>1.000000</td>\n",
              "    </tr>\n",
              "  </tbody>\n",
              "</table>\n",
              "</div>"
            ],
            "text/plain": [
              "          x1        x2        x3\n",
              "x1  1.000000 -0.065175  0.057384\n",
              "x2 -0.065175  1.000000  0.016182\n",
              "x3  0.057384  0.016182  1.000000"
            ]
          },
          "metadata": {
            "tags": []
          },
          "execution_count": 101
        },
        {
          "output_type": "display_data",
          "data": {
            "image/png": "[encoded data removed]",
            "text/plain": [
              "<Figure size 432x288 with 1 Axes>"
            ]
          },
          "metadata": {
            "tags": []
          }
        }
      ]
    },
    {
      "cell_type": "code",
      "metadata": {
        "id": "FmQgJPelh7-W",
        "colab_type": "code",
        "colab": {
          "base_uri": "https://localhost:8080/",
          "height": 451
        },
        "outputId": "ab0f6ad2-102d-4694-ed2a-a6e6e2dd1663"
      },
      "source": [
        "x1 = np.random.normal(0, 1, 1000)\n",
        "x2 = np.random.normal(0, 1, 1000)\n",
        "x3 = 1000*x1 + 10*(x2)\n",
        "\n",
        "df = pd.DataFrame.from_dict({\n",
        "    'x1':x1,\n",
        "    'x2':x2,\n",
        "    'x3':x3\n",
        "})\n",
        "\n",
        "print(sns.lineplot(x=\"x1\", y=\"x3\", data=df))\n",
        "df.corr()\n",
        "\n"
      ],
      "execution_count": 102,
      "outputs": [
        {
          "output_type": "stream",
          "text": [
            "AxesSubplot(0.125,0.125;0.775x0.755)\n"
          ],
          "name": "stdout"
        },
        {
          "output_type": "execute_result",
          "data": {
            "text/html": [
              "<div>\n",
              "<style scoped>\n",
              "    .dataframe tbody tr th:only-of-type {\n",
              "        vertical-align: middle;\n",
              "    }\n",
              "\n",
              "    .dataframe tbody tr th {\n",
              "        vertical-align: top;\n",
              "    }\n",
              "\n",
              "    .dataframe thead th {\n",
              "        text-align: right;\n",
              "    }\n",
              "</style>\n",
              "<table border=\"1\" class=\"dataframe\">\n",
              "  <thead>\n",
              "    <tr style=\"text-align: right;\">\n",
              "      <th></th>\n",
              "      <th>x1</th>\n",
              "      <th>x2</th>\n",
              "      <th>x3</th>\n",
              "    </tr>\n",
              "  </thead>\n",
              "  <tbody>\n",
              "    <tr>\n",
              "      <th>x1</th>\n",
              "      <td>1.000000</td>\n",
              "      <td>0.030438</td>\n",
              "      <td>0.999945</td>\n",
              "    </tr>\n",
              "    <tr>\n",
              "      <th>x2</th>\n",
              "      <td>0.030438</td>\n",
              "      <td>1.000000</td>\n",
              "      <td>0.040932</td>\n",
              "    </tr>\n",
              "    <tr>\n",
              "      <th>x3</th>\n",
              "      <td>0.999945</td>\n",
              "      <td>0.040932</td>\n",
              "      <td>1.000000</td>\n",
              "    </tr>\n",
              "  </tbody>\n",
              "</table>\n",
              "</div>"
            ],
            "text/plain": [
              "          x1        x2        x3\n",
              "x1  1.000000  0.030438  0.999945\n",
              "x2  0.030438  1.000000  0.040932\n",
              "x3  0.999945  0.040932  1.000000"
            ]
          },
          "metadata": {
            "tags": []
          },
          "execution_count": 102
        },
        {
          "output_type": "display_data",
          "data": {
            "image/png": "[encoded data removed]",
            "text/plain": [
              "<Figure size 432x288 with 1 Axes>"
            ]
          },
          "metadata": {
            "tags": []
          }
        }
      ]
    },
    {
      "cell_type": "code",
      "metadata": {
        "id": "Gwdruc3EnFMG",
        "colab_type": "code",
        "colab": {
          "base_uri": "https://localhost:8080/",
          "height": 300
        },
        "outputId": "4f745930-8336-49f8-909b-a16c97bcdd9f"
      },
      "source": [
        "print(sns.lineplot(x=\"x2\", y=\"x3\", data=df))"
      ],
      "execution_count": 103,
      "outputs": [
        {
          "output_type": "stream",
          "text": [
            "AxesSubplot(0.125,0.125;0.775x0.755)\n"
          ],
          "name": "stdout"
        },
        {
          "output_type": "display_data",
          "data": {
            "image/png": "[encoded data removed]",
            "text/plain": [
              "<Figure size 432x288 with 1 Axes>"
            ]
          },
          "metadata": {
            "tags": []
          }
        }
      ]
    },
    {
      "cell_type": "code",
      "metadata": {
        "id": "UB2uETCFgKLR",
        "colab_type": "code",
        "colab": {
          "base_uri": "https://localhost:8080/",
          "height": 300
        },
        "outputId": "64138396-e10e-4f77-df8e-342e89c91c84"
      },
      "source": [
        "x1 = np.random.normal(0, 1, 1000)\n",
        "x2 = np.random.normal(0, 1, 1000)\n",
        "x3 = 3*x1 + 1.0/x2 \n",
        "\n",
        "df = pd.DataFrame.from_dict({\n",
        "    'x1':x1,\n",
        "    'x2':x2,\n",
        "    'x3':x3\n",
        "})\n",
        "\n",
        "sns.lineplot(x=\"x1\", y=\"x3\", data=df)"
      ],
      "execution_count": 104,
      "outputs": [
        {
          "output_type": "execute_result",
          "data": {
            "text/plain": [
              "<matplotlib.axes._subplots.AxesSubplot at 0x7f5827f695c0>"
            ]
          },
          "metadata": {
            "tags": []
          },
          "execution_count": 104
        },
        {
          "output_type": "display_data",
          "data": {
            "image/png": "[encoded data removed]",
            "text/plain": [
              "<Figure size 432x288 with 1 Axes>"
            ]
          },
          "metadata": {
            "tags": []
          }
        }
      ]
    },
    {
      "cell_type": "code",
      "metadata": {
        "id": "5tV-j263XH1w",
        "colab_type": "code",
        "colab": {
          "base_uri": "https://localhost:8080/",
          "height": 131
        },
        "outputId": "abf923f8-08f5-45ac-c4d9-92b1318255cc"
      },
      "source": [
        "# Correlaciones en relaciones no lineales\n",
        "x1 = np.random.normal(0, 1, 1000)\n",
        "x2 = -1.0/x1\n",
        "\n",
        "df = pd.DataFrame.from_dict({\n",
        "    'x1':x1,\n",
        "    'x2':x2,\n",
        "})\n",
        "\n",
        "df.corr()"
      ],
      "execution_count": 105,
      "outputs": [
        {
          "output_type": "execute_result",
          "data": {
            "text/html": [
              "<div>\n",
              "<style scoped>\n",
              "    .dataframe tbody tr th:only-of-type {\n",
              "        vertical-align: middle;\n",
              "    }\n",
              "\n",
              "    .dataframe tbody tr th {\n",
              "        vertical-align: top;\n",
              "    }\n",
              "\n",
              "    .dataframe thead th {\n",
              "        text-align: right;\n",
              "    }\n",
              "</style>\n",
              "<table border=\"1\" class=\"dataframe\">\n",
              "  <thead>\n",
              "    <tr style=\"text-align: right;\">\n",
              "      <th></th>\n",
              "      <th>x1</th>\n",
              "      <th>x2</th>\n",
              "    </tr>\n",
              "  </thead>\n",
              "  <tbody>\n",
              "    <tr>\n",
              "      <th>x1</th>\n",
              "      <td>1.000000</td>\n",
              "      <td>-0.038364</td>\n",
              "    </tr>\n",
              "    <tr>\n",
              "      <th>x2</th>\n",
              "      <td>-0.038364</td>\n",
              "      <td>1.000000</td>\n",
              "    </tr>\n",
              "  </tbody>\n",
              "</table>\n",
              "</div>"
            ],
            "text/plain": [
              "          x1        x2\n",
              "x1  1.000000 -0.038364\n",
              "x2 -0.038364  1.000000"
            ]
          },
          "metadata": {
            "tags": []
          },
          "execution_count": 105
        }
      ]
    },
    {
      "cell_type": "markdown",
      "metadata": {
        "id": "nKHTE-6cRMAV",
        "colab_type": "text"
      },
      "source": [
        "### Correlacion y Covarianza"
      ]
    },
    {
      "cell_type": "markdown",
      "metadata": {
        "id": "GC2Eo0j1RQPr",
        "colab_type": "text"
      },
      "source": [
        "Piensa cual es mas facil de interpretar!"
      ]
    },
    {
      "cell_type": "code",
      "metadata": {
        "id": "KQt2HFFr770A",
        "colab_type": "code",
        "colab": {
          "base_uri": "https://localhost:8080/",
          "height": 163
        },
        "outputId": "de8e11b9-d3d4-4162-c8c4-817374754b45"
      },
      "source": [
        "# Variables que definen a Y\n",
        "x = np.random.normal(0, 1, 1000)\n",
        "z = np.random.normal(100, 10, 1000)\n",
        "\n",
        "# Y\n",
        "y = z**x\n",
        "\n",
        "print('Covarianza entre X & Y: ')\n",
        "print(np.cov(x,y))\n",
        "print('-------------------------------')\n",
        "print('Correlacion entre X & Y:')\n",
        "print(np.corrcoef(x,y))\n"
      ],
      "execution_count": 106,
      "outputs": [
        {
          "output_type": "stream",
          "text": [
            "Covarianza entre X & Y: \n",
            "[[1.03914715e+00 1.07473460e+06]\n",
            " [1.07473460e+06 6.86058060e+13]]\n",
            "-------------------------------\n",
            "Correlacion entre X & Y:\n",
            "[[1.         0.12728648]\n",
            " [0.12728648 1.        ]]\n"
          ],
          "name": "stdout"
        }
      ]
    },
    {
      "cell_type": "code",
      "metadata": {
        "id": "BVzjVvRT9sN4",
        "colab_type": "code",
        "colab": {
          "base_uri": "https://localhost:8080/",
          "height": 163
        },
        "outputId": "8c849600-3aa3-4d37-8121-b49841ba4a1f"
      },
      "source": [
        "# Variables que definen a Y\n",
        "x = np.random.normal(0, 1, 1000)\n",
        "z = np.random.normal(100, 10, 1000)\n",
        "\n",
        "# Y\n",
        "y = z*x\n",
        "\n",
        "print('Covarianza entre X & Y: ')\n",
        "print(np.cov(x,y))\n",
        "print('\\n Correlacion entre X & Y: ')\n",
        "print( np.corrcoef(x,y))\n"
      ],
      "execution_count": 107,
      "outputs": [
        {
          "output_type": "stream",
          "text": [
            "Covarianza entre X & Y: \n",
            "[[9.84295052e-01 9.86577906e+01]\n",
            " [9.86577906e+01 1.00024373e+04]]\n",
            "\n",
            " Correlacion entre X & Y: \n",
            "[[1.         0.99429628]\n",
            " [0.99429628 1.        ]]\n"
          ],
          "name": "stdout"
        }
      ]
    },
    {
      "cell_type": "markdown",
      "metadata": {
        "id": "jY-t4MFGRVHM",
        "colab_type": "text"
      },
      "source": [
        "# Tarea"
      ]
    },
    {
      "cell_type": "code",
      "metadata": {
        "id": "SX090RGcRXMl",
        "colab_type": "code",
        "colab": {
          "base_uri": "https://localhost:8080/",
          "height": 244
        },
        "outputId": "4eb7cc2f-d969-4ec2-b004-37719d116fc7"
      },
      "source": [
        "penguins = sns.load_dataset('penguins')\n",
        "penguins.head()"
      ],
      "execution_count": 108,
      "outputs": [
        {
          "output_type": "execute_result",
          "data": {
            "text/html": [
              "<div>\n",
              "<style scoped>\n",
              "    .dataframe tbody tr th:only-of-type {\n",
              "        vertical-align: middle;\n",
              "    }\n",
              "\n",
              "    .dataframe tbody tr th {\n",
              "        vertical-align: top;\n",
              "    }\n",
              "\n",
              "    .dataframe thead th {\n",
              "        text-align: right;\n",
              "    }\n",
              "</style>\n",
              "<table border=\"1\" class=\"dataframe\">\n",
              "  <thead>\n",
              "    <tr style=\"text-align: right;\">\n",
              "      <th></th>\n",
              "      <th>species</th>\n",
              "      <th>island</th>\n",
              "      <th>culmen_length_mm</th>\n",
              "      <th>culmen_depth_mm</th>\n",
              "      <th>flipper_length_mm</th>\n",
              "      <th>body_mass_g</th>\n",
              "      <th>sex</th>\n",
              "    </tr>\n",
              "  </thead>\n",
              "  <tbody>\n",
              "    <tr>\n",
              "      <th>0</th>\n",
              "      <td>Adelie</td>\n",
              "      <td>Torgersen</td>\n",
              "      <td>39.1</td>\n",
              "      <td>18.7</td>\n",
              "      <td>181.0</td>\n",
              "      <td>3750.0</td>\n",
              "      <td>MALE</td>\n",
              "    </tr>\n",
              "    <tr>\n",
              "      <th>1</th>\n",
              "      <td>Adelie</td>\n",
              "      <td>Torgersen</td>\n",
              "      <td>39.5</td>\n",
              "      <td>17.4</td>\n",
              "      <td>186.0</td>\n",
              "      <td>3800.0</td>\n",
              "      <td>FEMALE</td>\n",
              "    </tr>\n",
              "    <tr>\n",
              "      <th>2</th>\n",
              "      <td>Adelie</td>\n",
              "      <td>Torgersen</td>\n",
              "      <td>40.3</td>\n",
              "      <td>18.0</td>\n",
              "      <td>195.0</td>\n",
              "      <td>3250.0</td>\n",
              "      <td>FEMALE</td>\n",
              "    </tr>\n",
              "    <tr>\n",
              "      <th>3</th>\n",
              "      <td>Adelie</td>\n",
              "      <td>Torgersen</td>\n",
              "      <td>NaN</td>\n",
              "      <td>NaN</td>\n",
              "      <td>NaN</td>\n",
              "      <td>NaN</td>\n",
              "      <td>NaN</td>\n",
              "    </tr>\n",
              "    <tr>\n",
              "      <th>4</th>\n",
              "      <td>Adelie</td>\n",
              "      <td>Torgersen</td>\n",
              "      <td>36.7</td>\n",
              "      <td>19.3</td>\n",
              "      <td>193.0</td>\n",
              "      <td>3450.0</td>\n",
              "      <td>FEMALE</td>\n",
              "    </tr>\n",
              "  </tbody>\n",
              "</table>\n",
              "</div>"
            ],
            "text/plain": [
              "  species     island  culmen_length_mm  ...  flipper_length_mm  body_mass_g     sex\n",
              "0  Adelie  Torgersen              39.1  ...              181.0       3750.0    MALE\n",
              "1  Adelie  Torgersen              39.5  ...              186.0       3800.0  FEMALE\n",
              "2  Adelie  Torgersen              40.3  ...              195.0       3250.0  FEMALE\n",
              "3  Adelie  Torgersen               NaN  ...                NaN          NaN     NaN\n",
              "4  Adelie  Torgersen              36.7  ...              193.0       3450.0  FEMALE\n",
              "\n",
              "[5 rows x 7 columns]"
            ]
          },
          "metadata": {
            "tags": []
          },
          "execution_count": 108
        }
      ]
    },
    {
      "cell_type": "code",
      "metadata": {
        "id": "xMmOnVADRsID",
        "colab_type": "code",
        "colab": {
          "base_uri": "https://localhost:8080/",
          "height": 309
        },
        "outputId": "7cc9f3e3-294c-4929-c363-df392feadfa1"
      },
      "source": [
        "penguins.info()"
      ],
      "execution_count": 109,
      "outputs": [
        {
          "output_type": "stream",
          "text": [
            "<class 'pandas.core.frame.DataFrame'>\n",
            "RangeIndex: 344 entries, 0 to 343\n",
            "Data columns (total 7 columns):\n",
            " #   Column             Non-Null Count  Dtype  \n",
            "---  ------             --------------  -----  \n",
            " 0   species            344 non-null    object \n",
            " 1   island             344 non-null    object \n",
            " 2   culmen_length_mm   342 non-null    float64\n",
            " 3   culmen_depth_mm    342 non-null    float64\n",
            " 4   flipper_length_mm  342 non-null    float64\n",
            " 5   body_mass_g        342 non-null    float64\n",
            " 6   sex                333 non-null    object \n",
            "dtypes: float64(4), object(3)\n",
            "memory usage: 18.9+ KB\n"
          ],
          "name": "stdout"
        }
      ]
    },
    {
      "cell_type": "code",
      "metadata": {
        "id": "1lDaOAi9RzGc",
        "colab_type": "code",
        "colab": {
          "base_uri": "https://localhost:8080/",
          "height": 357
        },
        "outputId": "610a4cbb-8863-4c5f-ba61-c629470c1352"
      },
      "source": [
        "penguins.describe()"
      ],
      "execution_count": 110,
      "outputs": [
        {
          "output_type": "execute_result",
          "data": {
            "text/html": [
              "<div>\n",
              "<style scoped>\n",
              "    .dataframe tbody tr th:only-of-type {\n",
              "        vertical-align: middle;\n",
              "    }\n",
              "\n",
              "    .dataframe tbody tr th {\n",
              "        vertical-align: top;\n",
              "    }\n",
              "\n",
              "    .dataframe thead th {\n",
              "        text-align: right;\n",
              "    }\n",
              "</style>\n",
              "<table border=\"1\" class=\"dataframe\">\n",
              "  <thead>\n",
              "    <tr style=\"text-align: right;\">\n",
              "      <th></th>\n",
              "      <th>culmen_length_mm</th>\n",
              "      <th>culmen_depth_mm</th>\n",
              "      <th>flipper_length_mm</th>\n",
              "      <th>body_mass_g</th>\n",
              "    </tr>\n",
              "  </thead>\n",
              "  <tbody>\n",
              "    <tr>\n",
              "      <th>count</th>\n",
              "      <td>342.000000</td>\n",
              "      <td>342.000000</td>\n",
              "      <td>342.000000</td>\n",
              "      <td>342.000000</td>\n",
              "    </tr>\n",
              "    <tr>\n",
              "      <th>mean</th>\n",
              "      <td>43.921930</td>\n",
              "      <td>17.151170</td>\n",
              "      <td>200.915205</td>\n",
              "      <td>4201.754386</td>\n",
              "    </tr>\n",
              "    <tr>\n",
              "      <th>std</th>\n",
              "      <td>5.459584</td>\n",
              "      <td>1.974793</td>\n",
              "      <td>14.061714</td>\n",
              "      <td>801.954536</td>\n",
              "    </tr>\n",
              "    <tr>\n",
              "      <th>min</th>\n",
              "      <td>32.100000</td>\n",
              "      <td>13.100000</td>\n",
              "      <td>172.000000</td>\n",
              "      <td>2700.000000</td>\n",
              "    </tr>\n",
              "    <tr>\n",
              "      <th>25%</th>\n",
              "      <td>39.225000</td>\n",
              "      <td>15.600000</td>\n",
              "      <td>190.000000</td>\n",
              "      <td>3550.000000</td>\n",
              "    </tr>\n",
              "    <tr>\n",
              "      <th>50%</th>\n",
              "      <td>44.450000</td>\n",
              "      <td>17.300000</td>\n",
              "      <td>197.000000</td>\n",
              "      <td>4050.000000</td>\n",
              "    </tr>\n",
              "    <tr>\n",
              "      <th>75%</th>\n",
              "      <td>48.500000</td>\n",
              "      <td>18.700000</td>\n",
              "      <td>213.000000</td>\n",
              "      <td>4750.000000</td>\n",
              "    </tr>\n",
              "    <tr>\n",
              "      <th>max</th>\n",
              "      <td>59.600000</td>\n",
              "      <td>21.500000</td>\n",
              "      <td>231.000000</td>\n",
              "      <td>6300.000000</td>\n",
              "    </tr>\n",
              "  </tbody>\n",
              "</table>\n",
              "</div>"
            ],
            "text/plain": [
              "       culmen_length_mm  culmen_depth_mm  flipper_length_mm  body_mass_g\n",
              "count        342.000000       342.000000         342.000000   342.000000\n",
              "mean          43.921930        17.151170         200.915205  4201.754386\n",
              "std            5.459584         1.974793          14.061714   801.954536\n",
              "min           32.100000        13.100000         172.000000  2700.000000\n",
              "25%           39.225000        15.600000         190.000000  3550.000000\n",
              "50%           44.450000        17.300000         197.000000  4050.000000\n",
              "75%           48.500000        18.700000         213.000000  4750.000000\n",
              "max           59.600000        21.500000         231.000000  6300.000000"
            ]
          },
          "metadata": {
            "tags": []
          },
          "execution_count": 110
        }
      ]
    },
    {
      "cell_type": "code",
      "metadata": {
        "id": "3aXOm-DLR2wM",
        "colab_type": "code",
        "colab": {
          "base_uri": "https://localhost:8080/",
          "height": 80
        },
        "outputId": "ee40bf04-bd1c-4227-e299-eb498b6acd15"
      },
      "source": [
        "penguins.columns"
      ],
      "execution_count": 111,
      "outputs": [
        {
          "output_type": "execute_result",
          "data": {
            "text/plain": [
              "Index(['species', 'island', 'culmen_length_mm', 'culmen_depth_mm',\n",
              "       'flipper_length_mm', 'body_mass_g', 'sex'],\n",
              "      dtype='object')"
            ]
          },
          "metadata": {
            "tags": []
          },
          "execution_count": 111
        }
      ]
    },
    {
      "cell_type": "markdown",
      "metadata": {
        "id": "Ght8YcmMR4vn",
        "colab_type": "text"
      },
      "source": [
        "Hmmmmmm....  \n",
        "Tendemos mucho a usar estas funciones, talvez sea conveniente crear una funcion. Esto no solo nos ahorra tiempo, sino que nos ayudara a evitar errores, y a mejorar la \"redaccion\" de nuestro codigo."
      ]
    },
    {
      "cell_type": "code",
      "metadata": {
        "id": "rhK9N3c9R_ss",
        "colab_type": "code",
        "colab": {}
      },
      "source": [
        "def glimpse_df(df):\n",
        "  print('Head:')\n",
        "  print(df.head())\n",
        "  print('\\n Info: ')\n",
        "  print(df.info())\n",
        "  print('\\n Describe:')\n",
        "  print(df.describe())"
      ],
      "execution_count": 112,
      "outputs": []
    },
    {
      "cell_type": "code",
      "metadata": {
        "id": "kxDk61xJSKDz",
        "colab_type": "code",
        "colab": {
          "base_uri": "https://localhost:8080/",
          "height": 788
        },
        "outputId": "90481fd6-539a-44b1-a269-c1ebd6ee94ba"
      },
      "source": [
        "glimpse_df(penguins)"
      ],
      "execution_count": 113,
      "outputs": [
        {
          "output_type": "stream",
          "text": [
            "Head:\n",
            "  species     island  culmen_length_mm  ...  flipper_length_mm  body_mass_g     sex\n",
            "0  Adelie  Torgersen              39.1  ...              181.0       3750.0    MALE\n",
            "1  Adelie  Torgersen              39.5  ...              186.0       3800.0  FEMALE\n",
            "2  Adelie  Torgersen              40.3  ...              195.0       3250.0  FEMALE\n",
            "3  Adelie  Torgersen               NaN  ...                NaN          NaN     NaN\n",
            "4  Adelie  Torgersen              36.7  ...              193.0       3450.0  FEMALE\n",
            "\n",
            "[5 rows x 7 columns]\n",
            "\n",
            " Info: \n",
            "<class 'pandas.core.frame.DataFrame'>\n",
            "RangeIndex: 344 entries, 0 to 343\n",
            "Data columns (total 7 columns):\n",
            " #   Column             Non-Null Count  Dtype  \n",
            "---  ------             --------------  -----  \n",
            " 0   species            344 non-null    object \n",
            " 1   island             344 non-null    object \n",
            " 2   culmen_length_mm   342 non-null    float64\n",
            " 3   culmen_depth_mm    342 non-null    float64\n",
            " 4   flipper_length_mm  342 non-null    float64\n",
            " 5   body_mass_g        342 non-null    float64\n",
            " 6   sex                333 non-null    object \n",
            "dtypes: float64(4), object(3)\n",
            "memory usage: 18.9+ KB\n",
            "None\n",
            "\n",
            " Describe:\n",
            "       culmen_length_mm  culmen_depth_mm  flipper_length_mm  body_mass_g\n",
            "count        342.000000       342.000000         342.000000   342.000000\n",
            "mean          43.921930        17.151170         200.915205  4201.754386\n",
            "std            5.459584         1.974793          14.061714   801.954536\n",
            "min           32.100000        13.100000         172.000000  2700.000000\n",
            "25%           39.225000        15.600000         190.000000  3550.000000\n",
            "50%           44.450000        17.300000         197.000000  4050.000000\n",
            "75%           48.500000        18.700000         213.000000  4750.000000\n",
            "max           59.600000        21.500000         231.000000  6300.000000\n"
          ],
          "name": "stdout"
        }
      ]
    },
    {
      "cell_type": "code",
      "metadata": {
        "id": "Mpvv21GQTAM4",
        "colab_type": "code",
        "colab": {
          "base_uri": "https://localhost:8080/",
          "height": 206
        },
        "outputId": "a384aeda-6cc0-43ad-bb37-bce9b5c399be"
      },
      "source": [
        "penguins.corr()"
      ],
      "execution_count": 114,
      "outputs": [
        {
          "output_type": "execute_result",
          "data": {
            "text/html": [
              "<div>\n",
              "<style scoped>\n",
              "    .dataframe tbody tr th:only-of-type {\n",
              "        vertical-align: middle;\n",
              "    }\n",
              "\n",
              "    .dataframe tbody tr th {\n",
              "        vertical-align: top;\n",
              "    }\n",
              "\n",
              "    .dataframe thead th {\n",
              "        text-align: right;\n",
              "    }\n",
              "</style>\n",
              "<table border=\"1\" class=\"dataframe\">\n",
              "  <thead>\n",
              "    <tr style=\"text-align: right;\">\n",
              "      <th></th>\n",
              "      <th>culmen_length_mm</th>\n",
              "      <th>culmen_depth_mm</th>\n",
              "      <th>flipper_length_mm</th>\n",
              "      <th>body_mass_g</th>\n",
              "    </tr>\n",
              "  </thead>\n",
              "  <tbody>\n",
              "    <tr>\n",
              "      <th>culmen_length_mm</th>\n",
              "      <td>1.000000</td>\n",
              "      <td>-0.235053</td>\n",
              "      <td>0.656181</td>\n",
              "      <td>0.595110</td>\n",
              "    </tr>\n",
              "    <tr>\n",
              "      <th>culmen_depth_mm</th>\n",
              "      <td>-0.235053</td>\n",
              "      <td>1.000000</td>\n",
              "      <td>-0.583851</td>\n",
              "      <td>-0.471916</td>\n",
              "    </tr>\n",
              "    <tr>\n",
              "      <th>flipper_length_mm</th>\n",
              "      <td>0.656181</td>\n",
              "      <td>-0.583851</td>\n",
              "      <td>1.000000</td>\n",
              "      <td>0.871202</td>\n",
              "    </tr>\n",
              "    <tr>\n",
              "      <th>body_mass_g</th>\n",
              "      <td>0.595110</td>\n",
              "      <td>-0.471916</td>\n",
              "      <td>0.871202</td>\n",
              "      <td>1.000000</td>\n",
              "    </tr>\n",
              "  </tbody>\n",
              "</table>\n",
              "</div>"
            ],
            "text/plain": [
              "                   culmen_length_mm  ...  body_mass_g\n",
              "culmen_length_mm           1.000000  ...     0.595110\n",
              "culmen_depth_mm           -0.235053  ...    -0.471916\n",
              "flipper_length_mm          0.656181  ...     0.871202\n",
              "body_mass_g                0.595110  ...     1.000000\n",
              "\n",
              "[4 rows x 4 columns]"
            ]
          },
          "metadata": {
            "tags": []
          },
          "execution_count": 114
        }
      ]
    },
    {
      "cell_type": "markdown",
      "metadata": {
        "id": "C7N_wyS2TS8Z",
        "colab_type": "text"
      },
      "source": [
        "## Observa las correlaciones anteriores.  \n",
        "Que relaciones hay entre cada una de las variables?  "
      ]
    },
    {
      "cell_type": "markdown",
      "metadata": {
        "id": "SI8rby6yjCBp",
        "colab_type": "text"
      },
      "source": [
        "## Correlaciones Categoricas y Ordinales"
      ]
    },
    {
      "cell_type": "markdown",
      "metadata": {
        "id": "cUTUqnVWjGYh",
        "colab_type": "text"
      },
      "source": [
        "Que pasa si queremos obtener una correlacion con variables ordinales?"
      ]
    },
    {
      "cell_type": "code",
      "metadata": {
        "id": "9uSXtKSjltMp",
        "colab_type": "code",
        "colab": {
          "base_uri": "https://localhost:8080/",
          "height": 244
        },
        "outputId": "55e64ab2-9f46-48ba-d083-5931dc3ae051"
      },
      "source": [
        "penguins.replace({'MALE':0, 'FEMALE':1, np.nan:2}).corr()"
      ],
      "execution_count": 117,
      "outputs": [
        {
          "output_type": "execute_result",
          "data": {
            "text/html": [
              "<div>\n",
              "<style scoped>\n",
              "    .dataframe tbody tr th:only-of-type {\n",
              "        vertical-align: middle;\n",
              "    }\n",
              "\n",
              "    .dataframe tbody tr th {\n",
              "        vertical-align: top;\n",
              "    }\n",
              "\n",
              "    .dataframe thead th {\n",
              "        text-align: right;\n",
              "    }\n",
              "</style>\n",
              "<table border=\"1\" class=\"dataframe\">\n",
              "  <thead>\n",
              "    <tr style=\"text-align: right;\">\n",
              "      <th></th>\n",
              "      <th>culmen_length_mm</th>\n",
              "      <th>culmen_depth_mm</th>\n",
              "      <th>flipper_length_mm</th>\n",
              "      <th>body_mass_g</th>\n",
              "      <th>sex</th>\n",
              "    </tr>\n",
              "  </thead>\n",
              "  <tbody>\n",
              "    <tr>\n",
              "      <th>culmen_length_mm</th>\n",
              "      <td>1.000000</td>\n",
              "      <td>0.080732</td>\n",
              "      <td>0.755716</td>\n",
              "      <td>0.664478</td>\n",
              "      <td>-0.388500</td>\n",
              "    </tr>\n",
              "    <tr>\n",
              "      <th>culmen_depth_mm</th>\n",
              "      <td>0.080732</td>\n",
              "      <td>1.000000</td>\n",
              "      <td>0.028718</td>\n",
              "      <td>-0.190377</td>\n",
              "      <td>-0.395065</td>\n",
              "    </tr>\n",
              "    <tr>\n",
              "      <th>flipper_length_mm</th>\n",
              "      <td>0.755716</td>\n",
              "      <td>0.028718</td>\n",
              "      <td>1.000000</td>\n",
              "      <td>0.822006</td>\n",
              "      <td>-0.302983</td>\n",
              "    </tr>\n",
              "    <tr>\n",
              "      <th>body_mass_g</th>\n",
              "      <td>0.664478</td>\n",
              "      <td>-0.190377</td>\n",
              "      <td>0.822006</td>\n",
              "      <td>1.000000</td>\n",
              "      <td>-0.434375</td>\n",
              "    </tr>\n",
              "    <tr>\n",
              "      <th>sex</th>\n",
              "      <td>-0.388500</td>\n",
              "      <td>-0.395065</td>\n",
              "      <td>-0.302983</td>\n",
              "      <td>-0.434375</td>\n",
              "      <td>1.000000</td>\n",
              "    </tr>\n",
              "  </tbody>\n",
              "</table>\n",
              "</div>"
            ],
            "text/plain": [
              "                   culmen_length_mm  culmen_depth_mm  ...  body_mass_g       sex\n",
              "culmen_length_mm           1.000000         0.080732  ...     0.664478 -0.388500\n",
              "culmen_depth_mm            0.080732         1.000000  ...    -0.190377 -0.395065\n",
              "flipper_length_mm          0.755716         0.028718  ...     0.822006 -0.302983\n",
              "body_mass_g                0.664478        -0.190377  ...     1.000000 -0.434375\n",
              "sex                       -0.388500        -0.395065  ...    -0.434375  1.000000\n",
              "\n",
              "[5 rows x 5 columns]"
            ]
          },
          "metadata": {
            "tags": []
          },
          "execution_count": 117
        }
      ]
    },
    {
      "cell_type": "markdown",
      "metadata": {
        "id": "zNtXFiXBl81x",
        "colab_type": "text"
      },
      "source": [
        "Observemos que pasa si utilizamos otra codificacion/encoding valido para nuestra viariable categorica.\n"
      ]
    },
    {
      "cell_type": "code",
      "metadata": {
        "id": "SSnORJ2jm5f_",
        "colab_type": "code",
        "colab": {
          "base_uri": "https://localhost:8080/",
          "height": 206
        },
        "outputId": "6b0606b7-bf8c-4783-ebaa-df6f1e917721"
      },
      "source": [
        "penguins.replace({'MALE':2, 'FEMALE':1, np.nan:0}).corr()"
      ],
      "execution_count": 118,
      "outputs": [
        {
          "output_type": "execute_result",
          "data": {
            "text/html": [
              "<div>\n",
              "<style scoped>\n",
              "    .dataframe tbody tr th:only-of-type {\n",
              "        vertical-align: middle;\n",
              "    }\n",
              "\n",
              "    .dataframe tbody tr th {\n",
              "        vertical-align: top;\n",
              "    }\n",
              "\n",
              "    .dataframe thead th {\n",
              "        text-align: right;\n",
              "    }\n",
              "</style>\n",
              "<table border=\"1\" class=\"dataframe\">\n",
              "  <thead>\n",
              "    <tr style=\"text-align: right;\">\n",
              "      <th></th>\n",
              "      <th>culmen_length_mm</th>\n",
              "      <th>culmen_depth_mm</th>\n",
              "      <th>flipper_length_mm</th>\n",
              "      <th>body_mass_g</th>\n",
              "      <th>sex</th>\n",
              "    </tr>\n",
              "  </thead>\n",
              "  <tbody>\n",
              "    <tr>\n",
              "      <th>culmen_length_mm</th>\n",
              "      <td>1.000000</td>\n",
              "      <td>0.122394</td>\n",
              "      <td>0.763654</td>\n",
              "      <td>0.665226</td>\n",
              "      <td>0.388487</td>\n",
              "    </tr>\n",
              "    <tr>\n",
              "      <th>culmen_depth_mm</th>\n",
              "      <td>0.122394</td>\n",
              "      <td>1.000000</td>\n",
              "      <td>0.078684</td>\n",
              "      <td>-0.159841</td>\n",
              "      <td>0.394433</td>\n",
              "    </tr>\n",
              "    <tr>\n",
              "      <th>flipper_length_mm</th>\n",
              "      <td>0.763654</td>\n",
              "      <td>0.078684</td>\n",
              "      <td>1.000000</td>\n",
              "      <td>0.820371</td>\n",
              "      <td>0.302811</td>\n",
              "    </tr>\n",
              "    <tr>\n",
              "      <th>body_mass_g</th>\n",
              "      <td>0.665226</td>\n",
              "      <td>-0.159841</td>\n",
              "      <td>0.820371</td>\n",
              "      <td>1.000000</td>\n",
              "      <td>0.434382</td>\n",
              "    </tr>\n",
              "    <tr>\n",
              "      <th>sex</th>\n",
              "      <td>0.388487</td>\n",
              "      <td>0.394433</td>\n",
              "      <td>0.302811</td>\n",
              "      <td>0.434382</td>\n",
              "      <td>1.000000</td>\n",
              "    </tr>\n",
              "  </tbody>\n",
              "</table>\n",
              "</div>"
            ],
            "text/plain": [
              "                   culmen_length_mm  culmen_depth_mm  ...  body_mass_g       sex\n",
              "culmen_length_mm           1.000000         0.122394  ...     0.665226  0.388487\n",
              "culmen_depth_mm            0.122394         1.000000  ...    -0.159841  0.394433\n",
              "flipper_length_mm          0.763654         0.078684  ...     0.820371  0.302811\n",
              "body_mass_g                0.665226        -0.159841  ...     1.000000  0.434382\n",
              "sex                        0.388487         0.394433  ...     0.434382  1.000000\n",
              "\n",
              "[5 rows x 5 columns]"
            ]
          },
          "metadata": {
            "tags": []
          },
          "execution_count": 118
        }
      ]
    },
    {
      "cell_type": "code",
      "metadata": {
        "id": "tHXCPiSpl5QS",
        "colab_type": "code",
        "colab": {
          "base_uri": "https://localhost:8080/",
          "height": 244
        },
        "outputId": "9db083a8-0e7d-42c4-b945-214aa55cd25a"
      },
      "source": [
        "penguins.replace({'MALE':-1000, 'FEMALE':1, np.nan:1000}).corr()"
      ],
      "execution_count": 119,
      "outputs": [
        {
          "output_type": "execute_result",
          "data": {
            "text/html": [
              "<div>\n",
              "<style scoped>\n",
              "    .dataframe tbody tr th:only-of-type {\n",
              "        vertical-align: middle;\n",
              "    }\n",
              "\n",
              "    .dataframe tbody tr th {\n",
              "        vertical-align: top;\n",
              "    }\n",
              "\n",
              "    .dataframe thead th {\n",
              "        text-align: right;\n",
              "    }\n",
              "</style>\n",
              "<table border=\"1\" class=\"dataframe\">\n",
              "  <thead>\n",
              "    <tr style=\"text-align: right;\">\n",
              "      <th></th>\n",
              "      <th>culmen_length_mm</th>\n",
              "      <th>culmen_depth_mm</th>\n",
              "      <th>flipper_length_mm</th>\n",
              "      <th>body_mass_g</th>\n",
              "      <th>sex</th>\n",
              "    </tr>\n",
              "  </thead>\n",
              "  <tbody>\n",
              "    <tr>\n",
              "      <th>culmen_length_mm</th>\n",
              "      <td>1.000000</td>\n",
              "      <td>0.996409</td>\n",
              "      <td>0.982735</td>\n",
              "      <td>-0.248353</td>\n",
              "      <td>0.173743</td>\n",
              "    </tr>\n",
              "    <tr>\n",
              "      <th>culmen_depth_mm</th>\n",
              "      <td>0.996409</td>\n",
              "      <td>1.000000</td>\n",
              "      <td>0.970674</td>\n",
              "      <td>-0.303388</td>\n",
              "      <td>0.190126</td>\n",
              "    </tr>\n",
              "    <tr>\n",
              "      <th>flipper_length_mm</th>\n",
              "      <td>0.982735</td>\n",
              "      <td>0.970674</td>\n",
              "      <td>1.000000</td>\n",
              "      <td>-0.097032</td>\n",
              "      <td>0.142277</td>\n",
              "    </tr>\n",
              "    <tr>\n",
              "      <th>body_mass_g</th>\n",
              "      <td>-0.248353</td>\n",
              "      <td>-0.303388</td>\n",
              "      <td>-0.097032</td>\n",
              "      <td>1.000000</td>\n",
              "      <td>-0.429392</td>\n",
              "    </tr>\n",
              "    <tr>\n",
              "      <th>sex</th>\n",
              "      <td>0.173743</td>\n",
              "      <td>0.190126</td>\n",
              "      <td>0.142277</td>\n",
              "      <td>-0.429392</td>\n",
              "      <td>1.000000</td>\n",
              "    </tr>\n",
              "  </tbody>\n",
              "</table>\n",
              "</div>"
            ],
            "text/plain": [
              "                   culmen_length_mm  culmen_depth_mm  ...  body_mass_g       sex\n",
              "culmen_length_mm           1.000000         0.996409  ...    -0.248353  0.173743\n",
              "culmen_depth_mm            0.996409         1.000000  ...    -0.303388  0.190126\n",
              "flipper_length_mm          0.982735         0.970674  ...    -0.097032  0.142277\n",
              "body_mass_g               -0.248353        -0.303388  ...     1.000000 -0.429392\n",
              "sex                        0.173743         0.190126  ...    -0.429392  1.000000\n",
              "\n",
              "[5 rows x 5 columns]"
            ]
          },
          "metadata": {
            "tags": []
          },
          "execution_count": 119
        }
      ]
    },
    {
      "cell_type": "markdown",
      "metadata": {
        "id": "vE5uhQrlnA23",
        "colab_type": "text"
      },
      "source": [
        "Como podemos observar el coeficiente de correlacion cambia sustancialmente dependiendo de la codificacion que utilizemos."
      ]
    }
  ]
}