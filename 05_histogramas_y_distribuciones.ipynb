{
  "nbformat": 4,
  "nbformat_minor": 0,
  "metadata": {
    "colab": {
      "name": "05_histogramas_y_distribuciones",
      "provenance": [],
      "collapsed_sections": []
    },
    "kernelspec": {
      "name": "python3",
      "display_name": "Python 3"
    }
  },
  "cells": [
    {
      "cell_type": "code",
      "metadata": {
        "id": "pxvlZY9wE77X",
        "colab_type": "code",
        "colab": {}
      },
      "source": [
        "# Importo las librerias que usare en este notebook\n",
        "import pandas as pd\n",
        "import numpy as np\n",
        "import datetime\n",
        "\n",
        "import matplotlib.pyplot as plt\n",
        "%matplotlib inline\n",
        "import seaborn as sns\n",
        "sns.set_style('darkgrid')\n"
      ],
      "execution_count": 2,
      "outputs": []
    },
    {
      "cell_type": "markdown",
      "metadata": {
        "id": "LdnpSG5o7bRw",
        "colab_type": "text"
      },
      "source": [
        "# Seccion 1"
      ]
    },
    {
      "cell_type": "markdown",
      "metadata": {
        "id": "fDqOnDnK7pnK",
        "colab_type": "text"
      },
      "source": [
        "### Repasemos algunas propiedades de los estadisticos\n",
        "Si lo deseas puedes reviar la documentacion de Numpy y ver las caracteristicas de la funcion normal: https://numpy.org/doc/stable/reference/random/generated/numpy.random.normal.html"
      ]
    },
    {
      "cell_type": "code",
      "metadata": {
        "id": "v4Yv9ZMN-U0C",
        "colab_type": "code",
        "colab": {}
      },
      "source": [
        "def statistics(x):\n",
        "  print('Media Muestral: ',x.mean())\n",
        "  print('Varianza Muestral: ',x.var())"
      ],
      "execution_count": 15,
      "outputs": []
    },
    {
      "cell_type": "code",
      "metadata": {
        "id": "OFR_Nccz7h6o",
        "colab_type": "code",
        "colab": {
          "base_uri": "https://localhost:8080/",
          "height": 80
        },
        "outputId": "a90fbe25-28e3-4fcb-de8b-7e95802455cc"
      },
      "source": [
        "# Crear la semilla\n",
        "np.random.seed(3245)\n",
        "n= 1000\n",
        "# x~Normal(0,1)\n",
        "x = np.random.normal(loc=0, scale=1, size=n)\n",
        "print('Normal(0,1)')\n",
        "statistics(x)\n"
      ],
      "execution_count": 16,
      "outputs": [
        {
          "output_type": "stream",
          "text": [
            "Normal(0,1)\n",
            "Media Muestral:  0.006479187983895233\n",
            "Varianza Muestral:  0.9956471749641369\n"
          ],
          "name": "stdout"
        }
      ]
    },
    {
      "cell_type": "markdown",
      "metadata": {
        "id": "RVzgqPV3-N5F",
        "colab_type": "text"
      },
      "source": [
        "#### Que pasa si multiplicamos x por una constante C?\n",
        "Te recomendamos jugar en este laboratorio con las constante, y ver que pasa con los estadisticos."
      ]
    },
    {
      "cell_type": "code",
      "metadata": {
        "id": "z7Qi_JSx_gDx",
        "colab_type": "code",
        "colab": {
          "base_uri": "https://localhost:8080/",
          "height": 246
        },
        "outputId": "71488422-5557-4e93-ab32-01ed903e20a3"
      },
      "source": [
        "print('C = 10')\n",
        "statistics(10*x)\n",
        "\n",
        "print()\n",
        "print('C = -1')\n",
        "statistics(-1*x)\n",
        "\n",
        "print()\n",
        "print('C = 0')\n",
        "statistics(0*x)"
      ],
      "execution_count": 19,
      "outputs": [
        {
          "output_type": "stream",
          "text": [
            "C = 10\n",
            "Media Muestral:  0.06479187983895232\n",
            "Varianza Muestral:  99.56471749641368\n",
            "\n",
            "C = -1\n",
            "Media Muestral:  -0.006479187983895233\n",
            "Varianza Muestral:  0.9956471749641369\n",
            "\n",
            "C = 0\n",
            "Media Muestral:  0.0\n",
            "Varianza Muestral:  0.0\n"
          ],
          "name": "stdout"
        }
      ]
    },
    {
      "cell_type": "markdown",
      "metadata": {
        "id": "39YhwjPYCZ-6",
        "colab_type": "text"
      },
      "source": [
        "### Que pasa si x es igual a una constante?\n"
      ]
    },
    {
      "cell_type": "code",
      "metadata": {
        "id": "gpP2jJkLCkti",
        "colab_type": "code",
        "colab": {
          "base_uri": "https://localhost:8080/",
          "height": 142
        },
        "outputId": "b9e2bfae-412c-4c37-8b7f-559c89e9c833"
      },
      "source": [
        "print(' x = constante')\n",
        "statistics(np.array([100]*1000))\n",
        "\n",
        "\n",
        "print(' x = constante')\n",
        "statistics(np.array([-1]*1000))"
      ],
      "execution_count": 21,
      "outputs": [
        {
          "output_type": "stream",
          "text": [
            " x = constante\n",
            "Media Muestral:  100.0\n",
            "Varianza Muestral:  0.0\n",
            " x = constante\n",
            "Media Muestral:  -1.0\n",
            "Varianza Muestral:  0.0\n"
          ],
          "name": "stdout"
        }
      ]
    },
    {
      "cell_type": "markdown",
      "metadata": {
        "id": "6n9ILxsfDgXx",
        "colab_type": "text"
      },
      "source": [
        "Una varianza igual a cero implica que la variable es una constante?\n",
        "\n",
        "La respuesta es si!"
      ]
    },
    {
      "cell_type": "markdown",
      "metadata": {
        "id": "-Zyxvoe4FuAV",
        "colab_type": "text"
      },
      "source": [
        "### Observemos que pasa con los boxplots cuando multiplicamos por una constante a x"
      ]
    },
    {
      "cell_type": "code",
      "metadata": {
        "id": "DeKjzEwoE7O_",
        "colab_type": "code",
        "colab": {
          "base_uri": "https://localhost:8080/",
          "height": 314
        },
        "outputId": "a1526e5e-92df-43c9-faf9-883e4add64b9"
      },
      "source": [
        "print('Boxplot Normal(0,1)')\n",
        "sns.boxplot(x)"
      ],
      "execution_count": 24,
      "outputs": [
        {
          "output_type": "stream",
          "text": [
            "Boxplot Normal(0,1)\n"
          ],
          "name": "stdout"
        },
        {
          "output_type": "execute_result",
          "data": {
            "text/plain": [
              "<matplotlib.axes._subplots.AxesSubplot at 0x7f8c09ab1080>"
            ]
          },
          "metadata": {
            "tags": []
          },
          "execution_count": 24
        },
        {
          "output_type": "display_data",
          "data": {
            "image/png": "[encoded data removed]",
            "text/plain": [
              "<Figure size 432x288 with 1 Axes>"
            ]
          },
          "metadata": {
            "tags": []
          }
        }
      ]
    },
    {
      "cell_type": "code",
      "metadata": {
        "id": "YR8PbtwjFDPO",
        "colab_type": "code",
        "colab": {
          "base_uri": "https://localhost:8080/",
          "height": 307
        },
        "outputId": "2cc81098-505f-457d-e036-191b06c19278"
      },
      "source": [
        "print('Boxplot Normal(0,10)')\n",
        "sns.boxplot(x*10)"
      ],
      "execution_count": 25,
      "outputs": [
        {
          "output_type": "stream",
          "text": [
            "Boxplot Normal(0,1)\n"
          ],
          "name": "stdout"
        },
        {
          "output_type": "execute_result",
          "data": {
            "text/plain": [
              "<matplotlib.axes._subplots.AxesSubplot at 0x7f8c07b8b6a0>"
            ]
          },
          "metadata": {
            "tags": []
          },
          "execution_count": 25
        },
        {
          "output_type": "display_data",
          "data": {
            "image/png": "[encoded data removed]",
            "text/plain": [
              "<Figure size 432x288 with 1 Axes>"
            ]
          },
          "metadata": {
            "tags": []
          }
        }
      ]
    },
    {
      "cell_type": "code",
      "metadata": {
        "id": "PlkLizIWFIBI",
        "colab_type": "code",
        "colab": {
          "base_uri": "https://localhost:8080/",
          "height": 307
        },
        "outputId": "9c095ffd-36cb-46f0-d056-e55c89ac19aa"
      },
      "source": [
        "print('Boxplot Normal(0,.1)')\n",
        "sns.boxplot(x*.01)"
      ],
      "execution_count": 26,
      "outputs": [
        {
          "output_type": "stream",
          "text": [
            "Boxplot Normal(0,1)\n"
          ],
          "name": "stdout"
        },
        {
          "output_type": "execute_result",
          "data": {
            "text/plain": [
              "<matplotlib.axes._subplots.AxesSubplot at 0x7f8c07aed160>"
            ]
          },
          "metadata": {
            "tags": []
          },
          "execution_count": 26
        },
        {
          "output_type": "display_data",
          "data": {
            "image/png": "[encoded data removed]",
            "text/plain": [
              "<Figure size 432x288 with 1 Axes>"
            ]
          },
          "metadata": {
            "tags": []
          }
        }
      ]
    },
    {
      "cell_type": "code",
      "metadata": {
        "id": "i5W7c5zhKR2M",
        "colab_type": "code",
        "colab": {
          "base_uri": "https://localhost:8080/",
          "height": 314
        },
        "outputId": "3c023ff9-7d83-4a7b-ec2e-9b2322af32c2"
      },
      "source": [
        "print('Boxplot Normal(-10,1)')\n",
        "sns.boxplot(x-10)"
      ],
      "execution_count": 67,
      "outputs": [
        {
          "output_type": "stream",
          "text": [
            "Boxplot Normal(-10,1)\n"
          ],
          "name": "stdout"
        },
        {
          "output_type": "execute_result",
          "data": {
            "text/plain": [
              "<matplotlib.axes._subplots.AxesSubplot at 0x7f8c06ef9ba8>"
            ]
          },
          "metadata": {
            "tags": []
          },
          "execution_count": 67
        },
        {
          "output_type": "display_data",
          "data": {
            "image/png": "[encoded data removed]",
            "text/plain": [
              "<Figure size 432x288 with 1 Axes>"
            ]
          },
          "metadata": {
            "tags": []
          }
        }
      ]
    },
    {
      "cell_type": "markdown",
      "metadata": {
        "id": "Ug2jiRccF1mH",
        "colab_type": "text"
      },
      "source": [
        "### Que pasa con el boxplot si aplicamos una transformacion (una funcion) a x?\n",
        "\n",
        "Piensalo detenidamente. La forma del boxplot cambiara?"
      ]
    },
    {
      "cell_type": "code",
      "metadata": {
        "id": "BFlRQ6NiFUan",
        "colab_type": "code",
        "colab": {
          "base_uri": "https://localhost:8080/",
          "height": 355
        },
        "outputId": "095a2455-a0fc-4c54-a200-af35187f4aa8"
      },
      "source": [
        "print('Sqrt(x)')\n",
        "sns.boxplot(np.sqrt(x))"
      ],
      "execution_count": 31,
      "outputs": [
        {
          "output_type": "stream",
          "text": [
            "Sqrt(x)\n"
          ],
          "name": "stdout"
        },
        {
          "output_type": "stream",
          "text": [
            "/usr/local/lib/python3.6/dist-packages/ipykernel_launcher.py:2: RuntimeWarning: invalid value encountered in sqrt\n",
            "  \n"
          ],
          "name": "stderr"
        },
        {
          "output_type": "execute_result",
          "data": {
            "text/plain": [
              "<matplotlib.axes._subplots.AxesSubplot at 0x7f8c07a1ac88>"
            ]
          },
          "metadata": {
            "tags": []
          },
          "execution_count": 31
        },
        {
          "output_type": "display_data",
          "data": {
            "image/png": "[encoded data removed]",
            "text/plain": [
              "<Figure size 432x288 with 1 Axes>"
            ]
          },
          "metadata": {
            "tags": []
          }
        }
      ]
    },
    {
      "cell_type": "code",
      "metadata": {
        "id": "U_MwKnQYGM1G",
        "colab_type": "code",
        "colab": {
          "base_uri": "https://localhost:8080/",
          "height": 314
        },
        "outputId": "9ac7d70f-16f6-4b13-8ca6-41ae066ab3a1"
      },
      "source": [
        "print('x^2')\n",
        "sns.boxplot(np.power(x,2))"
      ],
      "execution_count": 33,
      "outputs": [
        {
          "output_type": "stream",
          "text": [
            "x^2\n"
          ],
          "name": "stdout"
        },
        {
          "output_type": "execute_result",
          "data": {
            "text/plain": [
              "<matplotlib.axes._subplots.AxesSubplot at 0x7f8c079624e0>"
            ]
          },
          "metadata": {
            "tags": []
          },
          "execution_count": 33
        },
        {
          "output_type": "display_data",
          "data": {
            "image/png": "[encoded data removed]",
            "text/plain": [
              "<Figure size 432x288 with 1 Axes>"
            ]
          },
          "metadata": {
            "tags": []
          }
        }
      ]
    },
    {
      "cell_type": "code",
      "metadata": {
        "id": "Jdh5oXioGX51",
        "colab_type": "code",
        "colab": {
          "base_uri": "https://localhost:8080/",
          "height": 307
        },
        "outputId": "c52c1ff3-4095-492d-98bd-13acd2b5ea9c"
      },
      "source": [
        "print('x^3')\n",
        "sns.boxplot(np.power(x,2))"
      ],
      "execution_count": 34,
      "outputs": [
        {
          "output_type": "stream",
          "text": [
            "x^3\n"
          ],
          "name": "stdout"
        },
        {
          "output_type": "execute_result",
          "data": {
            "text/plain": [
              "<matplotlib.axes._subplots.AxesSubplot at 0x7f8c078c10f0>"
            ]
          },
          "metadata": {
            "tags": []
          },
          "execution_count": 34
        },
        {
          "output_type": "display_data",
          "data": {
            "image/png": "[encoded data removed]",
            "text/plain": [
              "<Figure size 432x288 with 1 Axes>"
            ]
          },
          "metadata": {
            "tags": []
          }
        }
      ]
    },
    {
      "cell_type": "code",
      "metadata": {
        "id": "afvxA50yGcuh",
        "colab_type": "code",
        "colab": {
          "base_uri": "https://localhost:8080/",
          "height": 314
        },
        "outputId": "67a0f60c-8bad-473b-9f26-e5f0701ee8c4"
      },
      "source": [
        "print('log(|x|)')\n",
        "sns.boxplot(np.log(np.abs(x)))"
      ],
      "execution_count": 37,
      "outputs": [
        {
          "output_type": "stream",
          "text": [
            "log(|x|)\n"
          ],
          "name": "stdout"
        },
        {
          "output_type": "execute_result",
          "data": {
            "text/plain": [
              "<matplotlib.axes._subplots.AxesSubplot at 0x7f8c07ada780>"
            ]
          },
          "metadata": {
            "tags": []
          },
          "execution_count": 37
        },
        {
          "output_type": "display_data",
          "data": {
            "image/png": "[encoded data removed]",
            "text/plain": [
              "<Figure size 432x288 with 1 Axes>"
            ]
          },
          "metadata": {
            "tags": []
          }
        }
      ]
    },
    {
      "cell_type": "markdown",
      "metadata": {
        "id": "fOgEapW0Gl8E",
        "colab_type": "text"
      },
      "source": [
        "#### Como puedes observar, las transformaciones funcionales de la variable x alteran la forma de los boxplots. Existen ocasiones donde es conveniente visualizar nuestras variables bajo diferentes transformaciones. En especial cuando creamos nuevas variables."
      ]
    },
    {
      "cell_type": "markdown",
      "metadata": {
        "id": "zF8hbvMPHlyc",
        "colab_type": "text"
      },
      "source": [
        "### Observemos que pasa con la variable y ~ N(10,10)"
      ]
    },
    {
      "cell_type": "code",
      "metadata": {
        "id": "cJTb8ivkHMQw",
        "colab_type": "code",
        "colab": {
          "base_uri": "https://localhost:8080/",
          "height": 293
        },
        "outputId": "451e179d-3c56-4936-9ff7-eb8edfec1c04"
      },
      "source": [
        "# Crear la semilla\n",
        "np.random.seed(32445)\n",
        "# y~Normal(10,10)\n",
        "y = np.random.normal(loc=10, scale=10, size=n)\n",
        "\n",
        "sns.boxplot(y)"
      ],
      "execution_count": 42,
      "outputs": [
        {
          "output_type": "execute_result",
          "data": {
            "text/plain": [
              "<matplotlib.axes._subplots.AxesSubplot at 0x7f8c07682438>"
            ]
          },
          "metadata": {
            "tags": []
          },
          "execution_count": 42
        },
        {
          "output_type": "display_data",
          "data": {
            "image/png": "[encoded data removed]",
            "text/plain": [
              "<Figure size 432x288 with 1 Axes>"
            ]
          },
          "metadata": {
            "tags": []
          }
        }
      ]
    },
    {
      "cell_type": "markdown",
      "metadata": {
        "id": "w41JabpFHqjh",
        "colab_type": "text"
      },
      "source": [
        "#### Que pasa si a y le restamos su media, y la dividimos entre su std?"
      ]
    },
    {
      "cell_type": "code",
      "metadata": {
        "id": "I2DnfLALHYNR",
        "colab_type": "code",
        "colab": {
          "base_uri": "https://localhost:8080/",
          "height": 293
        },
        "outputId": "f12057a2-501c-4373-88d2-f98fcb0cc897"
      },
      "source": [
        "# Y normalizada\n",
        "sns.boxplot((y-np.mean(y))/np.std(y))"
      ],
      "execution_count": 43,
      "outputs": [
        {
          "output_type": "execute_result",
          "data": {
            "text/plain": [
              "<matplotlib.axes._subplots.AxesSubplot at 0x7f8c0763fe80>"
            ]
          },
          "metadata": {
            "tags": []
          },
          "execution_count": 43
        },
        {
          "output_type": "display_data",
          "data": {
            "image/png": "[encoded data removed]",
            "text/plain": [
              "<Figure size 432x288 with 1 Axes>"
            ]
          },
          "metadata": {
            "tags": []
          }
        }
      ]
    },
    {
      "cell_type": "markdown",
      "metadata": {
        "id": "f91wMIorH8vV",
        "colab_type": "text"
      },
      "source": [
        "Que pasa si aumentamos la varianza, pero dejamos constante la media?\n"
      ]
    },
    {
      "cell_type": "code",
      "metadata": {
        "id": "p9_cW7OCIFaS",
        "colab_type": "code",
        "colab": {
          "base_uri": "https://localhost:8080/",
          "height": 293
        },
        "outputId": "9f5e9007-3241-4f18-9784-93fe1b33f735"
      },
      "source": [
        "np.random.seed(4245)\n",
        "# z~Normal(10,1000)\n",
        "z = np.random.normal(loc=10, scale=1000, size=n)\n",
        "sns.boxplot(z)"
      ],
      "execution_count": 46,
      "outputs": [
        {
          "output_type": "execute_result",
          "data": {
            "text/plain": [
              "<matplotlib.axes._subplots.AxesSubplot at 0x7f8c074e59e8>"
            ]
          },
          "metadata": {
            "tags": []
          },
          "execution_count": 46
        },
        {
          "output_type": "display_data",
          "data": {
            "image/png": "[encoded data removed]",
            "text/plain": [
              "<Figure size 432x288 with 1 Axes>"
            ]
          },
          "metadata": {
            "tags": []
          }
        }
      ]
    },
    {
      "cell_type": "code",
      "metadata": {
        "id": "AnZ6Fs1qISG0",
        "colab_type": "code",
        "colab": {
          "base_uri": "https://localhost:8080/",
          "height": 293
        },
        "outputId": "35373139-22da-4eb3-ebcf-a14f57782419"
      },
      "source": [
        "# Z normalizada\n",
        "sns.boxplot((z-np.mean(z))/np.std(z))"
      ],
      "execution_count": 48,
      "outputs": [
        {
          "output_type": "execute_result",
          "data": {
            "text/plain": [
              "<matplotlib.axes._subplots.AxesSubplot at 0x7f8c0758fa90>"
            ]
          },
          "metadata": {
            "tags": []
          },
          "execution_count": 48
        },
        {
          "output_type": "display_data",
          "data": {
            "image/png": "[encoded data removed]",
            "text/plain": [
              "<Figure size 432x288 with 1 Axes>"
            ]
          },
          "metadata": {
            "tags": []
          }
        }
      ]
    },
    {
      "cell_type": "markdown",
      "metadata": {
        "id": "zJ-mxvG5IWxl",
        "colab_type": "text"
      },
      "source": [
        "Como puedes observar, la forma del boxplot no se ve demasiado alterada cuando restamos la media y dividimos la variable entre su std. Aunque, la escala si se ve alterada.\n",
        "\n",
        "#### Pero, que pasa si la variable no se distribuye normal?\n"
      ]
    },
    {
      "cell_type": "code",
      "metadata": {
        "id": "V9KeiOG7In2J",
        "colab_type": "code",
        "colab": {
          "base_uri": "https://localhost:8080/",
          "height": 293
        },
        "outputId": "1de6c4fb-f819-4a37-b52b-a5e6667b240a"
      },
      "source": [
        "np.random.seed(987)\n",
        "\n",
        "w = np.random.chisquare(4,n)\n",
        "sns.boxplot(w)"
      ],
      "execution_count": 64,
      "outputs": [
        {
          "output_type": "execute_result",
          "data": {
            "text/plain": [
              "<matplotlib.axes._subplots.AxesSubplot at 0x7f8c07206ac8>"
            ]
          },
          "metadata": {
            "tags": []
          },
          "execution_count": 64
        },
        {
          "output_type": "display_data",
          "data": {
            "image/png": "[encoded data removed]",
            "text/plain": [
              "<Figure size 432x288 with 1 Axes>"
            ]
          },
          "metadata": {
            "tags": []
          }
        }
      ]
    },
    {
      "cell_type": "code",
      "metadata": {
        "id": "GAxPiW37I8Zy",
        "colab_type": "code",
        "colab": {
          "base_uri": "https://localhost:8080/",
          "height": 293
        },
        "outputId": "6b9e1b2f-dd4a-4c95-c332-bbacf0e5c103"
      },
      "source": [
        "sns.boxplot((w-np.mean(w))/np.std(w))"
      ],
      "execution_count": 65,
      "outputs": [
        {
          "output_type": "execute_result",
          "data": {
            "text/plain": [
              "<matplotlib.axes._subplots.AxesSubplot at 0x7f8c06fb6be0>"
            ]
          },
          "metadata": {
            "tags": []
          },
          "execution_count": 65
        },
        {
          "output_type": "display_data",
          "data": {
            "image/png": "[encoded data removed]",
            "text/plain": [
              "<Figure size 432x288 with 1 Axes>"
            ]
          },
          "metadata": {
            "tags": []
          }
        }
      ]
    },
    {
      "cell_type": "markdown",
      "metadata": {
        "id": "xJWDM1JdKCKl",
        "colab_type": "text"
      },
      "source": [
        "Parece que la forma del boxplot no se ve alterada sustancialmente. Si lo piensas detenidamente, unicamente estamos restando una constante, y luego multiplicamos por otra."
      ]
    },
    {
      "cell_type": "markdown",
      "metadata": {
        "id": "dBwQqCdYKppv",
        "colab_type": "text"
      },
      "source": [
        "## Existen muchas transformaciones que podemos aplicar a nuestras variables. Si tienes duda de que podria pasar, te recomendamos jugar/graficar para obetener intuicion.\n"
      ]
    }
  ]
}