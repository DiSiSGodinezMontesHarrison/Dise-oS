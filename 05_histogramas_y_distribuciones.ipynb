{
  "nbformat": 4,
  "nbformat_minor": 0,
  "metadata": {
    "colab": {
      "name": "05_histogramas_y_distribuciones",
      "provenance": [],
      "collapsed_sections": []
    },
    "kernelspec": {
      "name": "python3",
      "display_name": "Python 3"
    }
  },
  "cells": [
    {
      "cell_type": "code",
      "metadata": {
        "id": "pxvlZY9wE77X",
        "colab_type": "code",
        "colab": {}
      },
      "source": [
        "# Importo las librerias que usare en este notebook\n",
        "import pandas as pd\n",
        "import numpy as np\n",
        "import datetime\n",
        "\n",
        "import matplotlib.pyplot as plt\n",
        "%matplotlib inline\n",
        "import seaborn as sns\n",
        "sns.set_style('darkgrid')\n"
      ],
      "execution_count": 2,
      "outputs": []
    },
    {
      "cell_type": "markdown",
      "metadata": {
        "id": "LdnpSG5o7bRw",
        "colab_type": "text"
      },
      "source": [
        "# Seccion 1"
      ]
    },
    {
      "cell_type": "markdown",
      "metadata": {
        "id": "fDqOnDnK7pnK",
        "colab_type": "text"
      },
      "source": [
        "### Repasemos algunas propiedades de los estadisticos\n",
        "Si lo deseas puedes reviar la documentacion de Numpy y ver las caracteristicas de la funcion normal: https://numpy.org/doc/stable/reference/random/generated/numpy.random.normal.html"
      ]
    },
    {
      "cell_type": "code",
      "metadata": {
        "id": "v4Yv9ZMN-U0C",
        "colab_type": "code",
        "colab": {}
      },
      "source": [
        "def statistics(x):\n",
        "  print('Media Muestral: ',x.mean())\n",
        "  print('Varianza Muestral: ',x.var())"
      ],
      "execution_count": null,
      "outputs": []
    },
    {
      "cell_type": "code",
      "metadata": {
        "id": "OFR_Nccz7h6o",
        "colab_type": "code",
        "colab": {
          "base_uri": "https://localhost:8080/",
          "height": 69
        },
        "outputId": "6e0d5c4a-71ad-44fc-f3e7-3020a483267c"
      },
      "source": [
        "# Crear la semilla\n",
        "np.random.seed(3245)\n",
        "n= 1000\n",
        "# x~Normal(0,1)\n",
        "x = np.random.normal(loc=0, scale=1, size=n)\n",
        "print('Normal(0,1)')\n",
        "print('Media Muestral: ',x.mean())\n",
        "print('Varianza Muestral: ',x.var())\n"
      ],
      "execution_count": 14,
      "outputs": [
        {
          "output_type": "stream",
          "text": [
            "Normal(0,1)\n",
            "Media Muestral:  0.006479187983895233\n",
            "Varianza Muestral:  0.9956471749641369\n"
          ],
          "name": "stdout"
        }
      ]
    },
    {
      "cell_type": "markdown",
      "metadata": {
        "id": "RVzgqPV3-N5F",
        "colab_type": "text"
      },
      "source": [
        "#### Que pasa si multiplicamos x por una constante C?"
      ]
    }
  ]
}